{
 "cells": [
  {
   "cell_type": "code",
   "execution_count": 1,
   "id": "4aac682f",
   "metadata": {
    "ExecuteTime": {
     "end_time": "2022-02-17T04:31:22.144586Z",
     "start_time": "2022-02-17T04:31:20.162163Z"
    }
   },
   "outputs": [],
   "source": [
    "import pandas as pd\n",
    "import numpy as np\n",
    "from mpl_toolkits.mplot3d import Axes3D\n",
    "import matplotlib.pyplot as plt\n",
    "%matplotlib inline\n",
    "from sklearn.utils import class_weight\n",
    "from sklearn.model_selection import train_test_split\n",
    "from sklearn.feature_extraction.text import TfidfVectorizer\n",
    "from sklearn.naive_bayes import MultinomialNB\n",
    "from sklearn.model_selection import cross_val_score\n",
    "from sklearn.manifold import TSNE\n",
    "from nltk.tokenize import word_tokenize\n",
    "from nltk.tokenize import RegexpTokenizer\n",
    "from imblearn.over_sampling import SMOTE\n",
    "import string\n",
    "from nltk import FreqDist\n",
    "from nltk.corpus import stopwords\n",
    "from nltk.stem import SnowballStemmer\n",
    "from nltk.stem import WordNetLemmatizer\n",
    "from sklearn.metrics import classification_report\n",
    "from sklearn.metrics import plot_confusion_matrix\n",
    "import matplotlib.pyplot as plt\n",
    "from sklearn import svm\n",
    "from collections import Counter\n",
    "from imblearn.under_sampling import NearMiss\n",
    "from sklearn.neighbors import KNeighborsClassifier"
   ]
  },
  {
   "cell_type": "code",
   "execution_count": 2,
   "id": "3ba142ca",
   "metadata": {
    "ExecuteTime": {
     "end_time": "2022-02-17T04:31:22.184348Z",
     "start_time": "2022-02-17T04:31:22.147095Z"
    }
   },
   "outputs": [
    {
     "data": {
      "text/html": [
       "<div>\n",
       "<style scoped>\n",
       "    .dataframe tbody tr th:only-of-type {\n",
       "        vertical-align: middle;\n",
       "    }\n",
       "\n",
       "    .dataframe tbody tr th {\n",
       "        vertical-align: top;\n",
       "    }\n",
       "\n",
       "    .dataframe thead th {\n",
       "        text-align: right;\n",
       "    }\n",
       "</style>\n",
       "<table border=\"1\" class=\"dataframe\">\n",
       "  <thead>\n",
       "    <tr style=\"text-align: right;\">\n",
       "      <th></th>\n",
       "      <th>tweet_text</th>\n",
       "      <th>emotion_in_tweet_is_directed_at</th>\n",
       "      <th>is_there_an_emotion_directed_at_a_brand_or_product</th>\n",
       "    </tr>\n",
       "  </thead>\n",
       "  <tbody>\n",
       "    <tr>\n",
       "      <th>0</th>\n",
       "      <td>.@wesley83 I have a 3G iPhone. After 3 hrs twe...</td>\n",
       "      <td>iPhone</td>\n",
       "      <td>Negative emotion</td>\n",
       "    </tr>\n",
       "    <tr>\n",
       "      <th>1</th>\n",
       "      <td>@jessedee Know about @fludapp ? Awesome iPad/i...</td>\n",
       "      <td>iPad or iPhone App</td>\n",
       "      <td>Positive emotion</td>\n",
       "    </tr>\n",
       "    <tr>\n",
       "      <th>2</th>\n",
       "      <td>@swonderlin Can not wait for #iPad 2 also. The...</td>\n",
       "      <td>iPad</td>\n",
       "      <td>Positive emotion</td>\n",
       "    </tr>\n",
       "    <tr>\n",
       "      <th>3</th>\n",
       "      <td>@sxsw I hope this year's festival isn't as cra...</td>\n",
       "      <td>iPad or iPhone App</td>\n",
       "      <td>Negative emotion</td>\n",
       "    </tr>\n",
       "    <tr>\n",
       "      <th>4</th>\n",
       "      <td>@sxtxstate great stuff on Fri #SXSW: Marissa M...</td>\n",
       "      <td>Google</td>\n",
       "      <td>Positive emotion</td>\n",
       "    </tr>\n",
       "    <tr>\n",
       "      <th>...</th>\n",
       "      <td>...</td>\n",
       "      <td>...</td>\n",
       "      <td>...</td>\n",
       "    </tr>\n",
       "    <tr>\n",
       "      <th>8709</th>\n",
       "      <td>Diller says Google TV &amp;quot;might be run over ...</td>\n",
       "      <td>Other Google product or service</td>\n",
       "      <td>Negative emotion</td>\n",
       "    </tr>\n",
       "    <tr>\n",
       "      <th>8710</th>\n",
       "      <td>Google says reports about launch of Circles so...</td>\n",
       "      <td>NaN</td>\n",
       "      <td>No emotion toward brand or product</td>\n",
       "    </tr>\n",
       "    <tr>\n",
       "      <th>8711</th>\n",
       "      <td>Google says the future is all around you! (ie,...</td>\n",
       "      <td>NaN</td>\n",
       "      <td>No emotion toward brand or product</td>\n",
       "    </tr>\n",
       "    <tr>\n",
       "      <th>8712</th>\n",
       "      <td>Google says the future is location, location, ...</td>\n",
       "      <td>NaN</td>\n",
       "      <td>No emotion toward brand or product</td>\n",
       "    </tr>\n",
       "    <tr>\n",
       "      <th>8713</th>\n",
       "      <td>I've always used Camera+ for my iPhone b/c it ...</td>\n",
       "      <td>iPad or iPhone App</td>\n",
       "      <td>Positive emotion</td>\n",
       "    </tr>\n",
       "  </tbody>\n",
       "</table>\n",
       "<p>8714 rows × 3 columns</p>\n",
       "</div>"
      ],
      "text/plain": [
       "                                             tweet_text  \\\n",
       "0     .@wesley83 I have a 3G iPhone. After 3 hrs twe...   \n",
       "1     @jessedee Know about @fludapp ? Awesome iPad/i...   \n",
       "2     @swonderlin Can not wait for #iPad 2 also. The...   \n",
       "3     @sxsw I hope this year's festival isn't as cra...   \n",
       "4     @sxtxstate great stuff on Fri #SXSW: Marissa M...   \n",
       "...                                                 ...   \n",
       "8709  Diller says Google TV &quot;might be run over ...   \n",
       "8710  Google says reports about launch of Circles so...   \n",
       "8711  Google says the future is all around you! (ie,...   \n",
       "8712  Google says the future is location, location, ...   \n",
       "8713  I've always used Camera+ for my iPhone b/c it ...   \n",
       "\n",
       "      emotion_in_tweet_is_directed_at  \\\n",
       "0                              iPhone   \n",
       "1                  iPad or iPhone App   \n",
       "2                                iPad   \n",
       "3                  iPad or iPhone App   \n",
       "4                              Google   \n",
       "...                               ...   \n",
       "8709  Other Google product or service   \n",
       "8710                              NaN   \n",
       "8711                              NaN   \n",
       "8712                              NaN   \n",
       "8713               iPad or iPhone App   \n",
       "\n",
       "     is_there_an_emotion_directed_at_a_brand_or_product  \n",
       "0                                      Negative emotion  \n",
       "1                                      Positive emotion  \n",
       "2                                      Positive emotion  \n",
       "3                                      Negative emotion  \n",
       "4                                      Positive emotion  \n",
       "...                                                 ...  \n",
       "8709                                   Negative emotion  \n",
       "8710                 No emotion toward brand or product  \n",
       "8711                 No emotion toward brand or product  \n",
       "8712                 No emotion toward brand or product  \n",
       "8713                                   Positive emotion  \n",
       "\n",
       "[8714 rows x 3 columns]"
      ]
     },
     "execution_count": 2,
     "metadata": {},
     "output_type": "execute_result"
    }
   ],
   "source": [
    "df = pd.read_csv('data/judge_1377884607_tweet_product_company.csv')\n",
    "df.head(-7)"
   ]
  },
  {
   "cell_type": "code",
   "execution_count": 3,
   "id": "c9496ca5",
   "metadata": {
    "ExecuteTime": {
     "end_time": "2022-02-17T04:31:22.195604Z",
     "start_time": "2022-02-17T04:31:22.187225Z"
    }
   },
   "outputs": [
    {
     "name": "stdout",
     "output_type": "stream",
     "text": [
      "<class 'pandas.core.frame.DataFrame'>\n",
      "RangeIndex: 8721 entries, 0 to 8720\n",
      "Data columns (total 3 columns):\n",
      " #   Column                                              Non-Null Count  Dtype \n",
      "---  ------                                              --------------  ----- \n",
      " 0   tweet_text                                          8720 non-null   object\n",
      " 1   emotion_in_tweet_is_directed_at                     3169 non-null   object\n",
      " 2   is_there_an_emotion_directed_at_a_brand_or_product  8721 non-null   object\n",
      "dtypes: object(3)\n",
      "memory usage: 204.5+ KB\n"
     ]
    }
   ],
   "source": [
    "df.info()"
   ]
  },
  {
   "cell_type": "code",
   "execution_count": 4,
   "id": "6143a7e4",
   "metadata": {
    "ExecuteTime": {
     "end_time": "2022-02-17T04:31:22.200614Z",
     "start_time": "2022-02-17T04:31:22.197296Z"
    }
   },
   "outputs": [
    {
     "data": {
      "text/plain": [
       "Index(['tweet_text', 'emotion_in_tweet_is_directed_at',\n",
       "       'is_there_an_emotion_directed_at_a_brand_or_product'],\n",
       "      dtype='object')"
      ]
     },
     "execution_count": 4,
     "metadata": {},
     "output_type": "execute_result"
    }
   ],
   "source": [
    "df.columns"
   ]
  },
  {
   "cell_type": "code",
   "execution_count": 5,
   "id": "415a6187",
   "metadata": {
    "ExecuteTime": {
     "end_time": "2022-02-17T04:31:22.206582Z",
     "start_time": "2022-02-17T04:31:22.201783Z"
    }
   },
   "outputs": [
    {
     "data": {
      "text/plain": [
       "iPad                               910\n",
       "Apple                              640\n",
       "iPad or iPhone App                 451\n",
       "Google                             412\n",
       "iPhone                             288\n",
       "Other Google product or service    282\n",
       "Android App                         78\n",
       "Android                             74\n",
       "Other Apple product or service      34\n",
       "Name: emotion_in_tweet_is_directed_at, dtype: int64"
      ]
     },
     "execution_count": 5,
     "metadata": {},
     "output_type": "execute_result"
    }
   ],
   "source": [
    "df.emotion_in_tweet_is_directed_at.value_counts()"
   ]
  },
  {
   "cell_type": "code",
   "execution_count": 6,
   "id": "e48f839d",
   "metadata": {
    "ExecuteTime": {
     "end_time": "2022-02-17T04:31:22.212223Z",
     "start_time": "2022-02-17T04:31:22.207828Z"
    }
   },
   "outputs": [
    {
     "data": {
      "text/plain": [
       "No emotion toward brand or product    5156\n",
       "Positive emotion                      2869\n",
       "Negative emotion                       545\n",
       "I can't tell                           151\n",
       "Name: is_there_an_emotion_directed_at_a_brand_or_product, dtype: int64"
      ]
     },
     "execution_count": 6,
     "metadata": {},
     "output_type": "execute_result"
    }
   ],
   "source": [
    "df.is_there_an_emotion_directed_at_a_brand_or_product.value_counts()"
   ]
  },
  {
   "cell_type": "code",
   "execution_count": 7,
   "id": "d42c8d00",
   "metadata": {
    "ExecuteTime": {
     "end_time": "2022-02-17T04:31:22.218228Z",
     "start_time": "2022-02-17T04:31:22.213668Z"
    }
   },
   "outputs": [],
   "source": [
    "pos_neg = df[df['is_there_an_emotion_directed_at_a_brand_or_product'] != \"I can't tell\"]"
   ]
  },
  {
   "cell_type": "code",
   "execution_count": 8,
   "id": "70f4ca52",
   "metadata": {
    "ExecuteTime": {
     "end_time": "2022-02-17T04:31:22.223213Z",
     "start_time": "2022-02-17T04:31:22.219282Z"
    }
   },
   "outputs": [],
   "source": [
    "pos_neg = pos_neg[pos_neg['is_there_an_emotion_directed_at_a_brand_or_product'] != \"No emotion toward brand or product\"]"
   ]
  },
  {
   "cell_type": "markdown",
   "id": "ecfd215d",
   "metadata": {},
   "source": [
    "### Heavily imbalanced datset"
   ]
  },
  {
   "cell_type": "code",
   "execution_count": 9,
   "id": "3a3836d2",
   "metadata": {
    "ExecuteTime": {
     "end_time": "2022-02-17T04:31:22.229412Z",
     "start_time": "2022-02-17T04:31:22.224457Z"
    }
   },
   "outputs": [
    {
     "data": {
      "text/plain": [
       "Positive emotion    0.840363\n",
       "Negative emotion    0.159637\n",
       "Name: is_there_an_emotion_directed_at_a_brand_or_product, dtype: float64"
      ]
     },
     "execution_count": 9,
     "metadata": {},
     "output_type": "execute_result"
    }
   ],
   "source": [
    "pos_neg.is_there_an_emotion_directed_at_a_brand_or_product.value_counts(normalize=True)"
   ]
  },
  {
   "cell_type": "code",
   "execution_count": null,
   "id": "c7e2355c",
   "metadata": {},
   "outputs": [],
   "source": []
  },
  {
   "cell_type": "markdown",
   "id": "6bfeda20",
   "metadata": {},
   "source": [
    "### More Data Cleaning"
   ]
  },
  {
   "cell_type": "code",
   "execution_count": 10,
   "id": "46139290",
   "metadata": {
    "ExecuteTime": {
     "end_time": "2022-02-17T04:31:22.239785Z",
     "start_time": "2022-02-17T04:31:22.230687Z"
    }
   },
   "outputs": [
    {
     "data": {
      "text/html": [
       "<div>\n",
       "<style scoped>\n",
       "    .dataframe tbody tr th:only-of-type {\n",
       "        vertical-align: middle;\n",
       "    }\n",
       "\n",
       "    .dataframe tbody tr th {\n",
       "        vertical-align: top;\n",
       "    }\n",
       "\n",
       "    .dataframe thead th {\n",
       "        text-align: right;\n",
       "    }\n",
       "</style>\n",
       "<table border=\"1\" class=\"dataframe\">\n",
       "  <thead>\n",
       "    <tr style=\"text-align: right;\">\n",
       "      <th></th>\n",
       "      <th>text</th>\n",
       "      <th>target</th>\n",
       "    </tr>\n",
       "  </thead>\n",
       "  <tbody>\n",
       "    <tr>\n",
       "      <th>0</th>\n",
       "      <td>.@wesley83 I have a 3G iPhone. After 3 hrs twe...</td>\n",
       "      <td>Negative emotion</td>\n",
       "    </tr>\n",
       "    <tr>\n",
       "      <th>1</th>\n",
       "      <td>@jessedee Know about @fludapp ? Awesome iPad/i...</td>\n",
       "      <td>Positive emotion</td>\n",
       "    </tr>\n",
       "    <tr>\n",
       "      <th>2</th>\n",
       "      <td>@swonderlin Can not wait for #iPad 2 also. The...</td>\n",
       "      <td>Positive emotion</td>\n",
       "    </tr>\n",
       "    <tr>\n",
       "      <th>3</th>\n",
       "      <td>@sxsw I hope this year's festival isn't as cra...</td>\n",
       "      <td>Negative emotion</td>\n",
       "    </tr>\n",
       "    <tr>\n",
       "      <th>4</th>\n",
       "      <td>@sxtxstate great stuff on Fri #SXSW: Marissa M...</td>\n",
       "      <td>Positive emotion</td>\n",
       "    </tr>\n",
       "  </tbody>\n",
       "</table>\n",
       "</div>"
      ],
      "text/plain": [
       "                                                text            target\n",
       "0  .@wesley83 I have a 3G iPhone. After 3 hrs twe...  Negative emotion\n",
       "1  @jessedee Know about @fludapp ? Awesome iPad/i...  Positive emotion\n",
       "2  @swonderlin Can not wait for #iPad 2 also. The...  Positive emotion\n",
       "3  @sxsw I hope this year's festival isn't as cra...  Negative emotion\n",
       "4  @sxtxstate great stuff on Fri #SXSW: Marissa M...  Positive emotion"
      ]
     },
     "execution_count": 10,
     "metadata": {},
     "output_type": "execute_result"
    }
   ],
   "source": [
    "pos_neg = pos_neg.drop('emotion_in_tweet_is_directed_at', axis=1)\n",
    "pos_neg = pos_neg.rename(columns={'tweet_text':'text', 'is_there_an_emotion_directed_at_a_brand_or_product':'target'})\n",
    "pos_neg.head()"
   ]
  },
  {
   "cell_type": "code",
   "execution_count": 11,
   "id": "68774c47",
   "metadata": {
    "ExecuteTime": {
     "end_time": "2022-02-17T04:31:22.247238Z",
     "start_time": "2022-02-17T04:31:22.241530Z"
    }
   },
   "outputs": [],
   "source": [
    "def remove_ats_and_hashtags(text):\n",
    "    entity_prefixes = ['@','#','�']\n",
    "    for separator in  string.punctuation:\n",
    "        if separator not in entity_prefixes :\n",
    "            text = text.replace(separator,' ')\n",
    "    words = []\n",
    "    for word in text.split():\n",
    "        word = word.strip()\n",
    "        if word:\n",
    "            if word[0] not in entity_prefixes:\n",
    "                words.append(word)\n",
    "    return ' '.join(words)"
   ]
  },
  {
   "cell_type": "code",
   "execution_count": 12,
   "id": "e4998c5d",
   "metadata": {
    "ExecuteTime": {
     "end_time": "2022-02-17T04:31:22.286831Z",
     "start_time": "2022-02-17T04:31:22.251821Z"
    }
   },
   "outputs": [],
   "source": [
    "pos_neg['text'] = pos_neg['text'].map(remove_ats_and_hashtags)"
   ]
  },
  {
   "cell_type": "code",
   "execution_count": 13,
   "id": "8ee180d1",
   "metadata": {
    "ExecuteTime": {
     "end_time": "2022-02-17T04:31:22.292462Z",
     "start_time": "2022-02-17T04:31:22.288274Z"
    }
   },
   "outputs": [],
   "source": [
    "pos_neg.replace({'Negative emotion' : 0, 'Positive emotion' : 1}, inplace=True)"
   ]
  },
  {
   "cell_type": "code",
   "execution_count": 14,
   "id": "51ca64a3",
   "metadata": {
    "ExecuteTime": {
     "end_time": "2022-02-17T04:31:22.297561Z",
     "start_time": "2022-02-17T04:31:22.293926Z"
    }
   },
   "outputs": [],
   "source": [
    "pos_neg['text'] = pos_neg['text'].str.lower()"
   ]
  },
  {
   "cell_type": "code",
   "execution_count": 15,
   "id": "a7252539",
   "metadata": {
    "ExecuteTime": {
     "end_time": "2022-02-17T04:31:22.307180Z",
     "start_time": "2022-02-17T04:31:22.299164Z"
    }
   },
   "outputs": [
    {
     "data": {
      "text/html": [
       "<div>\n",
       "<style scoped>\n",
       "    .dataframe tbody tr th:only-of-type {\n",
       "        vertical-align: middle;\n",
       "    }\n",
       "\n",
       "    .dataframe tbody tr th {\n",
       "        vertical-align: top;\n",
       "    }\n",
       "\n",
       "    .dataframe thead th {\n",
       "        text-align: right;\n",
       "    }\n",
       "</style>\n",
       "<table border=\"1\" class=\"dataframe\">\n",
       "  <thead>\n",
       "    <tr style=\"text-align: right;\">\n",
       "      <th></th>\n",
       "      <th>text</th>\n",
       "      <th>target</th>\n",
       "    </tr>\n",
       "  </thead>\n",
       "  <tbody>\n",
       "    <tr>\n",
       "      <th>0</th>\n",
       "      <td>i have a 3g iphone after 3 hrs tweeting at aus...</td>\n",
       "      <td>0</td>\n",
       "    </tr>\n",
       "    <tr>\n",
       "      <th>1</th>\n",
       "      <td>know about awesome ipad iphone app that you ll...</td>\n",
       "      <td>1</td>\n",
       "    </tr>\n",
       "    <tr>\n",
       "      <th>2</th>\n",
       "      <td>can not wait for 2 also they should sale them ...</td>\n",
       "      <td>1</td>\n",
       "    </tr>\n",
       "    <tr>\n",
       "      <th>3</th>\n",
       "      <td>i hope this year s festival isn t as crashy as...</td>\n",
       "      <td>0</td>\n",
       "    </tr>\n",
       "    <tr>\n",
       "      <th>4</th>\n",
       "      <td>great stuff on fri marissa mayer google tim o ...</td>\n",
       "      <td>1</td>\n",
       "    </tr>\n",
       "  </tbody>\n",
       "</table>\n",
       "</div>"
      ],
      "text/plain": [
       "                                                text  target\n",
       "0  i have a 3g iphone after 3 hrs tweeting at aus...       0\n",
       "1  know about awesome ipad iphone app that you ll...       1\n",
       "2  can not wait for 2 also they should sale them ...       1\n",
       "3  i hope this year s festival isn t as crashy as...       0\n",
       "4  great stuff on fri marissa mayer google tim o ...       1"
      ]
     },
     "execution_count": 15,
     "metadata": {},
     "output_type": "execute_result"
    }
   ],
   "source": [
    "pos_neg.head()"
   ]
  },
  {
   "cell_type": "markdown",
   "id": "e8f0df88",
   "metadata": {},
   "source": [
    "### Exploring our Words"
   ]
  },
  {
   "cell_type": "code",
   "execution_count": 16,
   "id": "98772ce2",
   "metadata": {
    "ExecuteTime": {
     "end_time": "2022-02-17T04:31:22.641275Z",
     "start_time": "2022-02-17T04:31:22.308506Z"
    }
   },
   "outputs": [],
   "source": [
    "pos_neg['text_tokenized'] = pos_neg['text'].apply(word_tokenize)"
   ]
  },
  {
   "cell_type": "code",
   "execution_count": 17,
   "id": "8ace004e",
   "metadata": {
    "ExecuteTime": {
     "end_time": "2022-02-17T04:31:22.678661Z",
     "start_time": "2022-02-17T04:31:22.644079Z"
    }
   },
   "outputs": [],
   "source": [
    "pos_neg_freq_dist = FreqDist(pos_neg['text_tokenized'].explode())"
   ]
  },
  {
   "cell_type": "code",
   "execution_count": 18,
   "id": "8198ed21",
   "metadata": {
    "ExecuteTime": {
     "end_time": "2022-02-17T04:31:22.684200Z",
     "start_time": "2022-02-17T04:31:22.680599Z"
    }
   },
   "outputs": [],
   "source": [
    "def visualize_top_20(freq_dist, title):\n",
    "\n",
    "    # Extract data for plotting\n",
    "    top_20 = list(zip(*freq_dist.most_common(20)))\n",
    "    tokens = top_20[0]\n",
    "    counts = top_20[1]\n",
    "\n",
    "    # Set up plot and plot data\n",
    "    fig, ax = plt.subplots(figsize=(20,10))\n",
    "    ax.bar(tokens, counts)\n",
    "\n",
    "    # Customize plot appearance\n",
    "    ax.set_title(title)\n",
    "    ax.set_ylabel(\"Count\")\n",
    "#     ax.yaxis.set_major_locator(MaxNLocator(integer=True))\n",
    "    ax.tick_params(axis=\"x\", rotation=90)"
   ]
  },
  {
   "cell_type": "code",
   "execution_count": 19,
   "id": "c3859bc2",
   "metadata": {
    "ExecuteTime": {
     "end_time": "2022-02-17T04:31:22.860005Z",
     "start_time": "2022-02-17T04:31:22.685394Z"
    }
   },
   "outputs": [
    {
     "data": {
      "image/png": "[encoded data removed]",
      "text/plain": [
       "<Figure size 1440x720 with 1 Axes>"
      ]
     },
     "metadata": {
      "needs_background": "light"
     },
     "output_type": "display_data"
    }
   ],
   "source": [
    "visualize_top_20(pos_neg_freq_dist, \"Top 20 Word Frequency\")"
   ]
  },
  {
   "cell_type": "markdown",
   "id": "d3080994",
   "metadata": {},
   "source": [
    "### Remove Stopwords"
   ]
  },
  {
   "cell_type": "code",
   "execution_count": 20,
   "id": "f075d416",
   "metadata": {
    "ExecuteTime": {
     "end_time": "2022-02-17T04:31:22.866230Z",
     "start_time": "2022-02-17T04:31:22.861291Z"
    }
   },
   "outputs": [],
   "source": [
    "stopwords_list = stopwords.words('english')\n",
    "stopwords_list += list(string.punctuation)\n",
    "new_stops = ('quot', 'rt', 'i')\n",
    "stopwords_list += list(new_stops)"
   ]
  },
  {
   "cell_type": "code",
   "execution_count": 21,
   "id": "ff581d51",
   "metadata": {
    "ExecuteTime": {
     "end_time": "2022-02-17T04:31:22.870309Z",
     "start_time": "2022-02-17T04:31:22.867452Z"
    }
   },
   "outputs": [],
   "source": [
    "def remove_stopwords(token_list):\n",
    "    \"\"\"\n",
    "    Given a list of tokens, return a list where the tokens\n",
    "    that are also present in stopwords_list have been\n",
    "    removed\n",
    "    \"\"\"\n",
    "    stops_rmv_list = [token for token in token_list if token not in stopwords_list]\n",
    "    return stops_rmv_list"
   ]
  },
  {
   "cell_type": "code",
   "execution_count": 22,
   "id": "b327dae3",
   "metadata": {
    "ExecuteTime": {
     "end_time": "2022-02-17T04:31:22.964878Z",
     "start_time": "2022-02-17T04:31:22.871461Z"
    }
   },
   "outputs": [],
   "source": [
    "pos_neg['stopwords_removed'] = pos_neg['text_tokenized'].apply(remove_stopwords)"
   ]
  },
  {
   "cell_type": "code",
   "execution_count": 23,
   "id": "5720210b",
   "metadata": {
    "ExecuteTime": {
     "end_time": "2022-02-17T04:31:22.972574Z",
     "start_time": "2022-02-17T04:31:22.967166Z"
    }
   },
   "outputs": [
    {
     "data": {
      "text/plain": [
       "0    [3g, iphone, 3, hrs, tweeting, austin, dead, n...\n",
       "1    [know, awesome, ipad, iphone, app, likely, app...\n",
       "2                                [wait, 2, also, sale]\n",
       "3    [hope, year, festival, crashy, year, iphone, app]\n",
       "4    [great, stuff, fri, marissa, mayer, google, ti...\n",
       "Name: stopwords_removed, dtype: object"
      ]
     },
     "execution_count": 23,
     "metadata": {},
     "output_type": "execute_result"
    }
   ],
   "source": [
    "pos_neg.stopwords_removed.head()"
   ]
  },
  {
   "cell_type": "code",
   "execution_count": null,
   "id": "360e5cc5",
   "metadata": {},
   "outputs": [],
   "source": []
  },
  {
   "cell_type": "markdown",
   "id": "ed5502bb",
   "metadata": {},
   "source": [
    "### Remove numbers and single letters"
   ]
  },
  {
   "cell_type": "code",
   "execution_count": 24,
   "id": "a6e5ae76",
   "metadata": {
    "ExecuteTime": {
     "end_time": "2022-02-17T04:31:22.976449Z",
     "start_time": "2022-02-17T04:31:22.974002Z"
    }
   },
   "outputs": [],
   "source": [
    "pattern = \"([a-z]{2,})\"\n",
    "regex_tokenizer = RegexpTokenizer(pattern)"
   ]
  },
  {
   "cell_type": "code",
   "execution_count": 25,
   "id": "6686f217",
   "metadata": {
    "ExecuteTime": {
     "end_time": "2022-02-17T04:31:22.982330Z",
     "start_time": "2022-02-17T04:31:22.977815Z"
    }
   },
   "outputs": [],
   "source": [
    "pos_neg['regex_text'] = [' '.join(text) for text in pos_neg.stopwords_removed]"
   ]
  },
  {
   "cell_type": "code",
   "execution_count": 26,
   "id": "6d46df75",
   "metadata": {
    "ExecuteTime": {
     "end_time": "2022-02-17T04:31:22.996611Z",
     "start_time": "2022-02-17T04:31:22.983612Z"
    }
   },
   "outputs": [],
   "source": [
    "pos_neg['regex_text_tokenized'] = [regex_tokenizer.tokenize(text) for text in pos_neg['regex_text']]"
   ]
  },
  {
   "cell_type": "code",
   "execution_count": 27,
   "id": "b3c5d327",
   "metadata": {
    "ExecuteTime": {
     "end_time": "2022-02-17T04:31:23.008390Z",
     "start_time": "2022-02-17T04:31:22.997822Z"
    }
   },
   "outputs": [
    {
     "data": {
      "text/html": [
       "<div>\n",
       "<style scoped>\n",
       "    .dataframe tbody tr th:only-of-type {\n",
       "        vertical-align: middle;\n",
       "    }\n",
       "\n",
       "    .dataframe tbody tr th {\n",
       "        vertical-align: top;\n",
       "    }\n",
       "\n",
       "    .dataframe thead th {\n",
       "        text-align: right;\n",
       "    }\n",
       "</style>\n",
       "<table border=\"1\" class=\"dataframe\">\n",
       "  <thead>\n",
       "    <tr style=\"text-align: right;\">\n",
       "      <th></th>\n",
       "      <th>text</th>\n",
       "      <th>target</th>\n",
       "      <th>text_tokenized</th>\n",
       "      <th>stopwords_removed</th>\n",
       "      <th>regex_text</th>\n",
       "      <th>regex_text_tokenized</th>\n",
       "    </tr>\n",
       "  </thead>\n",
       "  <tbody>\n",
       "    <tr>\n",
       "      <th>0</th>\n",
       "      <td>i have a 3g iphone after 3 hrs tweeting at aus...</td>\n",
       "      <td>0</td>\n",
       "      <td>[i, have, a, 3g, iphone, after, 3, hrs, tweeti...</td>\n",
       "      <td>[3g, iphone, 3, hrs, tweeting, austin, dead, n...</td>\n",
       "      <td>3g iphone 3 hrs tweeting austin dead need upgr...</td>\n",
       "      <td>[iphone, hrs, tweeting, austin, dead, need, up...</td>\n",
       "    </tr>\n",
       "    <tr>\n",
       "      <th>1</th>\n",
       "      <td>know about awesome ipad iphone app that you ll...</td>\n",
       "      <td>1</td>\n",
       "      <td>[know, about, awesome, ipad, iphone, app, that...</td>\n",
       "      <td>[know, awesome, ipad, iphone, app, likely, app...</td>\n",
       "      <td>know awesome ipad iphone app likely appreciate...</td>\n",
       "      <td>[know, awesome, ipad, iphone, app, likely, app...</td>\n",
       "    </tr>\n",
       "    <tr>\n",
       "      <th>2</th>\n",
       "      <td>can not wait for 2 also they should sale them ...</td>\n",
       "      <td>1</td>\n",
       "      <td>[can, not, wait, for, 2, also, they, should, s...</td>\n",
       "      <td>[wait, 2, also, sale]</td>\n",
       "      <td>wait 2 also sale</td>\n",
       "      <td>[wait, also, sale]</td>\n",
       "    </tr>\n",
       "    <tr>\n",
       "      <th>3</th>\n",
       "      <td>i hope this year s festival isn t as crashy as...</td>\n",
       "      <td>0</td>\n",
       "      <td>[i, hope, this, year, s, festival, isn, t, as,...</td>\n",
       "      <td>[hope, year, festival, crashy, year, iphone, app]</td>\n",
       "      <td>hope year festival crashy year iphone app</td>\n",
       "      <td>[hope, year, festival, crashy, year, iphone, app]</td>\n",
       "    </tr>\n",
       "    <tr>\n",
       "      <th>4</th>\n",
       "      <td>great stuff on fri marissa mayer google tim o ...</td>\n",
       "      <td>1</td>\n",
       "      <td>[great, stuff, on, fri, marissa, mayer, google...</td>\n",
       "      <td>[great, stuff, fri, marissa, mayer, google, ti...</td>\n",
       "      <td>great stuff fri marissa mayer google tim reill...</td>\n",
       "      <td>[great, stuff, fri, marissa, mayer, google, ti...</td>\n",
       "    </tr>\n",
       "  </tbody>\n",
       "</table>\n",
       "</div>"
      ],
      "text/plain": [
       "                                                text  target  \\\n",
       "0  i have a 3g iphone after 3 hrs tweeting at aus...       0   \n",
       "1  know about awesome ipad iphone app that you ll...       1   \n",
       "2  can not wait for 2 also they should sale them ...       1   \n",
       "3  i hope this year s festival isn t as crashy as...       0   \n",
       "4  great stuff on fri marissa mayer google tim o ...       1   \n",
       "\n",
       "                                      text_tokenized  \\\n",
       "0  [i, have, a, 3g, iphone, after, 3, hrs, tweeti...   \n",
       "1  [know, about, awesome, ipad, iphone, app, that...   \n",
       "2  [can, not, wait, for, 2, also, they, should, s...   \n",
       "3  [i, hope, this, year, s, festival, isn, t, as,...   \n",
       "4  [great, stuff, on, fri, marissa, mayer, google...   \n",
       "\n",
       "                                   stopwords_removed  \\\n",
       "0  [3g, iphone, 3, hrs, tweeting, austin, dead, n...   \n",
       "1  [know, awesome, ipad, iphone, app, likely, app...   \n",
       "2                              [wait, 2, also, sale]   \n",
       "3  [hope, year, festival, crashy, year, iphone, app]   \n",
       "4  [great, stuff, fri, marissa, mayer, google, ti...   \n",
       "\n",
       "                                          regex_text  \\\n",
       "0  3g iphone 3 hrs tweeting austin dead need upgr...   \n",
       "1  know awesome ipad iphone app likely appreciate...   \n",
       "2                                   wait 2 also sale   \n",
       "3          hope year festival crashy year iphone app   \n",
       "4  great stuff fri marissa mayer google tim reill...   \n",
       "\n",
       "                                regex_text_tokenized  \n",
       "0  [iphone, hrs, tweeting, austin, dead, need, up...  \n",
       "1  [know, awesome, ipad, iphone, app, likely, app...  \n",
       "2                                 [wait, also, sale]  \n",
       "3  [hope, year, festival, crashy, year, iphone, app]  \n",
       "4  [great, stuff, fri, marissa, mayer, google, ti...  "
      ]
     },
     "execution_count": 27,
     "metadata": {},
     "output_type": "execute_result"
    }
   ],
   "source": [
    "pos_neg.head()"
   ]
  },
  {
   "cell_type": "code",
   "execution_count": 28,
   "id": "b26094e1",
   "metadata": {
    "ExecuteTime": {
     "end_time": "2022-02-17T04:31:23.013639Z",
     "start_time": "2022-02-17T04:31:23.009668Z"
    }
   },
   "outputs": [],
   "source": [
    "pos_neg['regex_text'] = [' '.join(text) for text in pos_neg.regex_text_tokenized]"
   ]
  },
  {
   "cell_type": "code",
   "execution_count": 29,
   "id": "d6396c91",
   "metadata": {
    "ExecuteTime": {
     "end_time": "2022-02-17T04:31:23.028128Z",
     "start_time": "2022-02-17T04:31:23.014796Z"
    }
   },
   "outputs": [
    {
     "data": {
      "text/html": [
       "<div>\n",
       "<style scoped>\n",
       "    .dataframe tbody tr th:only-of-type {\n",
       "        vertical-align: middle;\n",
       "    }\n",
       "\n",
       "    .dataframe tbody tr th {\n",
       "        vertical-align: top;\n",
       "    }\n",
       "\n",
       "    .dataframe thead th {\n",
       "        text-align: right;\n",
       "    }\n",
       "</style>\n",
       "<table border=\"1\" class=\"dataframe\">\n",
       "  <thead>\n",
       "    <tr style=\"text-align: right;\">\n",
       "      <th></th>\n",
       "      <th>text</th>\n",
       "      <th>target</th>\n",
       "      <th>text_tokenized</th>\n",
       "      <th>stopwords_removed</th>\n",
       "      <th>regex_text</th>\n",
       "      <th>regex_text_tokenized</th>\n",
       "    </tr>\n",
       "  </thead>\n",
       "  <tbody>\n",
       "    <tr>\n",
       "      <th>0</th>\n",
       "      <td>i have a 3g iphone after 3 hrs tweeting at aus...</td>\n",
       "      <td>0</td>\n",
       "      <td>[i, have, a, 3g, iphone, after, 3, hrs, tweeti...</td>\n",
       "      <td>[3g, iphone, 3, hrs, tweeting, austin, dead, n...</td>\n",
       "      <td>iphone hrs tweeting austin dead need upgrade p...</td>\n",
       "      <td>[iphone, hrs, tweeting, austin, dead, need, up...</td>\n",
       "    </tr>\n",
       "    <tr>\n",
       "      <th>1</th>\n",
       "      <td>know about awesome ipad iphone app that you ll...</td>\n",
       "      <td>1</td>\n",
       "      <td>[know, about, awesome, ipad, iphone, app, that...</td>\n",
       "      <td>[know, awesome, ipad, iphone, app, likely, app...</td>\n",
       "      <td>know awesome ipad iphone app likely appreciate...</td>\n",
       "      <td>[know, awesome, ipad, iphone, app, likely, app...</td>\n",
       "    </tr>\n",
       "    <tr>\n",
       "      <th>2</th>\n",
       "      <td>can not wait for 2 also they should sale them ...</td>\n",
       "      <td>1</td>\n",
       "      <td>[can, not, wait, for, 2, also, they, should, s...</td>\n",
       "      <td>[wait, 2, also, sale]</td>\n",
       "      <td>wait also sale</td>\n",
       "      <td>[wait, also, sale]</td>\n",
       "    </tr>\n",
       "    <tr>\n",
       "      <th>3</th>\n",
       "      <td>i hope this year s festival isn t as crashy as...</td>\n",
       "      <td>0</td>\n",
       "      <td>[i, hope, this, year, s, festival, isn, t, as,...</td>\n",
       "      <td>[hope, year, festival, crashy, year, iphone, app]</td>\n",
       "      <td>hope year festival crashy year iphone app</td>\n",
       "      <td>[hope, year, festival, crashy, year, iphone, app]</td>\n",
       "    </tr>\n",
       "    <tr>\n",
       "      <th>4</th>\n",
       "      <td>great stuff on fri marissa mayer google tim o ...</td>\n",
       "      <td>1</td>\n",
       "      <td>[great, stuff, on, fri, marissa, mayer, google...</td>\n",
       "      <td>[great, stuff, fri, marissa, mayer, google, ti...</td>\n",
       "      <td>great stuff fri marissa mayer google tim reill...</td>\n",
       "      <td>[great, stuff, fri, marissa, mayer, google, ti...</td>\n",
       "    </tr>\n",
       "  </tbody>\n",
       "</table>\n",
       "</div>"
      ],
      "text/plain": [
       "                                                text  target  \\\n",
       "0  i have a 3g iphone after 3 hrs tweeting at aus...       0   \n",
       "1  know about awesome ipad iphone app that you ll...       1   \n",
       "2  can not wait for 2 also they should sale them ...       1   \n",
       "3  i hope this year s festival isn t as crashy as...       0   \n",
       "4  great stuff on fri marissa mayer google tim o ...       1   \n",
       "\n",
       "                                      text_tokenized  \\\n",
       "0  [i, have, a, 3g, iphone, after, 3, hrs, tweeti...   \n",
       "1  [know, about, awesome, ipad, iphone, app, that...   \n",
       "2  [can, not, wait, for, 2, also, they, should, s...   \n",
       "3  [i, hope, this, year, s, festival, isn, t, as,...   \n",
       "4  [great, stuff, on, fri, marissa, mayer, google...   \n",
       "\n",
       "                                   stopwords_removed  \\\n",
       "0  [3g, iphone, 3, hrs, tweeting, austin, dead, n...   \n",
       "1  [know, awesome, ipad, iphone, app, likely, app...   \n",
       "2                              [wait, 2, also, sale]   \n",
       "3  [hope, year, festival, crashy, year, iphone, app]   \n",
       "4  [great, stuff, fri, marissa, mayer, google, ti...   \n",
       "\n",
       "                                          regex_text  \\\n",
       "0  iphone hrs tweeting austin dead need upgrade p...   \n",
       "1  know awesome ipad iphone app likely appreciate...   \n",
       "2                                     wait also sale   \n",
       "3          hope year festival crashy year iphone app   \n",
       "4  great stuff fri marissa mayer google tim reill...   \n",
       "\n",
       "                                regex_text_tokenized  \n",
       "0  [iphone, hrs, tweeting, austin, dead, need, up...  \n",
       "1  [know, awesome, ipad, iphone, app, likely, app...  \n",
       "2                                 [wait, also, sale]  \n",
       "3  [hope, year, festival, crashy, year, iphone, app]  \n",
       "4  [great, stuff, fri, marissa, mayer, google, ti...  "
      ]
     },
     "execution_count": 29,
     "metadata": {},
     "output_type": "execute_result"
    }
   ],
   "source": [
    "pos_neg.head()"
   ]
  },
  {
   "cell_type": "markdown",
   "id": "5eba2617",
   "metadata": {},
   "source": [
    "### Stem words"
   ]
  },
  {
   "cell_type": "code",
   "execution_count": 30,
   "id": "e82c5edc",
   "metadata": {
    "ExecuteTime": {
     "end_time": "2022-02-17T04:31:23.091317Z",
     "start_time": "2022-02-17T04:31:23.029755Z"
    }
   },
   "outputs": [],
   "source": [
    "snow_stemmer = SnowballStemmer(language=\"english\")\n",
    "\n",
    "pos_neg['stemmed_text'] = [snow_stemmer.stem(text) for text in pos_neg['regex_text']]"
   ]
  },
  {
   "cell_type": "code",
   "execution_count": 31,
   "id": "eccbd08e",
   "metadata": {
    "ExecuteTime": {
     "end_time": "2022-02-17T04:31:23.104502Z",
     "start_time": "2022-02-17T04:31:23.092832Z"
    }
   },
   "outputs": [
    {
     "data": {
      "text/html": [
       "<div>\n",
       "<style scoped>\n",
       "    .dataframe tbody tr th:only-of-type {\n",
       "        vertical-align: middle;\n",
       "    }\n",
       "\n",
       "    .dataframe tbody tr th {\n",
       "        vertical-align: top;\n",
       "    }\n",
       "\n",
       "    .dataframe thead th {\n",
       "        text-align: right;\n",
       "    }\n",
       "</style>\n",
       "<table border=\"1\" class=\"dataframe\">\n",
       "  <thead>\n",
       "    <tr style=\"text-align: right;\">\n",
       "      <th></th>\n",
       "      <th>text</th>\n",
       "      <th>target</th>\n",
       "      <th>text_tokenized</th>\n",
       "      <th>stopwords_removed</th>\n",
       "      <th>regex_text</th>\n",
       "      <th>regex_text_tokenized</th>\n",
       "      <th>stemmed_text</th>\n",
       "    </tr>\n",
       "  </thead>\n",
       "  <tbody>\n",
       "    <tr>\n",
       "      <th>0</th>\n",
       "      <td>i have a 3g iphone after 3 hrs tweeting at aus...</td>\n",
       "      <td>0</td>\n",
       "      <td>[i, have, a, 3g, iphone, after, 3, hrs, tweeti...</td>\n",
       "      <td>[3g, iphone, 3, hrs, tweeting, austin, dead, n...</td>\n",
       "      <td>iphone hrs tweeting austin dead need upgrade p...</td>\n",
       "      <td>[iphone, hrs, tweeting, austin, dead, need, up...</td>\n",
       "      <td>iphone hrs tweeting austin dead need upgrade p...</td>\n",
       "    </tr>\n",
       "    <tr>\n",
       "      <th>1</th>\n",
       "      <td>know about awesome ipad iphone app that you ll...</td>\n",
       "      <td>1</td>\n",
       "      <td>[know, about, awesome, ipad, iphone, app, that...</td>\n",
       "      <td>[know, awesome, ipad, iphone, app, likely, app...</td>\n",
       "      <td>know awesome ipad iphone app likely appreciate...</td>\n",
       "      <td>[know, awesome, ipad, iphone, app, likely, app...</td>\n",
       "      <td>know awesome ipad iphone app likely appreciate...</td>\n",
       "    </tr>\n",
       "    <tr>\n",
       "      <th>2</th>\n",
       "      <td>can not wait for 2 also they should sale them ...</td>\n",
       "      <td>1</td>\n",
       "      <td>[can, not, wait, for, 2, also, they, should, s...</td>\n",
       "      <td>[wait, 2, also, sale]</td>\n",
       "      <td>wait also sale</td>\n",
       "      <td>[wait, also, sale]</td>\n",
       "      <td>wait also sal</td>\n",
       "    </tr>\n",
       "    <tr>\n",
       "      <th>3</th>\n",
       "      <td>i hope this year s festival isn t as crashy as...</td>\n",
       "      <td>0</td>\n",
       "      <td>[i, hope, this, year, s, festival, isn, t, as,...</td>\n",
       "      <td>[hope, year, festival, crashy, year, iphone, app]</td>\n",
       "      <td>hope year festival crashy year iphone app</td>\n",
       "      <td>[hope, year, festival, crashy, year, iphone, app]</td>\n",
       "      <td>hope year festival crashy year iphone app</td>\n",
       "    </tr>\n",
       "    <tr>\n",
       "      <th>4</th>\n",
       "      <td>great stuff on fri marissa mayer google tim o ...</td>\n",
       "      <td>1</td>\n",
       "      <td>[great, stuff, on, fri, marissa, mayer, google...</td>\n",
       "      <td>[great, stuff, fri, marissa, mayer, google, ti...</td>\n",
       "      <td>great stuff fri marissa mayer google tim reill...</td>\n",
       "      <td>[great, stuff, fri, marissa, mayer, google, ti...</td>\n",
       "      <td>great stuff fri marissa mayer google tim reill...</td>\n",
       "    </tr>\n",
       "  </tbody>\n",
       "</table>\n",
       "</div>"
      ],
      "text/plain": [
       "                                                text  target  \\\n",
       "0  i have a 3g iphone after 3 hrs tweeting at aus...       0   \n",
       "1  know about awesome ipad iphone app that you ll...       1   \n",
       "2  can not wait for 2 also they should sale them ...       1   \n",
       "3  i hope this year s festival isn t as crashy as...       0   \n",
       "4  great stuff on fri marissa mayer google tim o ...       1   \n",
       "\n",
       "                                      text_tokenized  \\\n",
       "0  [i, have, a, 3g, iphone, after, 3, hrs, tweeti...   \n",
       "1  [know, about, awesome, ipad, iphone, app, that...   \n",
       "2  [can, not, wait, for, 2, also, they, should, s...   \n",
       "3  [i, hope, this, year, s, festival, isn, t, as,...   \n",
       "4  [great, stuff, on, fri, marissa, mayer, google...   \n",
       "\n",
       "                                   stopwords_removed  \\\n",
       "0  [3g, iphone, 3, hrs, tweeting, austin, dead, n...   \n",
       "1  [know, awesome, ipad, iphone, app, likely, app...   \n",
       "2                              [wait, 2, also, sale]   \n",
       "3  [hope, year, festival, crashy, year, iphone, app]   \n",
       "4  [great, stuff, fri, marissa, mayer, google, ti...   \n",
       "\n",
       "                                          regex_text  \\\n",
       "0  iphone hrs tweeting austin dead need upgrade p...   \n",
       "1  know awesome ipad iphone app likely appreciate...   \n",
       "2                                     wait also sale   \n",
       "3          hope year festival crashy year iphone app   \n",
       "4  great stuff fri marissa mayer google tim reill...   \n",
       "\n",
       "                                regex_text_tokenized  \\\n",
       "0  [iphone, hrs, tweeting, austin, dead, need, up...   \n",
       "1  [know, awesome, ipad, iphone, app, likely, app...   \n",
       "2                                 [wait, also, sale]   \n",
       "3  [hope, year, festival, crashy, year, iphone, app]   \n",
       "4  [great, stuff, fri, marissa, mayer, google, ti...   \n",
       "\n",
       "                                        stemmed_text  \n",
       "0  iphone hrs tweeting austin dead need upgrade p...  \n",
       "1  know awesome ipad iphone app likely appreciate...  \n",
       "2                                      wait also sal  \n",
       "3          hope year festival crashy year iphone app  \n",
       "4  great stuff fri marissa mayer google tim reill...  "
      ]
     },
     "execution_count": 31,
     "metadata": {},
     "output_type": "execute_result"
    }
   ],
   "source": [
    "pos_neg.head()"
   ]
  },
  {
   "cell_type": "markdown",
   "id": "adda7a1b",
   "metadata": {},
   "source": [
    "### Lemmatize words"
   ]
  },
  {
   "cell_type": "code",
   "execution_count": 32,
   "id": "67446a13",
   "metadata": {
    "ExecuteTime": {
     "end_time": "2022-02-17T04:31:24.292067Z",
     "start_time": "2022-02-17T04:31:23.105675Z"
    }
   },
   "outputs": [],
   "source": [
    "lemmer = WordNetLemmatizer()\n",
    "\n",
    "pos_neg['lemmed_text'] = [lemmer.lemmatize(text) for text in pos_neg['regex_text']]"
   ]
  },
  {
   "cell_type": "code",
   "execution_count": 33,
   "id": "149247f2",
   "metadata": {
    "ExecuteTime": {
     "end_time": "2022-02-17T04:31:24.308752Z",
     "start_time": "2022-02-17T04:31:24.294921Z"
    }
   },
   "outputs": [
    {
     "data": {
      "text/html": [
       "<div>\n",
       "<style scoped>\n",
       "    .dataframe tbody tr th:only-of-type {\n",
       "        vertical-align: middle;\n",
       "    }\n",
       "\n",
       "    .dataframe tbody tr th {\n",
       "        vertical-align: top;\n",
       "    }\n",
       "\n",
       "    .dataframe thead th {\n",
       "        text-align: right;\n",
       "    }\n",
       "</style>\n",
       "<table border=\"1\" class=\"dataframe\">\n",
       "  <thead>\n",
       "    <tr style=\"text-align: right;\">\n",
       "      <th></th>\n",
       "      <th>text</th>\n",
       "      <th>target</th>\n",
       "      <th>text_tokenized</th>\n",
       "      <th>stopwords_removed</th>\n",
       "      <th>regex_text</th>\n",
       "      <th>regex_text_tokenized</th>\n",
       "      <th>stemmed_text</th>\n",
       "      <th>lemmed_text</th>\n",
       "    </tr>\n",
       "  </thead>\n",
       "  <tbody>\n",
       "    <tr>\n",
       "      <th>0</th>\n",
       "      <td>i have a 3g iphone after 3 hrs tweeting at aus...</td>\n",
       "      <td>0</td>\n",
       "      <td>[i, have, a, 3g, iphone, after, 3, hrs, tweeti...</td>\n",
       "      <td>[3g, iphone, 3, hrs, tweeting, austin, dead, n...</td>\n",
       "      <td>iphone hrs tweeting austin dead need upgrade p...</td>\n",
       "      <td>[iphone, hrs, tweeting, austin, dead, need, up...</td>\n",
       "      <td>iphone hrs tweeting austin dead need upgrade p...</td>\n",
       "      <td>iphone hrs tweeting austin dead need upgrade p...</td>\n",
       "    </tr>\n",
       "    <tr>\n",
       "      <th>1</th>\n",
       "      <td>know about awesome ipad iphone app that you ll...</td>\n",
       "      <td>1</td>\n",
       "      <td>[know, about, awesome, ipad, iphone, app, that...</td>\n",
       "      <td>[know, awesome, ipad, iphone, app, likely, app...</td>\n",
       "      <td>know awesome ipad iphone app likely appreciate...</td>\n",
       "      <td>[know, awesome, ipad, iphone, app, likely, app...</td>\n",
       "      <td>know awesome ipad iphone app likely appreciate...</td>\n",
       "      <td>know awesome ipad iphone app likely appreciate...</td>\n",
       "    </tr>\n",
       "    <tr>\n",
       "      <th>2</th>\n",
       "      <td>can not wait for 2 also they should sale them ...</td>\n",
       "      <td>1</td>\n",
       "      <td>[can, not, wait, for, 2, also, they, should, s...</td>\n",
       "      <td>[wait, 2, also, sale]</td>\n",
       "      <td>wait also sale</td>\n",
       "      <td>[wait, also, sale]</td>\n",
       "      <td>wait also sal</td>\n",
       "      <td>wait also sale</td>\n",
       "    </tr>\n",
       "    <tr>\n",
       "      <th>3</th>\n",
       "      <td>i hope this year s festival isn t as crashy as...</td>\n",
       "      <td>0</td>\n",
       "      <td>[i, hope, this, year, s, festival, isn, t, as,...</td>\n",
       "      <td>[hope, year, festival, crashy, year, iphone, app]</td>\n",
       "      <td>hope year festival crashy year iphone app</td>\n",
       "      <td>[hope, year, festival, crashy, year, iphone, app]</td>\n",
       "      <td>hope year festival crashy year iphone app</td>\n",
       "      <td>hope year festival crashy year iphone app</td>\n",
       "    </tr>\n",
       "    <tr>\n",
       "      <th>4</th>\n",
       "      <td>great stuff on fri marissa mayer google tim o ...</td>\n",
       "      <td>1</td>\n",
       "      <td>[great, stuff, on, fri, marissa, mayer, google...</td>\n",
       "      <td>[great, stuff, fri, marissa, mayer, google, ti...</td>\n",
       "      <td>great stuff fri marissa mayer google tim reill...</td>\n",
       "      <td>[great, stuff, fri, marissa, mayer, google, ti...</td>\n",
       "      <td>great stuff fri marissa mayer google tim reill...</td>\n",
       "      <td>great stuff fri marissa mayer google tim reill...</td>\n",
       "    </tr>\n",
       "  </tbody>\n",
       "</table>\n",
       "</div>"
      ],
      "text/plain": [
       "                                                text  target  \\\n",
       "0  i have a 3g iphone after 3 hrs tweeting at aus...       0   \n",
       "1  know about awesome ipad iphone app that you ll...       1   \n",
       "2  can not wait for 2 also they should sale them ...       1   \n",
       "3  i hope this year s festival isn t as crashy as...       0   \n",
       "4  great stuff on fri marissa mayer google tim o ...       1   \n",
       "\n",
       "                                      text_tokenized  \\\n",
       "0  [i, have, a, 3g, iphone, after, 3, hrs, tweeti...   \n",
       "1  [know, about, awesome, ipad, iphone, app, that...   \n",
       "2  [can, not, wait, for, 2, also, they, should, s...   \n",
       "3  [i, hope, this, year, s, festival, isn, t, as,...   \n",
       "4  [great, stuff, on, fri, marissa, mayer, google...   \n",
       "\n",
       "                                   stopwords_removed  \\\n",
       "0  [3g, iphone, 3, hrs, tweeting, austin, dead, n...   \n",
       "1  [know, awesome, ipad, iphone, app, likely, app...   \n",
       "2                              [wait, 2, also, sale]   \n",
       "3  [hope, year, festival, crashy, year, iphone, app]   \n",
       "4  [great, stuff, fri, marissa, mayer, google, ti...   \n",
       "\n",
       "                                          regex_text  \\\n",
       "0  iphone hrs tweeting austin dead need upgrade p...   \n",
       "1  know awesome ipad iphone app likely appreciate...   \n",
       "2                                     wait also sale   \n",
       "3          hope year festival crashy year iphone app   \n",
       "4  great stuff fri marissa mayer google tim reill...   \n",
       "\n",
       "                                regex_text_tokenized  \\\n",
       "0  [iphone, hrs, tweeting, austin, dead, need, up...   \n",
       "1  [know, awesome, ipad, iphone, app, likely, app...   \n",
       "2                                 [wait, also, sale]   \n",
       "3  [hope, year, festival, crashy, year, iphone, app]   \n",
       "4  [great, stuff, fri, marissa, mayer, google, ti...   \n",
       "\n",
       "                                        stemmed_text  \\\n",
       "0  iphone hrs tweeting austin dead need upgrade p...   \n",
       "1  know awesome ipad iphone app likely appreciate...   \n",
       "2                                      wait also sal   \n",
       "3          hope year festival crashy year iphone app   \n",
       "4  great stuff fri marissa mayer google tim reill...   \n",
       "\n",
       "                                         lemmed_text  \n",
       "0  iphone hrs tweeting austin dead need upgrade p...  \n",
       "1  know awesome ipad iphone app likely appreciate...  \n",
       "2                                     wait also sale  \n",
       "3          hope year festival crashy year iphone app  \n",
       "4  great stuff fri marissa mayer google tim reill...  "
      ]
     },
     "execution_count": 33,
     "metadata": {},
     "output_type": "execute_result"
    }
   ],
   "source": [
    "pos_neg.head()"
   ]
  },
  {
   "cell_type": "code",
   "execution_count": null,
   "id": "e892e5f6",
   "metadata": {},
   "outputs": [],
   "source": []
  },
  {
   "cell_type": "code",
   "execution_count": null,
   "id": "485001e3",
   "metadata": {},
   "outputs": [],
   "source": []
  },
  {
   "cell_type": "code",
   "execution_count": null,
   "id": "d78910ca",
   "metadata": {},
   "outputs": [],
   "source": []
  },
  {
   "cell_type": "markdown",
   "id": "0a66f7db",
   "metadata": {},
   "source": [
    "### Train Test Split"
   ]
  },
  {
   "cell_type": "code",
   "execution_count": 34,
   "id": "043d2380",
   "metadata": {
    "ExecuteTime": {
     "end_time": "2022-02-17T04:31:24.316023Z",
     "start_time": "2022-02-17T04:31:24.310452Z"
    }
   },
   "outputs": [],
   "source": [
    "X = pos_neg.drop(['target'], axis=1)\n",
    "y = pos_neg['target']"
   ]
  },
  {
   "cell_type": "code",
   "execution_count": 35,
   "id": "faf0658b",
   "metadata": {
    "ExecuteTime": {
     "end_time": "2022-02-17T04:31:24.321589Z",
     "start_time": "2022-02-17T04:31:24.317314Z"
    }
   },
   "outputs": [],
   "source": [
    "X_train , X_test, y_train, y_test = train_test_split(X, y, test_size=0.2)"
   ]
  },
  {
   "cell_type": "code",
   "execution_count": 36,
   "id": "3c8a700e",
   "metadata": {
    "ExecuteTime": {
     "end_time": "2022-02-17T04:31:24.327744Z",
     "start_time": "2022-02-17T04:31:24.322934Z"
    },
    "scrolled": true
   },
   "outputs": [
    {
     "data": {
      "text/plain": [
       "1    0.841084\n",
       "0    0.158916\n",
       "Name: target, dtype: float64"
      ]
     },
     "execution_count": 36,
     "metadata": {},
     "output_type": "execute_result"
    }
   ],
   "source": [
    "y_train.value_counts(normalize=True)"
   ]
  },
  {
   "cell_type": "code",
   "execution_count": null,
   "id": "7d03c9b8",
   "metadata": {},
   "outputs": [],
   "source": []
  },
  {
   "cell_type": "code",
   "execution_count": null,
   "id": "3dcc03e1",
   "metadata": {},
   "outputs": [],
   "source": []
  },
  {
   "cell_type": "markdown",
   "id": "23a9e19d",
   "metadata": {},
   "source": [
    "### Determine number of features for vectorization"
   ]
  },
  {
   "cell_type": "code",
   "execution_count": 37,
   "id": "c3599ae3",
   "metadata": {
    "ExecuteTime": {
     "end_time": "2022-02-17T04:31:24.335023Z",
     "start_time": "2022-02-17T04:31:24.329128Z"
    }
   },
   "outputs": [
    {
     "data": {
      "text/plain": [
       "58.300527240773285"
      ]
     },
     "execution_count": 37,
     "metadata": {},
     "output_type": "execute_result"
    }
   ],
   "source": [
    "lens = [len(list(text)) for text in pos_neg.lemmed_text]\n",
    "mean_lens = sum(lens) / len(lens)\n",
    "mean_lens"
   ]
  },
  {
   "cell_type": "code",
   "execution_count": null,
   "id": "f1c1695b",
   "metadata": {},
   "outputs": [],
   "source": []
  },
  {
   "cell_type": "code",
   "execution_count": null,
   "id": "3dc96369",
   "metadata": {},
   "outputs": [],
   "source": []
  },
  {
   "cell_type": "code",
   "execution_count": null,
   "id": "781cd884",
   "metadata": {},
   "outputs": [],
   "source": []
  },
  {
   "cell_type": "code",
   "execution_count": null,
   "id": "15cdf210",
   "metadata": {},
   "outputs": [],
   "source": []
  },
  {
   "cell_type": "markdown",
   "id": "b69381a9",
   "metadata": {},
   "source": [
    "### Build and score a baseline model"
   ]
  },
  {
   "cell_type": "code",
   "execution_count": 38,
   "id": "a0e49e1c",
   "metadata": {
    "ExecuteTime": {
     "end_time": "2022-02-17T04:31:24.410736Z",
     "start_time": "2022-02-17T04:31:24.336365Z"
    }
   },
   "outputs": [
    {
     "name": "stderr",
     "output_type": "stream",
     "text": [
      "/Users/patrick/opt/anaconda3/lib/python3.9/site-packages/sklearn/utils/deprecation.py:87: FutureWarning: Function get_feature_names is deprecated; get_feature_names is deprecated in 1.0 and will be removed in 1.2. Please use get_feature_names_out instead.\n",
      "  warnings.warn(msg, category=FutureWarning)\n"
     ]
    },
    {
     "data": {
      "text/html": [
       "<div>\n",
       "<style scoped>\n",
       "    .dataframe tbody tr th:only-of-type {\n",
       "        vertical-align: middle;\n",
       "    }\n",
       "\n",
       "    .dataframe tbody tr th {\n",
       "        vertical-align: top;\n",
       "    }\n",
       "\n",
       "    .dataframe thead th {\n",
       "        text-align: right;\n",
       "    }\n",
       "</style>\n",
       "<table border=\"1\" class=\"dataframe\">\n",
       "  <thead>\n",
       "    <tr style=\"text-align: right;\">\n",
       "      <th></th>\n",
       "      <th>amp</th>\n",
       "      <th>android</th>\n",
       "      <th>app</th>\n",
       "      <th>apple</th>\n",
       "      <th>apps</th>\n",
       "      <th>around</th>\n",
       "      <th>austin</th>\n",
       "      <th>awesome</th>\n",
       "      <th>called</th>\n",
       "      <th>check</th>\n",
       "      <th>...</th>\n",
       "      <th>store</th>\n",
       "      <th>sxsw</th>\n",
       "      <th>temporary</th>\n",
       "      <th>think</th>\n",
       "      <th>time</th>\n",
       "      <th>today</th>\n",
       "      <th>use</th>\n",
       "      <th>users</th>\n",
       "      <th>via</th>\n",
       "      <th>want</th>\n",
       "    </tr>\n",
       "  </thead>\n",
       "  <tbody>\n",
       "    <tr>\n",
       "      <th>0</th>\n",
       "      <td>0.0000</td>\n",
       "      <td>0.788859</td>\n",
       "      <td>0.614575</td>\n",
       "      <td>0.0</td>\n",
       "      <td>0.0</td>\n",
       "      <td>0.0</td>\n",
       "      <td>0.0</td>\n",
       "      <td>0.0</td>\n",
       "      <td>0.0</td>\n",
       "      <td>0.0</td>\n",
       "      <td>...</td>\n",
       "      <td>0.0</td>\n",
       "      <td>0.0</td>\n",
       "      <td>0.0</td>\n",
       "      <td>0.0</td>\n",
       "      <td>0.0</td>\n",
       "      <td>0.0</td>\n",
       "      <td>0.0</td>\n",
       "      <td>0.0</td>\n",
       "      <td>0.0</td>\n",
       "      <td>0.0000</td>\n",
       "    </tr>\n",
       "    <tr>\n",
       "      <th>1</th>\n",
       "      <td>0.4543</td>\n",
       "      <td>0.000000</td>\n",
       "      <td>0.000000</td>\n",
       "      <td>0.0</td>\n",
       "      <td>0.0</td>\n",
       "      <td>0.0</td>\n",
       "      <td>0.0</td>\n",
       "      <td>0.0</td>\n",
       "      <td>0.0</td>\n",
       "      <td>0.0</td>\n",
       "      <td>...</td>\n",
       "      <td>0.0</td>\n",
       "      <td>0.0</td>\n",
       "      <td>0.0</td>\n",
       "      <td>0.0</td>\n",
       "      <td>0.0</td>\n",
       "      <td>0.0</td>\n",
       "      <td>0.0</td>\n",
       "      <td>0.0</td>\n",
       "      <td>0.0</td>\n",
       "      <td>0.0000</td>\n",
       "    </tr>\n",
       "    <tr>\n",
       "      <th>2</th>\n",
       "      <td>0.0000</td>\n",
       "      <td>0.000000</td>\n",
       "      <td>0.000000</td>\n",
       "      <td>0.0</td>\n",
       "      <td>0.0</td>\n",
       "      <td>0.0</td>\n",
       "      <td>0.0</td>\n",
       "      <td>0.0</td>\n",
       "      <td>0.0</td>\n",
       "      <td>0.0</td>\n",
       "      <td>...</td>\n",
       "      <td>0.0</td>\n",
       "      <td>0.0</td>\n",
       "      <td>0.0</td>\n",
       "      <td>0.0</td>\n",
       "      <td>0.0</td>\n",
       "      <td>0.0</td>\n",
       "      <td>0.0</td>\n",
       "      <td>0.0</td>\n",
       "      <td>0.0</td>\n",
       "      <td>0.0000</td>\n",
       "    </tr>\n",
       "    <tr>\n",
       "      <th>3</th>\n",
       "      <td>0.0000</td>\n",
       "      <td>0.000000</td>\n",
       "      <td>0.749520</td>\n",
       "      <td>0.0</td>\n",
       "      <td>0.0</td>\n",
       "      <td>0.0</td>\n",
       "      <td>0.0</td>\n",
       "      <td>0.0</td>\n",
       "      <td>0.0</td>\n",
       "      <td>0.0</td>\n",
       "      <td>...</td>\n",
       "      <td>0.0</td>\n",
       "      <td>0.0</td>\n",
       "      <td>0.0</td>\n",
       "      <td>0.0</td>\n",
       "      <td>0.0</td>\n",
       "      <td>0.0</td>\n",
       "      <td>0.0</td>\n",
       "      <td>0.0</td>\n",
       "      <td>0.0</td>\n",
       "      <td>0.0000</td>\n",
       "    </tr>\n",
       "    <tr>\n",
       "      <th>4</th>\n",
       "      <td>0.0000</td>\n",
       "      <td>0.000000</td>\n",
       "      <td>0.000000</td>\n",
       "      <td>0.0</td>\n",
       "      <td>0.0</td>\n",
       "      <td>0.0</td>\n",
       "      <td>0.0</td>\n",
       "      <td>0.0</td>\n",
       "      <td>0.0</td>\n",
       "      <td>0.0</td>\n",
       "      <td>...</td>\n",
       "      <td>0.0</td>\n",
       "      <td>0.0</td>\n",
       "      <td>0.0</td>\n",
       "      <td>0.0</td>\n",
       "      <td>0.0</td>\n",
       "      <td>0.0</td>\n",
       "      <td>0.0</td>\n",
       "      <td>0.0</td>\n",
       "      <td>0.0</td>\n",
       "      <td>0.0000</td>\n",
       "    </tr>\n",
       "    <tr>\n",
       "      <th>...</th>\n",
       "      <td>...</td>\n",
       "      <td>...</td>\n",
       "      <td>...</td>\n",
       "      <td>...</td>\n",
       "      <td>...</td>\n",
       "      <td>...</td>\n",
       "      <td>...</td>\n",
       "      <td>...</td>\n",
       "      <td>...</td>\n",
       "      <td>...</td>\n",
       "      <td>...</td>\n",
       "      <td>...</td>\n",
       "      <td>...</td>\n",
       "      <td>...</td>\n",
       "      <td>...</td>\n",
       "      <td>...</td>\n",
       "      <td>...</td>\n",
       "      <td>...</td>\n",
       "      <td>...</td>\n",
       "      <td>...</td>\n",
       "      <td>...</td>\n",
       "    </tr>\n",
       "    <tr>\n",
       "      <th>2726</th>\n",
       "      <td>0.0000</td>\n",
       "      <td>0.000000</td>\n",
       "      <td>0.000000</td>\n",
       "      <td>0.0</td>\n",
       "      <td>0.0</td>\n",
       "      <td>0.0</td>\n",
       "      <td>0.0</td>\n",
       "      <td>0.0</td>\n",
       "      <td>0.0</td>\n",
       "      <td>0.0</td>\n",
       "      <td>...</td>\n",
       "      <td>0.0</td>\n",
       "      <td>0.0</td>\n",
       "      <td>0.0</td>\n",
       "      <td>0.0</td>\n",
       "      <td>0.0</td>\n",
       "      <td>0.0</td>\n",
       "      <td>0.0</td>\n",
       "      <td>0.0</td>\n",
       "      <td>0.0</td>\n",
       "      <td>0.0000</td>\n",
       "    </tr>\n",
       "    <tr>\n",
       "      <th>2727</th>\n",
       "      <td>0.0000</td>\n",
       "      <td>0.000000</td>\n",
       "      <td>0.633316</td>\n",
       "      <td>0.0</td>\n",
       "      <td>0.0</td>\n",
       "      <td>0.0</td>\n",
       "      <td>0.0</td>\n",
       "      <td>0.0</td>\n",
       "      <td>0.0</td>\n",
       "      <td>0.0</td>\n",
       "      <td>...</td>\n",
       "      <td>0.0</td>\n",
       "      <td>0.0</td>\n",
       "      <td>0.0</td>\n",
       "      <td>0.0</td>\n",
       "      <td>0.0</td>\n",
       "      <td>0.0</td>\n",
       "      <td>0.0</td>\n",
       "      <td>0.0</td>\n",
       "      <td>0.0</td>\n",
       "      <td>0.0000</td>\n",
       "    </tr>\n",
       "    <tr>\n",
       "      <th>2728</th>\n",
       "      <td>0.0000</td>\n",
       "      <td>0.000000</td>\n",
       "      <td>0.000000</td>\n",
       "      <td>0.0</td>\n",
       "      <td>0.0</td>\n",
       "      <td>0.0</td>\n",
       "      <td>0.0</td>\n",
       "      <td>0.0</td>\n",
       "      <td>0.0</td>\n",
       "      <td>0.0</td>\n",
       "      <td>...</td>\n",
       "      <td>0.0</td>\n",
       "      <td>0.0</td>\n",
       "      <td>0.0</td>\n",
       "      <td>0.0</td>\n",
       "      <td>0.0</td>\n",
       "      <td>0.0</td>\n",
       "      <td>0.0</td>\n",
       "      <td>0.0</td>\n",
       "      <td>0.0</td>\n",
       "      <td>0.7453</td>\n",
       "    </tr>\n",
       "    <tr>\n",
       "      <th>2729</th>\n",
       "      <td>0.0000</td>\n",
       "      <td>0.000000</td>\n",
       "      <td>0.000000</td>\n",
       "      <td>0.0</td>\n",
       "      <td>0.0</td>\n",
       "      <td>0.0</td>\n",
       "      <td>0.0</td>\n",
       "      <td>0.0</td>\n",
       "      <td>0.0</td>\n",
       "      <td>0.0</td>\n",
       "      <td>...</td>\n",
       "      <td>0.0</td>\n",
       "      <td>0.0</td>\n",
       "      <td>0.0</td>\n",
       "      <td>0.0</td>\n",
       "      <td>0.0</td>\n",
       "      <td>0.0</td>\n",
       "      <td>0.0</td>\n",
       "      <td>0.0</td>\n",
       "      <td>0.0</td>\n",
       "      <td>0.0000</td>\n",
       "    </tr>\n",
       "    <tr>\n",
       "      <th>2730</th>\n",
       "      <td>0.0000</td>\n",
       "      <td>0.000000</td>\n",
       "      <td>0.000000</td>\n",
       "      <td>0.0</td>\n",
       "      <td>0.0</td>\n",
       "      <td>0.0</td>\n",
       "      <td>0.0</td>\n",
       "      <td>0.0</td>\n",
       "      <td>0.0</td>\n",
       "      <td>0.0</td>\n",
       "      <td>...</td>\n",
       "      <td>0.0</td>\n",
       "      <td>0.0</td>\n",
       "      <td>0.0</td>\n",
       "      <td>0.0</td>\n",
       "      <td>0.0</td>\n",
       "      <td>0.0</td>\n",
       "      <td>0.0</td>\n",
       "      <td>0.0</td>\n",
       "      <td>0.0</td>\n",
       "      <td>0.0000</td>\n",
       "    </tr>\n",
       "  </tbody>\n",
       "</table>\n",
       "<p>2731 rows × 60 columns</p>\n",
       "</div>"
      ],
      "text/plain": [
       "         amp   android       app  apple  apps  around  austin  awesome  \\\n",
       "0     0.0000  0.788859  0.614575    0.0   0.0     0.0     0.0      0.0   \n",
       "1     0.4543  0.000000  0.000000    0.0   0.0     0.0     0.0      0.0   \n",
       "2     0.0000  0.000000  0.000000    0.0   0.0     0.0     0.0      0.0   \n",
       "3     0.0000  0.000000  0.749520    0.0   0.0     0.0     0.0      0.0   \n",
       "4     0.0000  0.000000  0.000000    0.0   0.0     0.0     0.0      0.0   \n",
       "...      ...       ...       ...    ...   ...     ...     ...      ...   \n",
       "2726  0.0000  0.000000  0.000000    0.0   0.0     0.0     0.0      0.0   \n",
       "2727  0.0000  0.000000  0.633316    0.0   0.0     0.0     0.0      0.0   \n",
       "2728  0.0000  0.000000  0.000000    0.0   0.0     0.0     0.0      0.0   \n",
       "2729  0.0000  0.000000  0.000000    0.0   0.0     0.0     0.0      0.0   \n",
       "2730  0.0000  0.000000  0.000000    0.0   0.0     0.0     0.0      0.0   \n",
       "\n",
       "      called  check  ...  store  sxsw  temporary  think  time  today  use  \\\n",
       "0        0.0    0.0  ...    0.0   0.0        0.0    0.0   0.0    0.0  0.0   \n",
       "1        0.0    0.0  ...    0.0   0.0        0.0    0.0   0.0    0.0  0.0   \n",
       "2        0.0    0.0  ...    0.0   0.0        0.0    0.0   0.0    0.0  0.0   \n",
       "3        0.0    0.0  ...    0.0   0.0        0.0    0.0   0.0    0.0  0.0   \n",
       "4        0.0    0.0  ...    0.0   0.0        0.0    0.0   0.0    0.0  0.0   \n",
       "...      ...    ...  ...    ...   ...        ...    ...   ...    ...  ...   \n",
       "2726     0.0    0.0  ...    0.0   0.0        0.0    0.0   0.0    0.0  0.0   \n",
       "2727     0.0    0.0  ...    0.0   0.0        0.0    0.0   0.0    0.0  0.0   \n",
       "2728     0.0    0.0  ...    0.0   0.0        0.0    0.0   0.0    0.0  0.0   \n",
       "2729     0.0    0.0  ...    0.0   0.0        0.0    0.0   0.0    0.0  0.0   \n",
       "2730     0.0    0.0  ...    0.0   0.0        0.0    0.0   0.0    0.0  0.0   \n",
       "\n",
       "      users  via    want  \n",
       "0       0.0  0.0  0.0000  \n",
       "1       0.0  0.0  0.0000  \n",
       "2       0.0  0.0  0.0000  \n",
       "3       0.0  0.0  0.0000  \n",
       "4       0.0  0.0  0.0000  \n",
       "...     ...  ...     ...  \n",
       "2726    0.0  0.0  0.0000  \n",
       "2727    0.0  0.0  0.0000  \n",
       "2728    0.0  0.0  0.7453  \n",
       "2729    0.0  0.0  0.0000  \n",
       "2730    0.0  0.0  0.0000  \n",
       "\n",
       "[2731 rows x 60 columns]"
      ]
     },
     "execution_count": 38,
     "metadata": {},
     "output_type": "execute_result"
    }
   ],
   "source": [
    "tfidf = TfidfVectorizer(max_features=60)\n",
    "\n",
    "X_train_vectorized = tfidf.fit_transform(X_train['lemmed_text'])\n",
    "\n",
    "pd.DataFrame.sparse.from_spmatrix(X_train_vectorized, columns=tfidf.get_feature_names())"
   ]
  },
  {
   "cell_type": "code",
   "execution_count": 39,
   "id": "b07c2d51",
   "metadata": {
    "ExecuteTime": {
     "end_time": "2022-02-17T04:31:24.430846Z",
     "start_time": "2022-02-17T04:31:24.420120Z"
    }
   },
   "outputs": [],
   "source": [
    "smote = SMOTE(k_neighbors=5)\n",
    "X_train_resampled, y_train_resampled = smote.fit_resample(X_train_vectorized, y_train)"
   ]
  },
  {
   "cell_type": "code",
   "execution_count": 40,
   "id": "7998344d",
   "metadata": {
    "ExecuteTime": {
     "end_time": "2022-02-17T04:31:24.451627Z",
     "start_time": "2022-02-17T04:31:24.432956Z"
    }
   },
   "outputs": [
    {
     "data": {
      "text/plain": [
       "array([0.65614799, 0.66594124, 0.68443961, 0.67573449, 0.68300654])"
      ]
     },
     "execution_count": 40,
     "metadata": {},
     "output_type": "execute_result"
    }
   ],
   "source": [
    "# Instantiate a MultinomialNB classifier\n",
    "baseline_model = MultinomialNB()\n",
    "\n",
    "baseline_model.fit(X_train_resampled, y_train_resampled)\n",
    "\n",
    "# Evaluate the classifier on X_train_vectorized and y_train\n",
    "baseline_cv = cross_val_score(baseline_model, X_train_resampled, y_train_resampled)\n",
    "baseline_cv"
   ]
  },
  {
   "cell_type": "code",
   "execution_count": 41,
   "id": "8d9b9a3b",
   "metadata": {
    "ExecuteTime": {
     "end_time": "2022-02-17T04:31:24.455579Z",
     "start_time": "2022-02-17T04:31:24.452997Z"
    }
   },
   "outputs": [
    {
     "name": "stdout",
     "output_type": "stream",
     "text": [
      "Baseline:          0.6730539731307829\n"
     ]
    }
   ],
   "source": [
    "print(\"Baseline:         \", baseline_cv.mean())"
   ]
  },
  {
   "cell_type": "code",
   "execution_count": 42,
   "id": "177202d2",
   "metadata": {
    "ExecuteTime": {
     "end_time": "2022-02-17T04:31:24.472980Z",
     "start_time": "2022-02-17T04:31:24.456833Z"
    }
   },
   "outputs": [
    {
     "name": "stdout",
     "output_type": "stream",
     "text": [
      "              precision    recall  f1-score   support\n",
      "\n",
      "           0       0.15      0.37      0.22       111\n",
      "           1       0.83      0.60      0.70       572\n",
      "\n",
      "    accuracy                           0.56       683\n",
      "   macro avg       0.49      0.49      0.46       683\n",
      "weighted avg       0.72      0.56      0.62       683\n",
      "\n"
     ]
    }
   ],
   "source": [
    "X_test_vectorized = tfidf.fit_transform(X_test['lemmed_text'])\n",
    "X_test_preds = baseline_model.predict(X_test_vectorized)\n",
    "\n",
    "print(classification_report(y_test, X_test_preds))"
   ]
  },
  {
   "cell_type": "code",
   "execution_count": 43,
   "id": "d7ea6359",
   "metadata": {
    "ExecuteTime": {
     "end_time": "2022-02-17T04:31:24.589006Z",
     "start_time": "2022-02-17T04:31:24.474321Z"
    }
   },
   "outputs": [
    {
     "name": "stderr",
     "output_type": "stream",
     "text": [
      "/Users/patrick/opt/anaconda3/lib/python3.9/site-packages/sklearn/utils/deprecation.py:87: FutureWarning: Function plot_confusion_matrix is deprecated; Function `plot_confusion_matrix` is deprecated in 1.0 and will be removed in 1.2. Use one of the class methods: ConfusionMatrixDisplay.from_predictions or ConfusionMatrixDisplay.from_estimator.\n",
      "  warnings.warn(msg, category=FutureWarning)\n"
     ]
    },
    {
     "data": {
      "image/png": "[encoded data removed]",
      "text/plain": [
       "<Figure size 432x288 with 2 Axes>"
      ]
     },
     "metadata": {
      "needs_background": "light"
     },
     "output_type": "display_data"
    }
   ],
   "source": [
    "plot_confusion_matrix(baseline_model, X_test_vectorized, y_test, cmap=plt.cm.Oranges)\n",
    "plt.grid(False)\n",
    "plt.show()"
   ]
  },
  {
   "cell_type": "code",
   "execution_count": null,
   "id": "fdac85ac",
   "metadata": {},
   "outputs": [],
   "source": []
  },
  {
   "cell_type": "code",
   "execution_count": null,
   "id": "e7587534",
   "metadata": {},
   "outputs": [],
   "source": []
  },
  {
   "cell_type": "code",
   "execution_count": null,
   "id": "db02dc3b",
   "metadata": {},
   "outputs": [],
   "source": []
  },
  {
   "cell_type": "code",
   "execution_count": null,
   "id": "e3641dd6",
   "metadata": {},
   "outputs": [],
   "source": []
  },
  {
   "cell_type": "code",
   "execution_count": null,
   "id": "4b89c77f",
   "metadata": {},
   "outputs": [],
   "source": []
  },
  {
   "cell_type": "code",
   "execution_count": 44,
   "id": "8314a48a",
   "metadata": {
    "ExecuteTime": {
     "end_time": "2022-02-17T04:31:26.803299Z",
     "start_time": "2022-02-17T04:31:24.590512Z"
    }
   },
   "outputs": [
    {
     "data": {
      "text/plain": [
       "array([0.7921654 , 0.83786725, 0.83242655, 0.82698585, 0.83986928])"
      ]
     },
     "execution_count": 44,
     "metadata": {},
     "output_type": "execute_result"
    }
   ],
   "source": [
    "clf = svm.SVC()\n",
    "clf.fit(X_train_resampled, y_train_resampled)\n",
    "clf_cv = cross_val_score(clf, X_train_resampled, y_train_resampled)\n",
    "clf_cv"
   ]
  },
  {
   "cell_type": "code",
   "execution_count": 45,
   "id": "f4752c07",
   "metadata": {
    "ExecuteTime": {
     "end_time": "2022-02-17T04:31:26.808075Z",
     "start_time": "2022-02-17T04:31:26.804733Z"
    }
   },
   "outputs": [
    {
     "name": "stdout",
     "output_type": "stream",
     "text": [
      "Baseline:   0.6730539731307829\n",
      "SVM:        0.8258628660024039\n"
     ]
    }
   ],
   "source": [
    "print(\"Baseline:  \", baseline_cv.mean())\n",
    "print(\"SVM:       \", clf_cv.mean())"
   ]
  },
  {
   "cell_type": "code",
   "execution_count": 46,
   "id": "3f2e7887",
   "metadata": {
    "ExecuteTime": {
     "end_time": "2022-02-17T04:31:26.886433Z",
     "start_time": "2022-02-17T04:31:26.809431Z"
    }
   },
   "outputs": [
    {
     "name": "stdout",
     "output_type": "stream",
     "text": [
      "              precision    recall  f1-score   support\n",
      "\n",
      "           0       0.17      0.18      0.17       111\n",
      "           1       0.84      0.83      0.83       572\n",
      "\n",
      "    accuracy                           0.72       683\n",
      "   macro avg       0.50      0.50      0.50       683\n",
      "weighted avg       0.73      0.72      0.73       683\n",
      "\n"
     ]
    }
   ],
   "source": [
    "X_test_vectorized_SVM = tfidf.fit_transform(X_test['lemmed_text'])\n",
    "SVM_test_preds = clf.predict(X_test_vectorized)\n",
    "\n",
    "print(classification_report(y_test, SVM_test_preds))"
   ]
  },
  {
   "cell_type": "code",
   "execution_count": 47,
   "id": "bcf79bfd",
   "metadata": {
    "ExecuteTime": {
     "end_time": "2022-02-17T04:31:27.040374Z",
     "start_time": "2022-02-17T04:31:26.887606Z"
    }
   },
   "outputs": [
    {
     "name": "stderr",
     "output_type": "stream",
     "text": [
      "/Users/patrick/opt/anaconda3/lib/python3.9/site-packages/sklearn/utils/deprecation.py:87: FutureWarning: Function plot_confusion_matrix is deprecated; Function `plot_confusion_matrix` is deprecated in 1.0 and will be removed in 1.2. Use one of the class methods: ConfusionMatrixDisplay.from_predictions or ConfusionMatrixDisplay.from_estimator.\n",
      "  warnings.warn(msg, category=FutureWarning)\n"
     ]
    },
    {
     "data": {
      "image/png": "[encoded data removed]",
      "text/plain": [
       "<Figure size 432x288 with 2 Axes>"
      ]
     },
     "metadata": {
      "needs_background": "light"
     },
     "output_type": "display_data"
    }
   ],
   "source": [
    "plot_confusion_matrix(clf, X_test_vectorized, y_test, cmap=plt.cm.Oranges)\n",
    "plt.grid(False)\n",
    "plt.show()"
   ]
  },
  {
   "cell_type": "code",
   "execution_count": null,
   "id": "809e4eca",
   "metadata": {},
   "outputs": [],
   "source": []
  },
  {
   "cell_type": "code",
   "execution_count": null,
   "id": "d1f807b5",
   "metadata": {},
   "outputs": [],
   "source": []
  },
  {
   "cell_type": "code",
   "execution_count": 48,
   "id": "fa5cd56b",
   "metadata": {
    "ExecuteTime": {
     "end_time": "2022-02-17T04:31:27.488992Z",
     "start_time": "2022-02-17T04:31:27.042589Z"
    }
   },
   "outputs": [
    {
     "data": {
      "text/plain": [
       "array([0.7508161 , 0.78237214, 0.7921654 , 0.77149075, 0.75599129])"
      ]
     },
     "execution_count": 48,
     "metadata": {},
     "output_type": "execute_result"
    }
   ],
   "source": [
    "knn_5 = KNeighborsClassifier(n_neighbors=5)\n",
    "knn_5.fit(X_train_resampled, y_train_resampled)\n",
    "# Evaluate the classifier on X_train_vectorized and y_train\n",
    "knn_5_cv = cross_val_score(knn_5, X_train_resampled, y_train_resampled)\n",
    "knn_5_cv"
   ]
  },
  {
   "cell_type": "code",
   "execution_count": 49,
   "id": "db5d9af9",
   "metadata": {
    "ExecuteTime": {
     "end_time": "2022-02-17T04:31:27.493984Z",
     "start_time": "2022-02-17T04:31:27.490777Z"
    }
   },
   "outputs": [
    {
     "name": "stdout",
     "output_type": "stream",
     "text": [
      "Baseline:   0.6730539731307829\n",
      "SVM:        0.8258628660024039\n",
      "KNN 5:      0.7705671362971497\n"
     ]
    }
   ],
   "source": [
    "print(\"Baseline:  \", baseline_cv.mean())\n",
    "print(\"SVM:       \", clf_cv.mean())\n",
    "print(\"KNN 5:     \", knn_5_cv.mean())"
   ]
  },
  {
   "cell_type": "code",
   "execution_count": 50,
   "id": "7b598cc0",
   "metadata": {
    "ExecuteTime": {
     "end_time": "2022-02-17T04:31:27.569022Z",
     "start_time": "2022-02-17T04:31:27.495452Z"
    }
   },
   "outputs": [
    {
     "name": "stdout",
     "output_type": "stream",
     "text": [
      "              precision    recall  f1-score   support\n",
      "\n",
      "           0       0.17      0.55      0.26       111\n",
      "           1       0.84      0.47      0.60       572\n",
      "\n",
      "    accuracy                           0.48       683\n",
      "   macro avg       0.51      0.51      0.43       683\n",
      "weighted avg       0.73      0.48      0.55       683\n",
      "\n"
     ]
    }
   ],
   "source": [
    "knn_5_preds = knn_5.predict(X_test_vectorized)\n",
    "\n",
    "print(classification_report(y_test, knn_5_preds))"
   ]
  },
  {
   "cell_type": "code",
   "execution_count": 51,
   "id": "548cd711",
   "metadata": {
    "ExecuteTime": {
     "end_time": "2022-02-17T04:31:27.734865Z",
     "start_time": "2022-02-17T04:31:27.570302Z"
    }
   },
   "outputs": [
    {
     "name": "stderr",
     "output_type": "stream",
     "text": [
      "/Users/patrick/opt/anaconda3/lib/python3.9/site-packages/sklearn/utils/deprecation.py:87: FutureWarning: Function plot_confusion_matrix is deprecated; Function `plot_confusion_matrix` is deprecated in 1.0 and will be removed in 1.2. Use one of the class methods: ConfusionMatrixDisplay.from_predictions or ConfusionMatrixDisplay.from_estimator.\n",
      "  warnings.warn(msg, category=FutureWarning)\n"
     ]
    },
    {
     "data": {
      "image/png": "[encoded data removed]",
      "text/plain": [
       "<Figure size 432x288 with 2 Axes>"
      ]
     },
     "metadata": {
      "needs_background": "light"
     },
     "output_type": "display_data"
    }
   ],
   "source": [
    "plot_confusion_matrix(knn_5, X_test_vectorized, y_test, cmap=plt.cm.Oranges)\n",
    "plt.grid(False)\n",
    "plt.show()"
   ]
  },
  {
   "cell_type": "code",
   "execution_count": null,
   "id": "007ba4c0",
   "metadata": {},
   "outputs": [],
   "source": []
  },
  {
   "cell_type": "code",
   "execution_count": null,
   "id": "8b2307bb",
   "metadata": {},
   "outputs": [],
   "source": []
  },
  {
   "cell_type": "code",
   "execution_count": 52,
   "id": "2ebfddcb",
   "metadata": {
    "ExecuteTime": {
     "end_time": "2022-02-17T04:31:27.816019Z",
     "start_time": "2022-02-17T04:31:27.736389Z"
    }
   },
   "outputs": [
    {
     "name": "stderr",
     "output_type": "stream",
     "text": [
      "/Users/patrick/opt/anaconda3/lib/python3.9/site-packages/sklearn/utils/deprecation.py:87: FutureWarning: Function get_feature_names is deprecated; get_feature_names is deprecated in 1.0 and will be removed in 1.2. Please use get_feature_names_out instead.\n",
      "  warnings.warn(msg, category=FutureWarning)\n"
     ]
    },
    {
     "data": {
      "text/html": [
       "<div>\n",
       "<style scoped>\n",
       "    .dataframe tbody tr th:only-of-type {\n",
       "        vertical-align: middle;\n",
       "    }\n",
       "\n",
       "    .dataframe tbody tr th {\n",
       "        vertical-align: top;\n",
       "    }\n",
       "\n",
       "    .dataframe thead th {\n",
       "        text-align: right;\n",
       "    }\n",
       "</style>\n",
       "<table border=\"1\" class=\"dataframe\">\n",
       "  <thead>\n",
       "    <tr style=\"text-align: right;\">\n",
       "      <th></th>\n",
       "      <th>amp</th>\n",
       "      <th>android</th>\n",
       "      <th>app</th>\n",
       "      <th>apple</th>\n",
       "      <th>apps</th>\n",
       "      <th>around</th>\n",
       "      <th>austin</th>\n",
       "      <th>awesome</th>\n",
       "      <th>best</th>\n",
       "      <th>called</th>\n",
       "      <th>...</th>\n",
       "      <th>store</th>\n",
       "      <th>sxsw</th>\n",
       "      <th>temporary</th>\n",
       "      <th>thanks</th>\n",
       "      <th>think</th>\n",
       "      <th>time</th>\n",
       "      <th>today</th>\n",
       "      <th>via</th>\n",
       "      <th>wins</th>\n",
       "      <th>would</th>\n",
       "    </tr>\n",
       "  </thead>\n",
       "  <tbody>\n",
       "    <tr>\n",
       "      <th>0</th>\n",
       "      <td>0.0</td>\n",
       "      <td>0.550306</td>\n",
       "      <td>0.000000</td>\n",
       "      <td>0.000000</td>\n",
       "      <td>0.000000</td>\n",
       "      <td>0.534685</td>\n",
       "      <td>0.415793</td>\n",
       "      <td>0.0</td>\n",
       "      <td>0.0</td>\n",
       "      <td>0.291630</td>\n",
       "      <td>...</td>\n",
       "      <td>0.0</td>\n",
       "      <td>0.000000</td>\n",
       "      <td>0.0</td>\n",
       "      <td>0.000000</td>\n",
       "      <td>0.0</td>\n",
       "      <td>0.0</td>\n",
       "      <td>0.00000</td>\n",
       "      <td>0.00000</td>\n",
       "      <td>0.000000</td>\n",
       "      <td>0.00000</td>\n",
       "    </tr>\n",
       "    <tr>\n",
       "      <th>1</th>\n",
       "      <td>0.0</td>\n",
       "      <td>0.000000</td>\n",
       "      <td>0.529191</td>\n",
       "      <td>0.000000</td>\n",
       "      <td>0.000000</td>\n",
       "      <td>0.000000</td>\n",
       "      <td>0.000000</td>\n",
       "      <td>0.0</td>\n",
       "      <td>0.0</td>\n",
       "      <td>0.000000</td>\n",
       "      <td>...</td>\n",
       "      <td>0.0</td>\n",
       "      <td>0.000000</td>\n",
       "      <td>0.0</td>\n",
       "      <td>0.000000</td>\n",
       "      <td>0.0</td>\n",
       "      <td>0.0</td>\n",
       "      <td>0.59127</td>\n",
       "      <td>0.00000</td>\n",
       "      <td>0.000000</td>\n",
       "      <td>0.00000</td>\n",
       "    </tr>\n",
       "    <tr>\n",
       "      <th>2</th>\n",
       "      <td>0.0</td>\n",
       "      <td>0.000000</td>\n",
       "      <td>0.000000</td>\n",
       "      <td>0.000000</td>\n",
       "      <td>0.385530</td>\n",
       "      <td>0.000000</td>\n",
       "      <td>0.000000</td>\n",
       "      <td>0.0</td>\n",
       "      <td>0.0</td>\n",
       "      <td>0.301214</td>\n",
       "      <td>...</td>\n",
       "      <td>0.0</td>\n",
       "      <td>0.505368</td>\n",
       "      <td>0.0</td>\n",
       "      <td>0.000000</td>\n",
       "      <td>0.0</td>\n",
       "      <td>0.0</td>\n",
       "      <td>0.00000</td>\n",
       "      <td>0.00000</td>\n",
       "      <td>0.000000</td>\n",
       "      <td>0.00000</td>\n",
       "    </tr>\n",
       "    <tr>\n",
       "      <th>3</th>\n",
       "      <td>0.0</td>\n",
       "      <td>0.000000</td>\n",
       "      <td>0.000000</td>\n",
       "      <td>0.000000</td>\n",
       "      <td>0.000000</td>\n",
       "      <td>0.000000</td>\n",
       "      <td>0.452735</td>\n",
       "      <td>0.0</td>\n",
       "      <td>0.0</td>\n",
       "      <td>0.317540</td>\n",
       "      <td>...</td>\n",
       "      <td>0.0</td>\n",
       "      <td>0.000000</td>\n",
       "      <td>0.0</td>\n",
       "      <td>0.000000</td>\n",
       "      <td>0.0</td>\n",
       "      <td>0.0</td>\n",
       "      <td>0.00000</td>\n",
       "      <td>0.00000</td>\n",
       "      <td>0.000000</td>\n",
       "      <td>0.58988</td>\n",
       "    </tr>\n",
       "    <tr>\n",
       "      <th>4</th>\n",
       "      <td>0.0</td>\n",
       "      <td>0.000000</td>\n",
       "      <td>0.000000</td>\n",
       "      <td>0.000000</td>\n",
       "      <td>0.373507</td>\n",
       "      <td>0.000000</td>\n",
       "      <td>0.000000</td>\n",
       "      <td>0.0</td>\n",
       "      <td>0.0</td>\n",
       "      <td>0.000000</td>\n",
       "      <td>...</td>\n",
       "      <td>0.0</td>\n",
       "      <td>0.000000</td>\n",
       "      <td>0.0</td>\n",
       "      <td>0.000000</td>\n",
       "      <td>0.0</td>\n",
       "      <td>0.0</td>\n",
       "      <td>0.00000</td>\n",
       "      <td>0.00000</td>\n",
       "      <td>0.000000</td>\n",
       "      <td>0.00000</td>\n",
       "    </tr>\n",
       "    <tr>\n",
       "      <th>...</th>\n",
       "      <td>...</td>\n",
       "      <td>...</td>\n",
       "      <td>...</td>\n",
       "      <td>...</td>\n",
       "      <td>...</td>\n",
       "      <td>...</td>\n",
       "      <td>...</td>\n",
       "      <td>...</td>\n",
       "      <td>...</td>\n",
       "      <td>...</td>\n",
       "      <td>...</td>\n",
       "      <td>...</td>\n",
       "      <td>...</td>\n",
       "      <td>...</td>\n",
       "      <td>...</td>\n",
       "      <td>...</td>\n",
       "      <td>...</td>\n",
       "      <td>...</td>\n",
       "      <td>...</td>\n",
       "      <td>...</td>\n",
       "      <td>...</td>\n",
       "    </tr>\n",
       "    <tr>\n",
       "      <th>2726</th>\n",
       "      <td>0.0</td>\n",
       "      <td>0.000000</td>\n",
       "      <td>0.000000</td>\n",
       "      <td>0.000000</td>\n",
       "      <td>0.000000</td>\n",
       "      <td>0.000000</td>\n",
       "      <td>0.000000</td>\n",
       "      <td>0.0</td>\n",
       "      <td>0.0</td>\n",
       "      <td>0.000000</td>\n",
       "      <td>...</td>\n",
       "      <td>0.0</td>\n",
       "      <td>0.000000</td>\n",
       "      <td>0.0</td>\n",
       "      <td>0.000000</td>\n",
       "      <td>0.0</td>\n",
       "      <td>0.0</td>\n",
       "      <td>0.00000</td>\n",
       "      <td>0.00000</td>\n",
       "      <td>0.481385</td>\n",
       "      <td>0.00000</td>\n",
       "    </tr>\n",
       "    <tr>\n",
       "      <th>2727</th>\n",
       "      <td>0.0</td>\n",
       "      <td>0.000000</td>\n",
       "      <td>0.000000</td>\n",
       "      <td>0.000000</td>\n",
       "      <td>0.000000</td>\n",
       "      <td>0.000000</td>\n",
       "      <td>0.572227</td>\n",
       "      <td>0.0</td>\n",
       "      <td>0.0</td>\n",
       "      <td>0.000000</td>\n",
       "      <td>...</td>\n",
       "      <td>0.0</td>\n",
       "      <td>0.000000</td>\n",
       "      <td>0.0</td>\n",
       "      <td>0.000000</td>\n",
       "      <td>0.0</td>\n",
       "      <td>0.0</td>\n",
       "      <td>0.00000</td>\n",
       "      <td>0.00000</td>\n",
       "      <td>0.000000</td>\n",
       "      <td>0.00000</td>\n",
       "    </tr>\n",
       "    <tr>\n",
       "      <th>2728</th>\n",
       "      <td>0.0</td>\n",
       "      <td>0.000000</td>\n",
       "      <td>0.000000</td>\n",
       "      <td>0.318595</td>\n",
       "      <td>0.561347</td>\n",
       "      <td>0.000000</td>\n",
       "      <td>0.000000</td>\n",
       "      <td>0.0</td>\n",
       "      <td>0.0</td>\n",
       "      <td>0.219290</td>\n",
       "      <td>...</td>\n",
       "      <td>0.0</td>\n",
       "      <td>0.000000</td>\n",
       "      <td>0.0</td>\n",
       "      <td>0.211116</td>\n",
       "      <td>0.0</td>\n",
       "      <td>0.0</td>\n",
       "      <td>0.00000</td>\n",
       "      <td>0.33615</td>\n",
       "      <td>0.000000</td>\n",
       "      <td>0.00000</td>\n",
       "    </tr>\n",
       "    <tr>\n",
       "      <th>2729</th>\n",
       "      <td>0.0</td>\n",
       "      <td>0.000000</td>\n",
       "      <td>0.000000</td>\n",
       "      <td>0.000000</td>\n",
       "      <td>0.000000</td>\n",
       "      <td>0.000000</td>\n",
       "      <td>0.000000</td>\n",
       "      <td>0.0</td>\n",
       "      <td>0.0</td>\n",
       "      <td>0.000000</td>\n",
       "      <td>...</td>\n",
       "      <td>0.0</td>\n",
       "      <td>0.000000</td>\n",
       "      <td>0.0</td>\n",
       "      <td>0.000000</td>\n",
       "      <td>0.0</td>\n",
       "      <td>0.0</td>\n",
       "      <td>0.00000</td>\n",
       "      <td>0.00000</td>\n",
       "      <td>0.000000</td>\n",
       "      <td>0.00000</td>\n",
       "    </tr>\n",
       "    <tr>\n",
       "      <th>2730</th>\n",
       "      <td>0.0</td>\n",
       "      <td>0.000000</td>\n",
       "      <td>0.000000</td>\n",
       "      <td>0.000000</td>\n",
       "      <td>0.000000</td>\n",
       "      <td>0.000000</td>\n",
       "      <td>0.000000</td>\n",
       "      <td>0.0</td>\n",
       "      <td>0.0</td>\n",
       "      <td>0.310521</td>\n",
       "      <td>...</td>\n",
       "      <td>0.0</td>\n",
       "      <td>0.000000</td>\n",
       "      <td>0.0</td>\n",
       "      <td>0.000000</td>\n",
       "      <td>0.0</td>\n",
       "      <td>0.0</td>\n",
       "      <td>0.00000</td>\n",
       "      <td>0.00000</td>\n",
       "      <td>0.000000</td>\n",
       "      <td>0.00000</td>\n",
       "    </tr>\n",
       "  </tbody>\n",
       "</table>\n",
       "<p>2731 rows × 60 columns</p>\n",
       "</div>"
      ],
      "text/plain": [
       "      amp   android       app     apple      apps    around    austin  \\\n",
       "0     0.0  0.550306  0.000000  0.000000  0.000000  0.534685  0.415793   \n",
       "1     0.0  0.000000  0.529191  0.000000  0.000000  0.000000  0.000000   \n",
       "2     0.0  0.000000  0.000000  0.000000  0.385530  0.000000  0.000000   \n",
       "3     0.0  0.000000  0.000000  0.000000  0.000000  0.000000  0.452735   \n",
       "4     0.0  0.000000  0.000000  0.000000  0.373507  0.000000  0.000000   \n",
       "...   ...       ...       ...       ...       ...       ...       ...   \n",
       "2726  0.0  0.000000  0.000000  0.000000  0.000000  0.000000  0.000000   \n",
       "2727  0.0  0.000000  0.000000  0.000000  0.000000  0.000000  0.572227   \n",
       "2728  0.0  0.000000  0.000000  0.318595  0.561347  0.000000  0.000000   \n",
       "2729  0.0  0.000000  0.000000  0.000000  0.000000  0.000000  0.000000   \n",
       "2730  0.0  0.000000  0.000000  0.000000  0.000000  0.000000  0.000000   \n",
       "\n",
       "      awesome  best    called  ...  store      sxsw  temporary    thanks  \\\n",
       "0         0.0   0.0  0.291630  ...    0.0  0.000000        0.0  0.000000   \n",
       "1         0.0   0.0  0.000000  ...    0.0  0.000000        0.0  0.000000   \n",
       "2         0.0   0.0  0.301214  ...    0.0  0.505368        0.0  0.000000   \n",
       "3         0.0   0.0  0.317540  ...    0.0  0.000000        0.0  0.000000   \n",
       "4         0.0   0.0  0.000000  ...    0.0  0.000000        0.0  0.000000   \n",
       "...       ...   ...       ...  ...    ...       ...        ...       ...   \n",
       "2726      0.0   0.0  0.000000  ...    0.0  0.000000        0.0  0.000000   \n",
       "2727      0.0   0.0  0.000000  ...    0.0  0.000000        0.0  0.000000   \n",
       "2728      0.0   0.0  0.219290  ...    0.0  0.000000        0.0  0.211116   \n",
       "2729      0.0   0.0  0.000000  ...    0.0  0.000000        0.0  0.000000   \n",
       "2730      0.0   0.0  0.310521  ...    0.0  0.000000        0.0  0.000000   \n",
       "\n",
       "      think  time    today      via      wins    would  \n",
       "0       0.0   0.0  0.00000  0.00000  0.000000  0.00000  \n",
       "1       0.0   0.0  0.59127  0.00000  0.000000  0.00000  \n",
       "2       0.0   0.0  0.00000  0.00000  0.000000  0.00000  \n",
       "3       0.0   0.0  0.00000  0.00000  0.000000  0.58988  \n",
       "4       0.0   0.0  0.00000  0.00000  0.000000  0.00000  \n",
       "...     ...   ...      ...      ...       ...      ...  \n",
       "2726    0.0   0.0  0.00000  0.00000  0.481385  0.00000  \n",
       "2727    0.0   0.0  0.00000  0.00000  0.000000  0.00000  \n",
       "2728    0.0   0.0  0.00000  0.33615  0.000000  0.00000  \n",
       "2729    0.0   0.0  0.00000  0.00000  0.000000  0.00000  \n",
       "2730    0.0   0.0  0.00000  0.00000  0.000000  0.00000  \n",
       "\n",
       "[2731 rows x 60 columns]"
      ]
     },
     "execution_count": 52,
     "metadata": {},
     "output_type": "execute_result"
    }
   ],
   "source": [
    "tfidf_text = TfidfVectorizer(max_features=60)\n",
    "\n",
    "X_train_vectorized_text = tfidf_text.fit_transform(X_train['text'])\n",
    "\n",
    "pd.DataFrame.sparse.from_spmatrix(X_train_vectorized_text, columns=tfidf.get_feature_names())"
   ]
  },
  {
   "cell_type": "code",
   "execution_count": 53,
   "id": "a153dda9",
   "metadata": {
    "ExecuteTime": {
     "end_time": "2022-02-17T04:31:27.828873Z",
     "start_time": "2022-02-17T04:31:27.817345Z"
    }
   },
   "outputs": [],
   "source": [
    "smote_text = SMOTE(k_neighbors=5)\n",
    "X_train_resampled_text, y_train_resampled_text = smote_text.fit_resample(X_train_vectorized_text, y_train)"
   ]
  },
  {
   "cell_type": "code",
   "execution_count": 54,
   "id": "4ad7d285",
   "metadata": {
    "ExecuteTime": {
     "end_time": "2022-02-17T04:31:31.713921Z",
     "start_time": "2022-02-17T04:31:27.830403Z"
    }
   },
   "outputs": [
    {
     "data": {
      "text/plain": [
       "array([0.79760609, 0.95429815, 0.94994559, 0.94015234, 0.95533769])"
      ]
     },
     "execution_count": 54,
     "metadata": {},
     "output_type": "execute_result"
    }
   ],
   "source": [
    "clf_text = svm.SVC()\n",
    "clf_text.fit(X_train_resampled_text, y_train_resampled_text)\n",
    "clf_text_cv = cross_val_score(clf_text, X_train_resampled_text, y_train_resampled_text)\n",
    "clf_text_cv"
   ]
  },
  {
   "cell_type": "code",
   "execution_count": 55,
   "id": "0a83517c",
   "metadata": {
    "ExecuteTime": {
     "end_time": "2022-02-17T04:31:31.718806Z",
     "start_time": "2022-02-17T04:31:31.715431Z"
    }
   },
   "outputs": [
    {
     "name": "stdout",
     "output_type": "stream",
     "text": [
      "Baseline:   0.6730539731307829\n",
      "SVM:        0.8258628660024039\n",
      "KNN 5:      0.7705671362971497\n",
      "SVM_text:   0.9194679733820743\n"
     ]
    }
   ],
   "source": [
    "print(\"Baseline:  \", baseline_cv.mean())\n",
    "print(\"SVM:       \", clf_cv.mean())\n",
    "print(\"KNN 5:     \", knn_5_cv.mean())\n",
    "print(\"SVM_text:  \", clf_text_cv.mean())"
   ]
  },
  {
   "cell_type": "code",
   "execution_count": 56,
   "id": "02260b26",
   "metadata": {
    "ExecuteTime": {
     "end_time": "2022-02-17T04:31:31.842816Z",
     "start_time": "2022-02-17T04:31:31.720105Z"
    }
   },
   "outputs": [
    {
     "name": "stdout",
     "output_type": "stream",
     "text": [
      "              precision    recall  f1-score   support\n",
      "\n",
      "           0       0.24      0.07      0.11       111\n",
      "           1       0.84      0.96      0.90       572\n",
      "\n",
      "    accuracy                           0.81       683\n",
      "   macro avg       0.54      0.51      0.50       683\n",
      "weighted avg       0.74      0.81      0.77       683\n",
      "\n"
     ]
    }
   ],
   "source": [
    "X_test_vectorized_text = tfidf_text.fit_transform(X_test['text'])\n",
    "SVM_text_preds = clf_text.predict(X_test_vectorized_text)\n",
    "\n",
    "print(classification_report(y_test, SVM_text_preds))"
   ]
  },
  {
   "cell_type": "code",
   "execution_count": 57,
   "id": "a034d5e2",
   "metadata": {
    "ExecuteTime": {
     "end_time": "2022-02-17T04:31:32.045112Z",
     "start_time": "2022-02-17T04:31:31.844251Z"
    }
   },
   "outputs": [
    {
     "name": "stderr",
     "output_type": "stream",
     "text": [
      "/Users/patrick/opt/anaconda3/lib/python3.9/site-packages/sklearn/utils/deprecation.py:87: FutureWarning: Function plot_confusion_matrix is deprecated; Function `plot_confusion_matrix` is deprecated in 1.0 and will be removed in 1.2. Use one of the class methods: ConfusionMatrixDisplay.from_predictions or ConfusionMatrixDisplay.from_estimator.\n",
      "  warnings.warn(msg, category=FutureWarning)\n"
     ]
    },
    {
     "data": {
      "image/png": "[encoded data removed]",
      "text/plain": [
       "<Figure size 432x288 with 2 Axes>"
      ]
     },
     "metadata": {
      "needs_background": "light"
     },
     "output_type": "display_data"
    }
   ],
   "source": [
    "plot_confusion_matrix(clf_text, X_test_vectorized_text, y_test, cmap=plt.cm.Oranges)\n",
    "plt.grid(False)\n",
    "plt.show()"
   ]
  },
  {
   "cell_type": "code",
   "execution_count": null,
   "id": "dde62576",
   "metadata": {},
   "outputs": [],
   "source": []
  },
  {
   "cell_type": "code",
   "execution_count": null,
   "id": "1b7ae9f2",
   "metadata": {},
   "outputs": [],
   "source": []
  },
  {
   "cell_type": "code",
   "execution_count": null,
   "id": "9008faf4",
   "metadata": {},
   "outputs": [],
   "source": []
  },
  {
   "cell_type": "code",
   "execution_count": null,
   "id": "6af19f42",
   "metadata": {},
   "outputs": [],
   "source": []
  },
  {
   "cell_type": "code",
   "execution_count": null,
   "id": "9292f8e4",
   "metadata": {},
   "outputs": [],
   "source": []
  },
  {
   "cell_type": "code",
   "execution_count": null,
   "id": "21fa5fba",
   "metadata": {},
   "outputs": [],
   "source": []
  },
  {
   "cell_type": "code",
   "execution_count": 58,
   "id": "bc816298",
   "metadata": {
    "ExecuteTime": {
     "end_time": "2022-02-17T04:31:32.118935Z",
     "start_time": "2022-02-17T04:31:32.046504Z"
    }
   },
   "outputs": [
    {
     "name": "stderr",
     "output_type": "stream",
     "text": [
      "/Users/patrick/opt/anaconda3/lib/python3.9/site-packages/sklearn/utils/deprecation.py:87: FutureWarning: Function get_feature_names is deprecated; get_feature_names is deprecated in 1.0 and will be removed in 1.2. Please use get_feature_names_out instead.\n",
      "  warnings.warn(msg, category=FutureWarning)\n"
     ]
    },
    {
     "data": {
      "text/html": [
       "<div>\n",
       "<style scoped>\n",
       "    .dataframe tbody tr th:only-of-type {\n",
       "        vertical-align: middle;\n",
       "    }\n",
       "\n",
       "    .dataframe tbody tr th {\n",
       "        vertical-align: top;\n",
       "    }\n",
       "\n",
       "    .dataframe thead th {\n",
       "        text-align: right;\n",
       "    }\n",
       "</style>\n",
       "<table border=\"1\" class=\"dataframe\">\n",
       "  <thead>\n",
       "    <tr style=\"text-align: right;\">\n",
       "      <th></th>\n",
       "      <th>amp</th>\n",
       "      <th>android</th>\n",
       "      <th>app</th>\n",
       "      <th>apple</th>\n",
       "      <th>apps</th>\n",
       "      <th>around</th>\n",
       "      <th>austin</th>\n",
       "      <th>awesome</th>\n",
       "      <th>best</th>\n",
       "      <th>called</th>\n",
       "      <th>...</th>\n",
       "      <th>store</th>\n",
       "      <th>sxsw</th>\n",
       "      <th>temporary</th>\n",
       "      <th>thanks</th>\n",
       "      <th>think</th>\n",
       "      <th>time</th>\n",
       "      <th>today</th>\n",
       "      <th>via</th>\n",
       "      <th>wins</th>\n",
       "      <th>would</th>\n",
       "    </tr>\n",
       "  </thead>\n",
       "  <tbody>\n",
       "    <tr>\n",
       "      <th>0</th>\n",
       "      <td>0.0000</td>\n",
       "      <td>0.788859</td>\n",
       "      <td>0.614575</td>\n",
       "      <td>0.0</td>\n",
       "      <td>0.0</td>\n",
       "      <td>0.0</td>\n",
       "      <td>0.0</td>\n",
       "      <td>0.0</td>\n",
       "      <td>0.0</td>\n",
       "      <td>0.0</td>\n",
       "      <td>...</td>\n",
       "      <td>0.0</td>\n",
       "      <td>0.0</td>\n",
       "      <td>0.0</td>\n",
       "      <td>0.0</td>\n",
       "      <td>0.0</td>\n",
       "      <td>0.0</td>\n",
       "      <td>0.0</td>\n",
       "      <td>0.0</td>\n",
       "      <td>0.0</td>\n",
       "      <td>0.0000</td>\n",
       "    </tr>\n",
       "    <tr>\n",
       "      <th>1</th>\n",
       "      <td>0.4543</td>\n",
       "      <td>0.000000</td>\n",
       "      <td>0.000000</td>\n",
       "      <td>0.0</td>\n",
       "      <td>0.0</td>\n",
       "      <td>0.0</td>\n",
       "      <td>0.0</td>\n",
       "      <td>0.0</td>\n",
       "      <td>0.0</td>\n",
       "      <td>0.0</td>\n",
       "      <td>...</td>\n",
       "      <td>0.0</td>\n",
       "      <td>0.0</td>\n",
       "      <td>0.0</td>\n",
       "      <td>0.0</td>\n",
       "      <td>0.0</td>\n",
       "      <td>0.0</td>\n",
       "      <td>0.0</td>\n",
       "      <td>0.0</td>\n",
       "      <td>0.0</td>\n",
       "      <td>0.0000</td>\n",
       "    </tr>\n",
       "    <tr>\n",
       "      <th>2</th>\n",
       "      <td>0.0000</td>\n",
       "      <td>0.000000</td>\n",
       "      <td>0.000000</td>\n",
       "      <td>0.0</td>\n",
       "      <td>0.0</td>\n",
       "      <td>0.0</td>\n",
       "      <td>0.0</td>\n",
       "      <td>0.0</td>\n",
       "      <td>0.0</td>\n",
       "      <td>0.0</td>\n",
       "      <td>...</td>\n",
       "      <td>0.0</td>\n",
       "      <td>0.0</td>\n",
       "      <td>0.0</td>\n",
       "      <td>0.0</td>\n",
       "      <td>0.0</td>\n",
       "      <td>0.0</td>\n",
       "      <td>0.0</td>\n",
       "      <td>0.0</td>\n",
       "      <td>0.0</td>\n",
       "      <td>0.0000</td>\n",
       "    </tr>\n",
       "    <tr>\n",
       "      <th>3</th>\n",
       "      <td>0.0000</td>\n",
       "      <td>0.000000</td>\n",
       "      <td>0.749520</td>\n",
       "      <td>0.0</td>\n",
       "      <td>0.0</td>\n",
       "      <td>0.0</td>\n",
       "      <td>0.0</td>\n",
       "      <td>0.0</td>\n",
       "      <td>0.0</td>\n",
       "      <td>0.0</td>\n",
       "      <td>...</td>\n",
       "      <td>0.0</td>\n",
       "      <td>0.0</td>\n",
       "      <td>0.0</td>\n",
       "      <td>0.0</td>\n",
       "      <td>0.0</td>\n",
       "      <td>0.0</td>\n",
       "      <td>0.0</td>\n",
       "      <td>0.0</td>\n",
       "      <td>0.0</td>\n",
       "      <td>0.0000</td>\n",
       "    </tr>\n",
       "    <tr>\n",
       "      <th>4</th>\n",
       "      <td>0.0000</td>\n",
       "      <td>0.000000</td>\n",
       "      <td>0.000000</td>\n",
       "      <td>0.0</td>\n",
       "      <td>0.0</td>\n",
       "      <td>0.0</td>\n",
       "      <td>0.0</td>\n",
       "      <td>0.0</td>\n",
       "      <td>0.0</td>\n",
       "      <td>0.0</td>\n",
       "      <td>...</td>\n",
       "      <td>0.0</td>\n",
       "      <td>0.0</td>\n",
       "      <td>0.0</td>\n",
       "      <td>0.0</td>\n",
       "      <td>0.0</td>\n",
       "      <td>0.0</td>\n",
       "      <td>0.0</td>\n",
       "      <td>0.0</td>\n",
       "      <td>0.0</td>\n",
       "      <td>0.0000</td>\n",
       "    </tr>\n",
       "    <tr>\n",
       "      <th>...</th>\n",
       "      <td>...</td>\n",
       "      <td>...</td>\n",
       "      <td>...</td>\n",
       "      <td>...</td>\n",
       "      <td>...</td>\n",
       "      <td>...</td>\n",
       "      <td>...</td>\n",
       "      <td>...</td>\n",
       "      <td>...</td>\n",
       "      <td>...</td>\n",
       "      <td>...</td>\n",
       "      <td>...</td>\n",
       "      <td>...</td>\n",
       "      <td>...</td>\n",
       "      <td>...</td>\n",
       "      <td>...</td>\n",
       "      <td>...</td>\n",
       "      <td>...</td>\n",
       "      <td>...</td>\n",
       "      <td>...</td>\n",
       "      <td>...</td>\n",
       "    </tr>\n",
       "    <tr>\n",
       "      <th>2726</th>\n",
       "      <td>0.0000</td>\n",
       "      <td>0.000000</td>\n",
       "      <td>0.000000</td>\n",
       "      <td>0.0</td>\n",
       "      <td>0.0</td>\n",
       "      <td>0.0</td>\n",
       "      <td>0.0</td>\n",
       "      <td>0.0</td>\n",
       "      <td>0.0</td>\n",
       "      <td>0.0</td>\n",
       "      <td>...</td>\n",
       "      <td>0.0</td>\n",
       "      <td>0.0</td>\n",
       "      <td>0.0</td>\n",
       "      <td>0.0</td>\n",
       "      <td>0.0</td>\n",
       "      <td>0.0</td>\n",
       "      <td>0.0</td>\n",
       "      <td>0.0</td>\n",
       "      <td>0.0</td>\n",
       "      <td>0.0000</td>\n",
       "    </tr>\n",
       "    <tr>\n",
       "      <th>2727</th>\n",
       "      <td>0.0000</td>\n",
       "      <td>0.000000</td>\n",
       "      <td>0.633316</td>\n",
       "      <td>0.0</td>\n",
       "      <td>0.0</td>\n",
       "      <td>0.0</td>\n",
       "      <td>0.0</td>\n",
       "      <td>0.0</td>\n",
       "      <td>0.0</td>\n",
       "      <td>0.0</td>\n",
       "      <td>...</td>\n",
       "      <td>0.0</td>\n",
       "      <td>0.0</td>\n",
       "      <td>0.0</td>\n",
       "      <td>0.0</td>\n",
       "      <td>0.0</td>\n",
       "      <td>0.0</td>\n",
       "      <td>0.0</td>\n",
       "      <td>0.0</td>\n",
       "      <td>0.0</td>\n",
       "      <td>0.0000</td>\n",
       "    </tr>\n",
       "    <tr>\n",
       "      <th>2728</th>\n",
       "      <td>0.0000</td>\n",
       "      <td>0.000000</td>\n",
       "      <td>0.000000</td>\n",
       "      <td>0.0</td>\n",
       "      <td>0.0</td>\n",
       "      <td>0.0</td>\n",
       "      <td>0.0</td>\n",
       "      <td>0.0</td>\n",
       "      <td>0.0</td>\n",
       "      <td>0.0</td>\n",
       "      <td>...</td>\n",
       "      <td>0.0</td>\n",
       "      <td>0.0</td>\n",
       "      <td>0.0</td>\n",
       "      <td>0.0</td>\n",
       "      <td>0.0</td>\n",
       "      <td>0.0</td>\n",
       "      <td>0.0</td>\n",
       "      <td>0.0</td>\n",
       "      <td>0.0</td>\n",
       "      <td>0.7453</td>\n",
       "    </tr>\n",
       "    <tr>\n",
       "      <th>2729</th>\n",
       "      <td>0.0000</td>\n",
       "      <td>0.000000</td>\n",
       "      <td>0.000000</td>\n",
       "      <td>0.0</td>\n",
       "      <td>0.0</td>\n",
       "      <td>0.0</td>\n",
       "      <td>0.0</td>\n",
       "      <td>0.0</td>\n",
       "      <td>0.0</td>\n",
       "      <td>0.0</td>\n",
       "      <td>...</td>\n",
       "      <td>0.0</td>\n",
       "      <td>0.0</td>\n",
       "      <td>0.0</td>\n",
       "      <td>0.0</td>\n",
       "      <td>0.0</td>\n",
       "      <td>0.0</td>\n",
       "      <td>0.0</td>\n",
       "      <td>0.0</td>\n",
       "      <td>0.0</td>\n",
       "      <td>0.0000</td>\n",
       "    </tr>\n",
       "    <tr>\n",
       "      <th>2730</th>\n",
       "      <td>0.0000</td>\n",
       "      <td>0.000000</td>\n",
       "      <td>0.000000</td>\n",
       "      <td>0.0</td>\n",
       "      <td>0.0</td>\n",
       "      <td>0.0</td>\n",
       "      <td>0.0</td>\n",
       "      <td>0.0</td>\n",
       "      <td>0.0</td>\n",
       "      <td>0.0</td>\n",
       "      <td>...</td>\n",
       "      <td>0.0</td>\n",
       "      <td>0.0</td>\n",
       "      <td>0.0</td>\n",
       "      <td>0.0</td>\n",
       "      <td>0.0</td>\n",
       "      <td>0.0</td>\n",
       "      <td>0.0</td>\n",
       "      <td>0.0</td>\n",
       "      <td>0.0</td>\n",
       "      <td>0.0000</td>\n",
       "    </tr>\n",
       "  </tbody>\n",
       "</table>\n",
       "<p>2731 rows × 60 columns</p>\n",
       "</div>"
      ],
      "text/plain": [
       "         amp   android       app  apple  apps  around  austin  awesome  best  \\\n",
       "0     0.0000  0.788859  0.614575    0.0   0.0     0.0     0.0      0.0   0.0   \n",
       "1     0.4543  0.000000  0.000000    0.0   0.0     0.0     0.0      0.0   0.0   \n",
       "2     0.0000  0.000000  0.000000    0.0   0.0     0.0     0.0      0.0   0.0   \n",
       "3     0.0000  0.000000  0.749520    0.0   0.0     0.0     0.0      0.0   0.0   \n",
       "4     0.0000  0.000000  0.000000    0.0   0.0     0.0     0.0      0.0   0.0   \n",
       "...      ...       ...       ...    ...   ...     ...     ...      ...   ...   \n",
       "2726  0.0000  0.000000  0.000000    0.0   0.0     0.0     0.0      0.0   0.0   \n",
       "2727  0.0000  0.000000  0.633316    0.0   0.0     0.0     0.0      0.0   0.0   \n",
       "2728  0.0000  0.000000  0.000000    0.0   0.0     0.0     0.0      0.0   0.0   \n",
       "2729  0.0000  0.000000  0.000000    0.0   0.0     0.0     0.0      0.0   0.0   \n",
       "2730  0.0000  0.000000  0.000000    0.0   0.0     0.0     0.0      0.0   0.0   \n",
       "\n",
       "      called  ...  store  sxsw  temporary  thanks  think  time  today  via  \\\n",
       "0        0.0  ...    0.0   0.0        0.0     0.0    0.0   0.0    0.0  0.0   \n",
       "1        0.0  ...    0.0   0.0        0.0     0.0    0.0   0.0    0.0  0.0   \n",
       "2        0.0  ...    0.0   0.0        0.0     0.0    0.0   0.0    0.0  0.0   \n",
       "3        0.0  ...    0.0   0.0        0.0     0.0    0.0   0.0    0.0  0.0   \n",
       "4        0.0  ...    0.0   0.0        0.0     0.0    0.0   0.0    0.0  0.0   \n",
       "...      ...  ...    ...   ...        ...     ...    ...   ...    ...  ...   \n",
       "2726     0.0  ...    0.0   0.0        0.0     0.0    0.0   0.0    0.0  0.0   \n",
       "2727     0.0  ...    0.0   0.0        0.0     0.0    0.0   0.0    0.0  0.0   \n",
       "2728     0.0  ...    0.0   0.0        0.0     0.0    0.0   0.0    0.0  0.0   \n",
       "2729     0.0  ...    0.0   0.0        0.0     0.0    0.0   0.0    0.0  0.0   \n",
       "2730     0.0  ...    0.0   0.0        0.0     0.0    0.0   0.0    0.0  0.0   \n",
       "\n",
       "      wins   would  \n",
       "0      0.0  0.0000  \n",
       "1      0.0  0.0000  \n",
       "2      0.0  0.0000  \n",
       "3      0.0  0.0000  \n",
       "4      0.0  0.0000  \n",
       "...    ...     ...  \n",
       "2726   0.0  0.0000  \n",
       "2727   0.0  0.0000  \n",
       "2728   0.0  0.7453  \n",
       "2729   0.0  0.0000  \n",
       "2730   0.0  0.0000  \n",
       "\n",
       "[2731 rows x 60 columns]"
      ]
     },
     "execution_count": 58,
     "metadata": {},
     "output_type": "execute_result"
    }
   ],
   "source": [
    "tfidf_regex_text = TfidfVectorizer(max_features=60)\n",
    "\n",
    "X_train_vectorized_regex_text = tfidf_regex_text.fit_transform(X_train['regex_text'])\n",
    "\n",
    "pd.DataFrame.sparse.from_spmatrix(X_train_vectorized_regex_text, columns=tfidf.get_feature_names())"
   ]
  },
  {
   "cell_type": "code",
   "execution_count": 59,
   "id": "c042e454",
   "metadata": {
    "ExecuteTime": {
     "end_time": "2022-02-17T04:31:32.131292Z",
     "start_time": "2022-02-17T04:31:32.120353Z"
    }
   },
   "outputs": [],
   "source": [
    "smote_regex_text = SMOTE(k_neighbors=5)\n",
    "X_train_resampled_regex_text, y_train_regex_resampled_text = smote_regex_text.fit_resample(X_train_vectorized_regex_text, y_train)"
   ]
  },
  {
   "cell_type": "code",
   "execution_count": 60,
   "id": "7649a14d",
   "metadata": {
    "ExecuteTime": {
     "end_time": "2022-02-17T04:31:34.482599Z",
     "start_time": "2022-02-17T04:31:32.133272Z"
    }
   },
   "outputs": [
    {
     "data": {
      "text/plain": [
       "array([0.79107726, 0.84874864, 0.83460283, 0.83242655, 0.8540305 ])"
      ]
     },
     "execution_count": 60,
     "metadata": {},
     "output_type": "execute_result"
    }
   ],
   "source": [
    "clf_regex_text = svm.SVC()\n",
    "clf_regex_text.fit(X_train_resampled_regex_text, y_train_regex_resampled_text)\n",
    "clf_regex_text_cv = cross_val_score(clf_regex_text, X_train_resampled_regex_text, y_train_regex_resampled_text)\n",
    "clf_regex_text_cv"
   ]
  },
  {
   "cell_type": "code",
   "execution_count": 61,
   "id": "4e49b9fe",
   "metadata": {
    "ExecuteTime": {
     "end_time": "2022-02-17T04:31:34.487804Z",
     "start_time": "2022-02-17T04:31:34.484320Z"
    }
   },
   "outputs": [
    {
     "name": "stdout",
     "output_type": "stream",
     "text": [
      "Baseline:        0.6730539731307829\n",
      "SVM:             0.8258628660024039\n",
      "KNN 5:           0.7705671362971497\n",
      "SVM_text:        0.9194679733820743\n",
      "SVM_regex_text:  0.8321771557129682\n"
     ]
    }
   ],
   "source": [
    "print(\"Baseline:       \", baseline_cv.mean())\n",
    "print(\"SVM:            \", clf_cv.mean())\n",
    "print(\"KNN 5:          \", knn_5_cv.mean())\n",
    "print(\"SVM_text:       \", clf_text_cv.mean())\n",
    "print(\"SVM_regex_text: \", clf_regex_text_cv.mean())"
   ]
  },
  {
   "cell_type": "code",
   "execution_count": 62,
   "id": "4c48e447",
   "metadata": {
    "ExecuteTime": {
     "end_time": "2022-02-17T04:31:34.566810Z",
     "start_time": "2022-02-17T04:31:34.489270Z"
    }
   },
   "outputs": [
    {
     "name": "stdout",
     "output_type": "stream",
     "text": [
      "              precision    recall  f1-score   support\n",
      "\n",
      "           0       0.16      0.18      0.17       111\n",
      "           1       0.84      0.81      0.82       572\n",
      "\n",
      "    accuracy                           0.71       683\n",
      "   macro avg       0.50      0.50      0.50       683\n",
      "weighted avg       0.73      0.71      0.72       683\n",
      "\n"
     ]
    }
   ],
   "source": [
    "X_test_vectorized_regex_text = tfidf_regex_text.fit_transform(X_test['regex_text'])\n",
    "SVM_regex_text_preds = clf_regex_text.predict(X_test_vectorized_regex_text)\n",
    "\n",
    "print(classification_report(y_test, SVM_regex_text_preds))"
   ]
  },
  {
   "cell_type": "code",
   "execution_count": 63,
   "id": "b59cd352",
   "metadata": {
    "ExecuteTime": {
     "end_time": "2022-02-17T04:31:34.740698Z",
     "start_time": "2022-02-17T04:31:34.568632Z"
    }
   },
   "outputs": [
    {
     "name": "stderr",
     "output_type": "stream",
     "text": [
      "/Users/patrick/opt/anaconda3/lib/python3.9/site-packages/sklearn/utils/deprecation.py:87: FutureWarning: Function plot_confusion_matrix is deprecated; Function `plot_confusion_matrix` is deprecated in 1.0 and will be removed in 1.2. Use one of the class methods: ConfusionMatrixDisplay.from_predictions or ConfusionMatrixDisplay.from_estimator.\n",
      "  warnings.warn(msg, category=FutureWarning)\n"
     ]
    },
    {
     "data": {
      "image/png": "[encoded data removed]",
      "text/plain": [
       "<Figure size 432x288 with 2 Axes>"
      ]
     },
     "metadata": {
      "needs_background": "light"
     },
     "output_type": "display_data"
    }
   ],
   "source": [
    "plot_confusion_matrix(clf_regex_text, X_test_vectorized_regex_text, y_test, cmap=plt.cm.Oranges)\n",
    "plt.grid(False)\n",
    "plt.show()"
   ]
  },
  {
   "cell_type": "code",
   "execution_count": null,
   "id": "323ea543",
   "metadata": {},
   "outputs": [],
   "source": []
  },
  {
   "cell_type": "code",
   "execution_count": null,
   "id": "e57f108d",
   "metadata": {},
   "outputs": [],
   "source": []
  },
  {
   "cell_type": "code",
   "execution_count": null,
   "id": "6367ec24",
   "metadata": {},
   "outputs": [],
   "source": []
  },
  {
   "cell_type": "code",
   "execution_count": null,
   "id": "ab355a02",
   "metadata": {},
   "outputs": [],
   "source": []
  },
  {
   "cell_type": "code",
   "execution_count": null,
   "id": "1728e538",
   "metadata": {},
   "outputs": [],
   "source": []
  },
  {
   "cell_type": "code",
   "execution_count": null,
   "id": "897b0959",
   "metadata": {},
   "outputs": [],
   "source": []
  },
  {
   "cell_type": "code",
   "execution_count": null,
   "id": "a12993f5",
   "metadata": {},
   "outputs": [],
   "source": []
  },
  {
   "cell_type": "code",
   "execution_count": null,
   "id": "2d11db11",
   "metadata": {},
   "outputs": [],
   "source": []
  },
  {
   "cell_type": "code",
   "execution_count": null,
   "id": "f9f546e0",
   "metadata": {},
   "outputs": [],
   "source": []
  },
  {
   "cell_type": "code",
   "execution_count": null,
   "id": "d0297a6f",
   "metadata": {},
   "outputs": [],
   "source": []
  },
  {
   "cell_type": "code",
   "execution_count": null,
   "id": "00769573",
   "metadata": {},
   "outputs": [],
   "source": []
  },
  {
   "cell_type": "code",
   "execution_count": null,
   "id": "0e0b571b",
   "metadata": {},
   "outputs": [],
   "source": []
  },
  {
   "cell_type": "code",
   "execution_count": null,
   "id": "f221df36",
   "metadata": {},
   "outputs": [],
   "source": []
  },
  {
   "cell_type": "code",
   "execution_count": null,
   "id": "f9c932c2",
   "metadata": {},
   "outputs": [],
   "source": []
  },
  {
   "cell_type": "code",
   "execution_count": null,
   "id": "fd41d367",
   "metadata": {},
   "outputs": [],
   "source": []
  },
  {
   "cell_type": "code",
   "execution_count": null,
   "id": "7c943f61",
   "metadata": {},
   "outputs": [],
   "source": []
  },
  {
   "cell_type": "code",
   "execution_count": null,
   "id": "3957a9d5",
   "metadata": {},
   "outputs": [],
   "source": []
  },
  {
   "cell_type": "code",
   "execution_count": null,
   "id": "334bdf7a",
   "metadata": {},
   "outputs": [],
   "source": []
  },
  {
   "cell_type": "code",
   "execution_count": null,
   "id": "c9ef5ca5",
   "metadata": {},
   "outputs": [],
   "source": []
  },
  {
   "cell_type": "code",
   "execution_count": null,
   "id": "59e5783c",
   "metadata": {},
   "outputs": [],
   "source": []
  },
  {
   "cell_type": "code",
   "execution_count": null,
   "id": "8e3f095f",
   "metadata": {},
   "outputs": [],
   "source": []
  },
  {
   "cell_type": "code",
   "execution_count": null,
   "id": "d45b6434",
   "metadata": {},
   "outputs": [],
   "source": []
  },
  {
   "cell_type": "code",
   "execution_count": null,
   "id": "bf2b2d71",
   "metadata": {},
   "outputs": [],
   "source": []
  },
  {
   "cell_type": "code",
   "execution_count": null,
   "id": "26fa3421",
   "metadata": {},
   "outputs": [],
   "source": []
  },
  {
   "cell_type": "code",
   "execution_count": null,
   "id": "8f742be2",
   "metadata": {},
   "outputs": [],
   "source": []
  },
  {
   "cell_type": "code",
   "execution_count": null,
   "id": "5aba2ffb",
   "metadata": {},
   "outputs": [],
   "source": []
  },
  {
   "cell_type": "code",
   "execution_count": null,
   "id": "ebb74f8c",
   "metadata": {},
   "outputs": [],
   "source": []
  },
  {
   "cell_type": "code",
   "execution_count": null,
   "id": "9b761ab6",
   "metadata": {},
   "outputs": [],
   "source": []
  },
  {
   "cell_type": "code",
   "execution_count": null,
   "id": "174ca8f1",
   "metadata": {},
   "outputs": [],
   "source": []
  }
 ],
 "metadata": {
  "hide_input": false,
  "kernelspec": {
   "display_name": "Python 3 (ipykernel)",
   "language": "python",
   "name": "python3"
  },
  "language_info": {
   "codemirror_mode": {
    "name": "ipython",
    "version": 3
   },
   "file_extension": ".py",
   "mimetype": "text/x-python",
   "name": "python",
   "nbconvert_exporter": "python",
   "pygments_lexer": "ipython3",
   "version": "3.9.7"
  }
 },
 "nbformat": 4,
 "nbformat_minor": 5
}
