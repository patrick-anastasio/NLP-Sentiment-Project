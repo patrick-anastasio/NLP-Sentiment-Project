{
 "cells": [
  {
   "cell_type": "code",
   "execution_count": 98,
   "id": "4aac682f",
   "metadata": {
    "ExecuteTime": {
     "end_time": "2022-02-17T19:06:23.075706Z",
     "start_time": "2022-02-17T19:06:23.068028Z"
    }
   },
   "outputs": [],
   "source": [
    "import pandas as pd\n",
    "import numpy as np\n",
    "from mpl_toolkits.mplot3d import Axes3D\n",
    "import matplotlib.pyplot as plt\n",
    "%matplotlib inline\n",
    "from sklearn.utils import class_weight\n",
    "from sklearn.model_selection import train_test_split\n",
    "from sklearn.feature_extraction.text import TfidfVectorizer\n",
    "from sklearn.naive_bayes import MultinomialNB\n",
    "from sklearn.model_selection import cross_val_score\n",
    "from sklearn.manifold import TSNE\n",
    "from nltk.tokenize import word_tokenize\n",
    "from nltk.tokenize import RegexpTokenizer\n",
    "from imblearn.over_sampling import SMOTE\n",
    "import string\n",
    "from nltk import FreqDist\n",
    "from nltk.corpus import stopwords\n",
    "from nltk.stem import SnowballStemmer\n",
    "from nltk.stem import WordNetLemmatizer\n",
    "from nltk import bigrams\n",
    "from sklearn.metrics import classification_report\n",
    "from sklearn.metrics import plot_confusion_matrix\n",
    "import matplotlib.pyplot as plt\n",
    "from sklearn import svm\n",
    "from collections import Counter\n",
    "from imblearn.under_sampling import NearMiss\n",
    "from sklearn.neighbors import KNeighborsClassifier\n",
    "from sklearn.feature_extraction.text import CountVectorizer"
   ]
  },
  {
   "cell_type": "code",
   "execution_count": 2,
   "id": "3ba142ca",
   "metadata": {
    "ExecuteTime": {
     "end_time": "2022-02-17T05:48:22.621593Z",
     "start_time": "2022-02-17T05:48:22.591022Z"
    }
   },
   "outputs": [
    {
     "data": {
      "text/html": [
       "<div>\n",
       "<style scoped>\n",
       "    .dataframe tbody tr th:only-of-type {\n",
       "        vertical-align: middle;\n",
       "    }\n",
       "\n",
       "    .dataframe tbody tr th {\n",
       "        vertical-align: top;\n",
       "    }\n",
       "\n",
       "    .dataframe thead th {\n",
       "        text-align: right;\n",
       "    }\n",
       "</style>\n",
       "<table border=\"1\" class=\"dataframe\">\n",
       "  <thead>\n",
       "    <tr style=\"text-align: right;\">\n",
       "      <th></th>\n",
       "      <th>tweet_text</th>\n",
       "      <th>emotion_in_tweet_is_directed_at</th>\n",
       "      <th>is_there_an_emotion_directed_at_a_brand_or_product</th>\n",
       "    </tr>\n",
       "  </thead>\n",
       "  <tbody>\n",
       "    <tr>\n",
       "      <th>0</th>\n",
       "      <td>.@wesley83 I have a 3G iPhone. After 3 hrs twe...</td>\n",
       "      <td>iPhone</td>\n",
       "      <td>Negative emotion</td>\n",
       "    </tr>\n",
       "    <tr>\n",
       "      <th>1</th>\n",
       "      <td>@jessedee Know about @fludapp ? Awesome iPad/i...</td>\n",
       "      <td>iPad or iPhone App</td>\n",
       "      <td>Positive emotion</td>\n",
       "    </tr>\n",
       "    <tr>\n",
       "      <th>2</th>\n",
       "      <td>@swonderlin Can not wait for #iPad 2 also. The...</td>\n",
       "      <td>iPad</td>\n",
       "      <td>Positive emotion</td>\n",
       "    </tr>\n",
       "    <tr>\n",
       "      <th>3</th>\n",
       "      <td>@sxsw I hope this year's festival isn't as cra...</td>\n",
       "      <td>iPad or iPhone App</td>\n",
       "      <td>Negative emotion</td>\n",
       "    </tr>\n",
       "    <tr>\n",
       "      <th>4</th>\n",
       "      <td>@sxtxstate great stuff on Fri #SXSW: Marissa M...</td>\n",
       "      <td>Google</td>\n",
       "      <td>Positive emotion</td>\n",
       "    </tr>\n",
       "    <tr>\n",
       "      <th>...</th>\n",
       "      <td>...</td>\n",
       "      <td>...</td>\n",
       "      <td>...</td>\n",
       "    </tr>\n",
       "    <tr>\n",
       "      <th>8709</th>\n",
       "      <td>Diller says Google TV &amp;quot;might be run over ...</td>\n",
       "      <td>Other Google product or service</td>\n",
       "      <td>Negative emotion</td>\n",
       "    </tr>\n",
       "    <tr>\n",
       "      <th>8710</th>\n",
       "      <td>Google says reports about launch of Circles so...</td>\n",
       "      <td>NaN</td>\n",
       "      <td>No emotion toward brand or product</td>\n",
       "    </tr>\n",
       "    <tr>\n",
       "      <th>8711</th>\n",
       "      <td>Google says the future is all around you! (ie,...</td>\n",
       "      <td>NaN</td>\n",
       "      <td>No emotion toward brand or product</td>\n",
       "    </tr>\n",
       "    <tr>\n",
       "      <th>8712</th>\n",
       "      <td>Google says the future is location, location, ...</td>\n",
       "      <td>NaN</td>\n",
       "      <td>No emotion toward brand or product</td>\n",
       "    </tr>\n",
       "    <tr>\n",
       "      <th>8713</th>\n",
       "      <td>I've always used Camera+ for my iPhone b/c it ...</td>\n",
       "      <td>iPad or iPhone App</td>\n",
       "      <td>Positive emotion</td>\n",
       "    </tr>\n",
       "  </tbody>\n",
       "</table>\n",
       "<p>8714 rows × 3 columns</p>\n",
       "</div>"
      ],
      "text/plain": [
       "                                             tweet_text  \\\n",
       "0     .@wesley83 I have a 3G iPhone. After 3 hrs twe...   \n",
       "1     @jessedee Know about @fludapp ? Awesome iPad/i...   \n",
       "2     @swonderlin Can not wait for #iPad 2 also. The...   \n",
       "3     @sxsw I hope this year's festival isn't as cra...   \n",
       "4     @sxtxstate great stuff on Fri #SXSW: Marissa M...   \n",
       "...                                                 ...   \n",
       "8709  Diller says Google TV &quot;might be run over ...   \n",
       "8710  Google says reports about launch of Circles so...   \n",
       "8711  Google says the future is all around you! (ie,...   \n",
       "8712  Google says the future is location, location, ...   \n",
       "8713  I've always used Camera+ for my iPhone b/c it ...   \n",
       "\n",
       "      emotion_in_tweet_is_directed_at  \\\n",
       "0                              iPhone   \n",
       "1                  iPad or iPhone App   \n",
       "2                                iPad   \n",
       "3                  iPad or iPhone App   \n",
       "4                              Google   \n",
       "...                               ...   \n",
       "8709  Other Google product or service   \n",
       "8710                              NaN   \n",
       "8711                              NaN   \n",
       "8712                              NaN   \n",
       "8713               iPad or iPhone App   \n",
       "\n",
       "     is_there_an_emotion_directed_at_a_brand_or_product  \n",
       "0                                      Negative emotion  \n",
       "1                                      Positive emotion  \n",
       "2                                      Positive emotion  \n",
       "3                                      Negative emotion  \n",
       "4                                      Positive emotion  \n",
       "...                                                 ...  \n",
       "8709                                   Negative emotion  \n",
       "8710                 No emotion toward brand or product  \n",
       "8711                 No emotion toward brand or product  \n",
       "8712                 No emotion toward brand or product  \n",
       "8713                                   Positive emotion  \n",
       "\n",
       "[8714 rows x 3 columns]"
      ]
     },
     "execution_count": 2,
     "metadata": {},
     "output_type": "execute_result"
    }
   ],
   "source": [
    "df = pd.read_csv('data/judge_1377884607_tweet_product_company.csv')\n",
    "df.head(-7)"
   ]
  },
  {
   "cell_type": "code",
   "execution_count": 3,
   "id": "c9496ca5",
   "metadata": {
    "ExecuteTime": {
     "end_time": "2022-02-17T05:48:22.636174Z",
     "start_time": "2022-02-17T05:48:22.624669Z"
    }
   },
   "outputs": [
    {
     "name": "stdout",
     "output_type": "stream",
     "text": [
      "<class 'pandas.core.frame.DataFrame'>\n",
      "RangeIndex: 8721 entries, 0 to 8720\n",
      "Data columns (total 3 columns):\n",
      " #   Column                                              Non-Null Count  Dtype \n",
      "---  ------                                              --------------  ----- \n",
      " 0   tweet_text                                          8720 non-null   object\n",
      " 1   emotion_in_tweet_is_directed_at                     3169 non-null   object\n",
      " 2   is_there_an_emotion_directed_at_a_brand_or_product  8721 non-null   object\n",
      "dtypes: object(3)\n",
      "memory usage: 204.5+ KB\n"
     ]
    }
   ],
   "source": [
    "df.info()"
   ]
  },
  {
   "cell_type": "code",
   "execution_count": 4,
   "id": "6143a7e4",
   "metadata": {
    "ExecuteTime": {
     "end_time": "2022-02-17T05:48:22.640915Z",
     "start_time": "2022-02-17T05:48:22.637403Z"
    }
   },
   "outputs": [
    {
     "data": {
      "text/plain": [
       "Index(['tweet_text', 'emotion_in_tweet_is_directed_at',\n",
       "       'is_there_an_emotion_directed_at_a_brand_or_product'],\n",
       "      dtype='object')"
      ]
     },
     "execution_count": 4,
     "metadata": {},
     "output_type": "execute_result"
    }
   ],
   "source": [
    "df.columns"
   ]
  },
  {
   "cell_type": "code",
   "execution_count": 5,
   "id": "415a6187",
   "metadata": {
    "ExecuteTime": {
     "end_time": "2022-02-17T05:48:22.646872Z",
     "start_time": "2022-02-17T05:48:22.642150Z"
    }
   },
   "outputs": [
    {
     "data": {
      "text/plain": [
       "iPad                               910\n",
       "Apple                              640\n",
       "iPad or iPhone App                 451\n",
       "Google                             412\n",
       "iPhone                             288\n",
       "Other Google product or service    282\n",
       "Android App                         78\n",
       "Android                             74\n",
       "Other Apple product or service      34\n",
       "Name: emotion_in_tweet_is_directed_at, dtype: int64"
      ]
     },
     "execution_count": 5,
     "metadata": {},
     "output_type": "execute_result"
    }
   ],
   "source": [
    "df.emotion_in_tweet_is_directed_at.value_counts()"
   ]
  },
  {
   "cell_type": "code",
   "execution_count": 6,
   "id": "e48f839d",
   "metadata": {
    "ExecuteTime": {
     "end_time": "2022-02-17T05:48:22.653179Z",
     "start_time": "2022-02-17T05:48:22.648436Z"
    }
   },
   "outputs": [
    {
     "data": {
      "text/plain": [
       "No emotion toward brand or product    5156\n",
       "Positive emotion                      2869\n",
       "Negative emotion                       545\n",
       "I can't tell                           151\n",
       "Name: is_there_an_emotion_directed_at_a_brand_or_product, dtype: int64"
      ]
     },
     "execution_count": 6,
     "metadata": {},
     "output_type": "execute_result"
    }
   ],
   "source": [
    "df.is_there_an_emotion_directed_at_a_brand_or_product.value_counts()"
   ]
  },
  {
   "cell_type": "code",
   "execution_count": 7,
   "id": "d42c8d00",
   "metadata": {
    "ExecuteTime": {
     "end_time": "2022-02-17T05:48:22.658595Z",
     "start_time": "2022-02-17T05:48:22.654593Z"
    }
   },
   "outputs": [],
   "source": [
    "pos_neg = df[df['is_there_an_emotion_directed_at_a_brand_or_product'] != \"I can't tell\"]"
   ]
  },
  {
   "cell_type": "code",
   "execution_count": 8,
   "id": "70f4ca52",
   "metadata": {
    "ExecuteTime": {
     "end_time": "2022-02-17T05:48:22.663225Z",
     "start_time": "2022-02-17T05:48:22.659913Z"
    }
   },
   "outputs": [],
   "source": [
    "pos_neg = pos_neg[pos_neg['is_there_an_emotion_directed_at_a_brand_or_product'] != \"No emotion toward brand or product\"]"
   ]
  },
  {
   "cell_type": "markdown",
   "id": "ecfd215d",
   "metadata": {},
   "source": [
    "### Heavily imbalanced datset"
   ]
  },
  {
   "cell_type": "code",
   "execution_count": 9,
   "id": "3a3836d2",
   "metadata": {
    "ExecuteTime": {
     "end_time": "2022-02-17T05:48:22.672326Z",
     "start_time": "2022-02-17T05:48:22.665611Z"
    }
   },
   "outputs": [
    {
     "data": {
      "text/plain": [
       "Positive emotion    0.840363\n",
       "Negative emotion    0.159637\n",
       "Name: is_there_an_emotion_directed_at_a_brand_or_product, dtype: float64"
      ]
     },
     "execution_count": 9,
     "metadata": {},
     "output_type": "execute_result"
    }
   ],
   "source": [
    "pos_neg.is_there_an_emotion_directed_at_a_brand_or_product.value_counts(normalize=True)"
   ]
  },
  {
   "cell_type": "code",
   "execution_count": null,
   "id": "c7e2355c",
   "metadata": {},
   "outputs": [],
   "source": []
  },
  {
   "cell_type": "markdown",
   "id": "6bfeda20",
   "metadata": {},
   "source": [
    "### More Data Cleaning"
   ]
  },
  {
   "cell_type": "code",
   "execution_count": 10,
   "id": "46139290",
   "metadata": {
    "ExecuteTime": {
     "end_time": "2022-02-17T05:48:22.683564Z",
     "start_time": "2022-02-17T05:48:22.673623Z"
    }
   },
   "outputs": [
    {
     "data": {
      "text/html": [
       "<div>\n",
       "<style scoped>\n",
       "    .dataframe tbody tr th:only-of-type {\n",
       "        vertical-align: middle;\n",
       "    }\n",
       "\n",
       "    .dataframe tbody tr th {\n",
       "        vertical-align: top;\n",
       "    }\n",
       "\n",
       "    .dataframe thead th {\n",
       "        text-align: right;\n",
       "    }\n",
       "</style>\n",
       "<table border=\"1\" class=\"dataframe\">\n",
       "  <thead>\n",
       "    <tr style=\"text-align: right;\">\n",
       "      <th></th>\n",
       "      <th>text</th>\n",
       "      <th>target</th>\n",
       "    </tr>\n",
       "  </thead>\n",
       "  <tbody>\n",
       "    <tr>\n",
       "      <th>0</th>\n",
       "      <td>.@wesley83 I have a 3G iPhone. After 3 hrs twe...</td>\n",
       "      <td>Negative emotion</td>\n",
       "    </tr>\n",
       "    <tr>\n",
       "      <th>1</th>\n",
       "      <td>@jessedee Know about @fludapp ? Awesome iPad/i...</td>\n",
       "      <td>Positive emotion</td>\n",
       "    </tr>\n",
       "    <tr>\n",
       "      <th>2</th>\n",
       "      <td>@swonderlin Can not wait for #iPad 2 also. The...</td>\n",
       "      <td>Positive emotion</td>\n",
       "    </tr>\n",
       "    <tr>\n",
       "      <th>3</th>\n",
       "      <td>@sxsw I hope this year's festival isn't as cra...</td>\n",
       "      <td>Negative emotion</td>\n",
       "    </tr>\n",
       "    <tr>\n",
       "      <th>4</th>\n",
       "      <td>@sxtxstate great stuff on Fri #SXSW: Marissa M...</td>\n",
       "      <td>Positive emotion</td>\n",
       "    </tr>\n",
       "  </tbody>\n",
       "</table>\n",
       "</div>"
      ],
      "text/plain": [
       "                                                text            target\n",
       "0  .@wesley83 I have a 3G iPhone. After 3 hrs twe...  Negative emotion\n",
       "1  @jessedee Know about @fludapp ? Awesome iPad/i...  Positive emotion\n",
       "2  @swonderlin Can not wait for #iPad 2 also. The...  Positive emotion\n",
       "3  @sxsw I hope this year's festival isn't as cra...  Negative emotion\n",
       "4  @sxtxstate great stuff on Fri #SXSW: Marissa M...  Positive emotion"
      ]
     },
     "execution_count": 10,
     "metadata": {},
     "output_type": "execute_result"
    }
   ],
   "source": [
    "pos_neg = pos_neg.drop('emotion_in_tweet_is_directed_at', axis=1)\n",
    "pos_neg = pos_neg.rename(columns={'tweet_text':'text', 'is_there_an_emotion_directed_at_a_brand_or_product':'target'})\n",
    "pos_neg.head()"
   ]
  },
  {
   "cell_type": "code",
   "execution_count": 11,
   "id": "68774c47",
   "metadata": {
    "ExecuteTime": {
     "end_time": "2022-02-17T05:48:22.689596Z",
     "start_time": "2022-02-17T05:48:22.685474Z"
    }
   },
   "outputs": [],
   "source": [
    "def remove_ats_and_hashtags(text):\n",
    "    entity_prefixes = ['@','#','�']\n",
    "    for separator in  string.punctuation:\n",
    "        if separator not in entity_prefixes :\n",
    "            text = text.replace(separator,' ')\n",
    "    words = []\n",
    "    for word in text.split():\n",
    "        word = word.strip()\n",
    "        if word:\n",
    "            if word[0] not in entity_prefixes:\n",
    "                words.append(word)\n",
    "    return ' '.join(words)"
   ]
  },
  {
   "cell_type": "code",
   "execution_count": 12,
   "id": "e4998c5d",
   "metadata": {
    "ExecuteTime": {
     "end_time": "2022-02-17T05:48:22.729363Z",
     "start_time": "2022-02-17T05:48:22.694876Z"
    }
   },
   "outputs": [],
   "source": [
    "pos_neg['text'] = pos_neg['text'].map(remove_ats_and_hashtags)"
   ]
  },
  {
   "cell_type": "code",
   "execution_count": 13,
   "id": "8ee180d1",
   "metadata": {
    "ExecuteTime": {
     "end_time": "2022-02-17T05:48:22.736550Z",
     "start_time": "2022-02-17T05:48:22.730764Z"
    }
   },
   "outputs": [],
   "source": [
    "pos_neg.replace({'Negative emotion' : 0, 'Positive emotion' : 1}, inplace=True)"
   ]
  },
  {
   "cell_type": "code",
   "execution_count": 14,
   "id": "51ca64a3",
   "metadata": {
    "ExecuteTime": {
     "end_time": "2022-02-17T05:48:22.742107Z",
     "start_time": "2022-02-17T05:48:22.737998Z"
    }
   },
   "outputs": [],
   "source": [
    "pos_neg['text'] = pos_neg['text'].str.lower()"
   ]
  },
  {
   "cell_type": "code",
   "execution_count": 15,
   "id": "a7252539",
   "metadata": {
    "ExecuteTime": {
     "end_time": "2022-02-17T05:48:22.748881Z",
     "start_time": "2022-02-17T05:48:22.743132Z"
    }
   },
   "outputs": [
    {
     "data": {
      "text/html": [
       "<div>\n",
       "<style scoped>\n",
       "    .dataframe tbody tr th:only-of-type {\n",
       "        vertical-align: middle;\n",
       "    }\n",
       "\n",
       "    .dataframe tbody tr th {\n",
       "        vertical-align: top;\n",
       "    }\n",
       "\n",
       "    .dataframe thead th {\n",
       "        text-align: right;\n",
       "    }\n",
       "</style>\n",
       "<table border=\"1\" class=\"dataframe\">\n",
       "  <thead>\n",
       "    <tr style=\"text-align: right;\">\n",
       "      <th></th>\n",
       "      <th>text</th>\n",
       "      <th>target</th>\n",
       "    </tr>\n",
       "  </thead>\n",
       "  <tbody>\n",
       "    <tr>\n",
       "      <th>0</th>\n",
       "      <td>i have a 3g iphone after 3 hrs tweeting at aus...</td>\n",
       "      <td>0</td>\n",
       "    </tr>\n",
       "    <tr>\n",
       "      <th>1</th>\n",
       "      <td>know about awesome ipad iphone app that you ll...</td>\n",
       "      <td>1</td>\n",
       "    </tr>\n",
       "    <tr>\n",
       "      <th>2</th>\n",
       "      <td>can not wait for 2 also they should sale them ...</td>\n",
       "      <td>1</td>\n",
       "    </tr>\n",
       "    <tr>\n",
       "      <th>3</th>\n",
       "      <td>i hope this year s festival isn t as crashy as...</td>\n",
       "      <td>0</td>\n",
       "    </tr>\n",
       "    <tr>\n",
       "      <th>4</th>\n",
       "      <td>great stuff on fri marissa mayer google tim o ...</td>\n",
       "      <td>1</td>\n",
       "    </tr>\n",
       "  </tbody>\n",
       "</table>\n",
       "</div>"
      ],
      "text/plain": [
       "                                                text  target\n",
       "0  i have a 3g iphone after 3 hrs tweeting at aus...       0\n",
       "1  know about awesome ipad iphone app that you ll...       1\n",
       "2  can not wait for 2 also they should sale them ...       1\n",
       "3  i hope this year s festival isn t as crashy as...       0\n",
       "4  great stuff on fri marissa mayer google tim o ...       1"
      ]
     },
     "execution_count": 15,
     "metadata": {},
     "output_type": "execute_result"
    }
   ],
   "source": [
    "pos_neg.head()"
   ]
  },
  {
   "cell_type": "markdown",
   "id": "e8f0df88",
   "metadata": {},
   "source": [
    "### Exploring our Words"
   ]
  },
  {
   "cell_type": "code",
   "execution_count": 16,
   "id": "98772ce2",
   "metadata": {
    "ExecuteTime": {
     "end_time": "2022-02-17T05:48:23.089281Z",
     "start_time": "2022-02-17T05:48:22.750532Z"
    }
   },
   "outputs": [],
   "source": [
    "pos_neg['text_tokenized'] = pos_neg['text'].apply(word_tokenize)"
   ]
  },
  {
   "cell_type": "code",
   "execution_count": 17,
   "id": "8ace004e",
   "metadata": {
    "ExecuteTime": {
     "end_time": "2022-02-17T05:48:23.126238Z",
     "start_time": "2022-02-17T05:48:23.090858Z"
    }
   },
   "outputs": [],
   "source": [
    "pos_neg_freq_dist = FreqDist(pos_neg['text_tokenized'].explode())"
   ]
  },
  {
   "cell_type": "code",
   "execution_count": 18,
   "id": "8198ed21",
   "metadata": {
    "ExecuteTime": {
     "end_time": "2022-02-17T05:48:23.132211Z",
     "start_time": "2022-02-17T05:48:23.127666Z"
    }
   },
   "outputs": [],
   "source": [
    "def visualize_top_20(freq_dist, title):\n",
    "\n",
    "    # Extract data for plotting\n",
    "    top_20 = list(zip(*freq_dist.most_common(20)))\n",
    "    tokens = top_20[0]\n",
    "    counts = top_20[1]\n",
    "\n",
    "    # Set up plot and plot data\n",
    "    fig, ax = plt.subplots(figsize=(20,10))\n",
    "    ax.bar(tokens, counts)\n",
    "\n",
    "    # Customize plot appearance\n",
    "    ax.set_title(title)\n",
    "    ax.set_ylabel(\"Count\")\n",
    "#     ax.yaxis.set_major_locator(MaxNLocator(integer=True))\n",
    "    ax.tick_params(axis=\"x\", rotation=90)"
   ]
  },
  {
   "cell_type": "code",
   "execution_count": 19,
   "id": "c3859bc2",
   "metadata": {
    "ExecuteTime": {
     "end_time": "2022-02-17T05:48:23.316632Z",
     "start_time": "2022-02-17T05:48:23.133889Z"
    }
   },
   "outputs": [
    {
     "data": {
      "image/png": "[encoded data removed]",
      "text/plain": [
       "<Figure size 1440x720 with 1 Axes>"
      ]
     },
     "metadata": {
      "needs_background": "light"
     },
     "output_type": "display_data"
    }
   ],
   "source": [
    "visualize_top_20(pos_neg_freq_dist, \"Top 20 Word Frequency\")"
   ]
  },
  {
   "cell_type": "markdown",
   "id": "d3080994",
   "metadata": {},
   "source": [
    "### Remove Stopwords"
   ]
  },
  {
   "cell_type": "code",
   "execution_count": 20,
   "id": "f075d416",
   "metadata": {
    "ExecuteTime": {
     "end_time": "2022-02-17T05:48:23.322307Z",
     "start_time": "2022-02-17T05:48:23.318097Z"
    }
   },
   "outputs": [],
   "source": [
    "stopwords_list = stopwords.words('english')\n",
    "stopwords_list += list(string.punctuation)\n",
    "new_stops = ('quot', 'rt', 'i')\n",
    "stopwords_list += list(new_stops)"
   ]
  },
  {
   "cell_type": "code",
   "execution_count": 21,
   "id": "ff581d51",
   "metadata": {
    "ExecuteTime": {
     "end_time": "2022-02-17T05:48:23.326340Z",
     "start_time": "2022-02-17T05:48:23.323459Z"
    }
   },
   "outputs": [],
   "source": [
    "def remove_stopwords(token_list):\n",
    "    \"\"\"\n",
    "    Given a list of tokens, return a list where the tokens\n",
    "    that are also present in stopwords_list have been\n",
    "    removed\n",
    "    \"\"\"\n",
    "    stops_rmv_list = [token for token in token_list if token not in stopwords_list]\n",
    "    return stops_rmv_list"
   ]
  },
  {
   "cell_type": "code",
   "execution_count": 22,
   "id": "b327dae3",
   "metadata": {
    "ExecuteTime": {
     "end_time": "2022-02-17T05:48:23.421665Z",
     "start_time": "2022-02-17T05:48:23.327683Z"
    }
   },
   "outputs": [],
   "source": [
    "pos_neg['stopwords_removed'] = pos_neg['text_tokenized'].apply(remove_stopwords)"
   ]
  },
  {
   "cell_type": "code",
   "execution_count": 23,
   "id": "5720210b",
   "metadata": {
    "ExecuteTime": {
     "end_time": "2022-02-17T05:48:23.427840Z",
     "start_time": "2022-02-17T05:48:23.422914Z"
    }
   },
   "outputs": [
    {
     "data": {
      "text/plain": [
       "0    [3g, iphone, 3, hrs, tweeting, austin, dead, n...\n",
       "1    [know, awesome, ipad, iphone, app, likely, app...\n",
       "2                                [wait, 2, also, sale]\n",
       "3    [hope, year, festival, crashy, year, iphone, app]\n",
       "4    [great, stuff, fri, marissa, mayer, google, ti...\n",
       "Name: stopwords_removed, dtype: object"
      ]
     },
     "execution_count": 23,
     "metadata": {},
     "output_type": "execute_result"
    }
   ],
   "source": [
    "pos_neg.stopwords_removed.head()"
   ]
  },
  {
   "cell_type": "code",
   "execution_count": null,
   "id": "360e5cc5",
   "metadata": {},
   "outputs": [],
   "source": []
  },
  {
   "cell_type": "markdown",
   "id": "ed5502bb",
   "metadata": {},
   "source": [
    "### Remove numbers and single letters"
   ]
  },
  {
   "cell_type": "code",
   "execution_count": 24,
   "id": "a6e5ae76",
   "metadata": {
    "ExecuteTime": {
     "end_time": "2022-02-17T05:48:23.431345Z",
     "start_time": "2022-02-17T05:48:23.429253Z"
    }
   },
   "outputs": [],
   "source": [
    "pattern = \"([a-z]{2,})\"\n",
    "regex_tokenizer = RegexpTokenizer(pattern)"
   ]
  },
  {
   "cell_type": "code",
   "execution_count": 25,
   "id": "6686f217",
   "metadata": {
    "ExecuteTime": {
     "end_time": "2022-02-17T05:48:23.437499Z",
     "start_time": "2022-02-17T05:48:23.432602Z"
    }
   },
   "outputs": [],
   "source": [
    "pos_neg['regex_text'] = [' '.join(text) for text in pos_neg.stopwords_removed]"
   ]
  },
  {
   "cell_type": "code",
   "execution_count": 26,
   "id": "6d46df75",
   "metadata": {
    "ExecuteTime": {
     "end_time": "2022-02-17T05:48:23.452042Z",
     "start_time": "2022-02-17T05:48:23.438718Z"
    }
   },
   "outputs": [],
   "source": [
    "pos_neg['regex_text_tokenized'] = [regex_tokenizer.tokenize(text) for text in pos_neg['regex_text']]"
   ]
  },
  {
   "cell_type": "code",
   "execution_count": 27,
   "id": "b3c5d327",
   "metadata": {
    "ExecuteTime": {
     "end_time": "2022-02-17T05:48:23.466073Z",
     "start_time": "2022-02-17T05:48:23.453335Z"
    }
   },
   "outputs": [
    {
     "data": {
      "text/html": [
       "<div>\n",
       "<style scoped>\n",
       "    .dataframe tbody tr th:only-of-type {\n",
       "        vertical-align: middle;\n",
       "    }\n",
       "\n",
       "    .dataframe tbody tr th {\n",
       "        vertical-align: top;\n",
       "    }\n",
       "\n",
       "    .dataframe thead th {\n",
       "        text-align: right;\n",
       "    }\n",
       "</style>\n",
       "<table border=\"1\" class=\"dataframe\">\n",
       "  <thead>\n",
       "    <tr style=\"text-align: right;\">\n",
       "      <th></th>\n",
       "      <th>text</th>\n",
       "      <th>target</th>\n",
       "      <th>text_tokenized</th>\n",
       "      <th>stopwords_removed</th>\n",
       "      <th>regex_text</th>\n",
       "      <th>regex_text_tokenized</th>\n",
       "    </tr>\n",
       "  </thead>\n",
       "  <tbody>\n",
       "    <tr>\n",
       "      <th>0</th>\n",
       "      <td>i have a 3g iphone after 3 hrs tweeting at aus...</td>\n",
       "      <td>0</td>\n",
       "      <td>[i, have, a, 3g, iphone, after, 3, hrs, tweeti...</td>\n",
       "      <td>[3g, iphone, 3, hrs, tweeting, austin, dead, n...</td>\n",
       "      <td>3g iphone 3 hrs tweeting austin dead need upgr...</td>\n",
       "      <td>[iphone, hrs, tweeting, austin, dead, need, up...</td>\n",
       "    </tr>\n",
       "    <tr>\n",
       "      <th>1</th>\n",
       "      <td>know about awesome ipad iphone app that you ll...</td>\n",
       "      <td>1</td>\n",
       "      <td>[know, about, awesome, ipad, iphone, app, that...</td>\n",
       "      <td>[know, awesome, ipad, iphone, app, likely, app...</td>\n",
       "      <td>know awesome ipad iphone app likely appreciate...</td>\n",
       "      <td>[know, awesome, ipad, iphone, app, likely, app...</td>\n",
       "    </tr>\n",
       "    <tr>\n",
       "      <th>2</th>\n",
       "      <td>can not wait for 2 also they should sale them ...</td>\n",
       "      <td>1</td>\n",
       "      <td>[can, not, wait, for, 2, also, they, should, s...</td>\n",
       "      <td>[wait, 2, also, sale]</td>\n",
       "      <td>wait 2 also sale</td>\n",
       "      <td>[wait, also, sale]</td>\n",
       "    </tr>\n",
       "    <tr>\n",
       "      <th>3</th>\n",
       "      <td>i hope this year s festival isn t as crashy as...</td>\n",
       "      <td>0</td>\n",
       "      <td>[i, hope, this, year, s, festival, isn, t, as,...</td>\n",
       "      <td>[hope, year, festival, crashy, year, iphone, app]</td>\n",
       "      <td>hope year festival crashy year iphone app</td>\n",
       "      <td>[hope, year, festival, crashy, year, iphone, app]</td>\n",
       "    </tr>\n",
       "    <tr>\n",
       "      <th>4</th>\n",
       "      <td>great stuff on fri marissa mayer google tim o ...</td>\n",
       "      <td>1</td>\n",
       "      <td>[great, stuff, on, fri, marissa, mayer, google...</td>\n",
       "      <td>[great, stuff, fri, marissa, mayer, google, ti...</td>\n",
       "      <td>great stuff fri marissa mayer google tim reill...</td>\n",
       "      <td>[great, stuff, fri, marissa, mayer, google, ti...</td>\n",
       "    </tr>\n",
       "  </tbody>\n",
       "</table>\n",
       "</div>"
      ],
      "text/plain": [
       "                                                text  target  \\\n",
       "0  i have a 3g iphone after 3 hrs tweeting at aus...       0   \n",
       "1  know about awesome ipad iphone app that you ll...       1   \n",
       "2  can not wait for 2 also they should sale them ...       1   \n",
       "3  i hope this year s festival isn t as crashy as...       0   \n",
       "4  great stuff on fri marissa mayer google tim o ...       1   \n",
       "\n",
       "                                      text_tokenized  \\\n",
       "0  [i, have, a, 3g, iphone, after, 3, hrs, tweeti...   \n",
       "1  [know, about, awesome, ipad, iphone, app, that...   \n",
       "2  [can, not, wait, for, 2, also, they, should, s...   \n",
       "3  [i, hope, this, year, s, festival, isn, t, as,...   \n",
       "4  [great, stuff, on, fri, marissa, mayer, google...   \n",
       "\n",
       "                                   stopwords_removed  \\\n",
       "0  [3g, iphone, 3, hrs, tweeting, austin, dead, n...   \n",
       "1  [know, awesome, ipad, iphone, app, likely, app...   \n",
       "2                              [wait, 2, also, sale]   \n",
       "3  [hope, year, festival, crashy, year, iphone, app]   \n",
       "4  [great, stuff, fri, marissa, mayer, google, ti...   \n",
       "\n",
       "                                          regex_text  \\\n",
       "0  3g iphone 3 hrs tweeting austin dead need upgr...   \n",
       "1  know awesome ipad iphone app likely appreciate...   \n",
       "2                                   wait 2 also sale   \n",
       "3          hope year festival crashy year iphone app   \n",
       "4  great stuff fri marissa mayer google tim reill...   \n",
       "\n",
       "                                regex_text_tokenized  \n",
       "0  [iphone, hrs, tweeting, austin, dead, need, up...  \n",
       "1  [know, awesome, ipad, iphone, app, likely, app...  \n",
       "2                                 [wait, also, sale]  \n",
       "3  [hope, year, festival, crashy, year, iphone, app]  \n",
       "4  [great, stuff, fri, marissa, mayer, google, ti...  "
      ]
     },
     "execution_count": 27,
     "metadata": {},
     "output_type": "execute_result"
    }
   ],
   "source": [
    "pos_neg.head()"
   ]
  },
  {
   "cell_type": "code",
   "execution_count": 28,
   "id": "b26094e1",
   "metadata": {
    "ExecuteTime": {
     "end_time": "2022-02-17T05:48:23.471945Z",
     "start_time": "2022-02-17T05:48:23.467526Z"
    }
   },
   "outputs": [],
   "source": [
    "pos_neg['regex_text'] = [' '.join(text) for text in pos_neg.regex_text_tokenized]"
   ]
  },
  {
   "cell_type": "code",
   "execution_count": 29,
   "id": "d6396c91",
   "metadata": {
    "ExecuteTime": {
     "end_time": "2022-02-17T05:48:23.485353Z",
     "start_time": "2022-02-17T05:48:23.474205Z"
    }
   },
   "outputs": [
    {
     "data": {
      "text/html": [
       "<div>\n",
       "<style scoped>\n",
       "    .dataframe tbody tr th:only-of-type {\n",
       "        vertical-align: middle;\n",
       "    }\n",
       "\n",
       "    .dataframe tbody tr th {\n",
       "        vertical-align: top;\n",
       "    }\n",
       "\n",
       "    .dataframe thead th {\n",
       "        text-align: right;\n",
       "    }\n",
       "</style>\n",
       "<table border=\"1\" class=\"dataframe\">\n",
       "  <thead>\n",
       "    <tr style=\"text-align: right;\">\n",
       "      <th></th>\n",
       "      <th>text</th>\n",
       "      <th>target</th>\n",
       "      <th>text_tokenized</th>\n",
       "      <th>stopwords_removed</th>\n",
       "      <th>regex_text</th>\n",
       "      <th>regex_text_tokenized</th>\n",
       "    </tr>\n",
       "  </thead>\n",
       "  <tbody>\n",
       "    <tr>\n",
       "      <th>0</th>\n",
       "      <td>i have a 3g iphone after 3 hrs tweeting at aus...</td>\n",
       "      <td>0</td>\n",
       "      <td>[i, have, a, 3g, iphone, after, 3, hrs, tweeti...</td>\n",
       "      <td>[3g, iphone, 3, hrs, tweeting, austin, dead, n...</td>\n",
       "      <td>iphone hrs tweeting austin dead need upgrade p...</td>\n",
       "      <td>[iphone, hrs, tweeting, austin, dead, need, up...</td>\n",
       "    </tr>\n",
       "    <tr>\n",
       "      <th>1</th>\n",
       "      <td>know about awesome ipad iphone app that you ll...</td>\n",
       "      <td>1</td>\n",
       "      <td>[know, about, awesome, ipad, iphone, app, that...</td>\n",
       "      <td>[know, awesome, ipad, iphone, app, likely, app...</td>\n",
       "      <td>know awesome ipad iphone app likely appreciate...</td>\n",
       "      <td>[know, awesome, ipad, iphone, app, likely, app...</td>\n",
       "    </tr>\n",
       "    <tr>\n",
       "      <th>2</th>\n",
       "      <td>can not wait for 2 also they should sale them ...</td>\n",
       "      <td>1</td>\n",
       "      <td>[can, not, wait, for, 2, also, they, should, s...</td>\n",
       "      <td>[wait, 2, also, sale]</td>\n",
       "      <td>wait also sale</td>\n",
       "      <td>[wait, also, sale]</td>\n",
       "    </tr>\n",
       "    <tr>\n",
       "      <th>3</th>\n",
       "      <td>i hope this year s festival isn t as crashy as...</td>\n",
       "      <td>0</td>\n",
       "      <td>[i, hope, this, year, s, festival, isn, t, as,...</td>\n",
       "      <td>[hope, year, festival, crashy, year, iphone, app]</td>\n",
       "      <td>hope year festival crashy year iphone app</td>\n",
       "      <td>[hope, year, festival, crashy, year, iphone, app]</td>\n",
       "    </tr>\n",
       "    <tr>\n",
       "      <th>4</th>\n",
       "      <td>great stuff on fri marissa mayer google tim o ...</td>\n",
       "      <td>1</td>\n",
       "      <td>[great, stuff, on, fri, marissa, mayer, google...</td>\n",
       "      <td>[great, stuff, fri, marissa, mayer, google, ti...</td>\n",
       "      <td>great stuff fri marissa mayer google tim reill...</td>\n",
       "      <td>[great, stuff, fri, marissa, mayer, google, ti...</td>\n",
       "    </tr>\n",
       "  </tbody>\n",
       "</table>\n",
       "</div>"
      ],
      "text/plain": [
       "                                                text  target  \\\n",
       "0  i have a 3g iphone after 3 hrs tweeting at aus...       0   \n",
       "1  know about awesome ipad iphone app that you ll...       1   \n",
       "2  can not wait for 2 also they should sale them ...       1   \n",
       "3  i hope this year s festival isn t as crashy as...       0   \n",
       "4  great stuff on fri marissa mayer google tim o ...       1   \n",
       "\n",
       "                                      text_tokenized  \\\n",
       "0  [i, have, a, 3g, iphone, after, 3, hrs, tweeti...   \n",
       "1  [know, about, awesome, ipad, iphone, app, that...   \n",
       "2  [can, not, wait, for, 2, also, they, should, s...   \n",
       "3  [i, hope, this, year, s, festival, isn, t, as,...   \n",
       "4  [great, stuff, on, fri, marissa, mayer, google...   \n",
       "\n",
       "                                   stopwords_removed  \\\n",
       "0  [3g, iphone, 3, hrs, tweeting, austin, dead, n...   \n",
       "1  [know, awesome, ipad, iphone, app, likely, app...   \n",
       "2                              [wait, 2, also, sale]   \n",
       "3  [hope, year, festival, crashy, year, iphone, app]   \n",
       "4  [great, stuff, fri, marissa, mayer, google, ti...   \n",
       "\n",
       "                                          regex_text  \\\n",
       "0  iphone hrs tweeting austin dead need upgrade p...   \n",
       "1  know awesome ipad iphone app likely appreciate...   \n",
       "2                                     wait also sale   \n",
       "3          hope year festival crashy year iphone app   \n",
       "4  great stuff fri marissa mayer google tim reill...   \n",
       "\n",
       "                                regex_text_tokenized  \n",
       "0  [iphone, hrs, tweeting, austin, dead, need, up...  \n",
       "1  [know, awesome, ipad, iphone, app, likely, app...  \n",
       "2                                 [wait, also, sale]  \n",
       "3  [hope, year, festival, crashy, year, iphone, app]  \n",
       "4  [great, stuff, fri, marissa, mayer, google, ti...  "
      ]
     },
     "execution_count": 29,
     "metadata": {},
     "output_type": "execute_result"
    }
   ],
   "source": [
    "pos_neg.head()"
   ]
  },
  {
   "cell_type": "markdown",
   "id": "5eba2617",
   "metadata": {},
   "source": [
    "### Stem words"
   ]
  },
  {
   "cell_type": "code",
   "execution_count": 30,
   "id": "e82c5edc",
   "metadata": {
    "ExecuteTime": {
     "end_time": "2022-02-17T05:48:23.548845Z",
     "start_time": "2022-02-17T05:48:23.486617Z"
    }
   },
   "outputs": [],
   "source": [
    "snow_stemmer = SnowballStemmer(language=\"english\")\n",
    "\n",
    "pos_neg['stemmed_text'] = [snow_stemmer.stem(text) for text in pos_neg['regex_text']]"
   ]
  },
  {
   "cell_type": "code",
   "execution_count": 31,
   "id": "eccbd08e",
   "metadata": {
    "ExecuteTime": {
     "end_time": "2022-02-17T05:48:23.561411Z",
     "start_time": "2022-02-17T05:48:23.550437Z"
    }
   },
   "outputs": [
    {
     "data": {
      "text/html": [
       "<div>\n",
       "<style scoped>\n",
       "    .dataframe tbody tr th:only-of-type {\n",
       "        vertical-align: middle;\n",
       "    }\n",
       "\n",
       "    .dataframe tbody tr th {\n",
       "        vertical-align: top;\n",
       "    }\n",
       "\n",
       "    .dataframe thead th {\n",
       "        text-align: right;\n",
       "    }\n",
       "</style>\n",
       "<table border=\"1\" class=\"dataframe\">\n",
       "  <thead>\n",
       "    <tr style=\"text-align: right;\">\n",
       "      <th></th>\n",
       "      <th>text</th>\n",
       "      <th>target</th>\n",
       "      <th>text_tokenized</th>\n",
       "      <th>stopwords_removed</th>\n",
       "      <th>regex_text</th>\n",
       "      <th>regex_text_tokenized</th>\n",
       "      <th>stemmed_text</th>\n",
       "    </tr>\n",
       "  </thead>\n",
       "  <tbody>\n",
       "    <tr>\n",
       "      <th>0</th>\n",
       "      <td>i have a 3g iphone after 3 hrs tweeting at aus...</td>\n",
       "      <td>0</td>\n",
       "      <td>[i, have, a, 3g, iphone, after, 3, hrs, tweeti...</td>\n",
       "      <td>[3g, iphone, 3, hrs, tweeting, austin, dead, n...</td>\n",
       "      <td>iphone hrs tweeting austin dead need upgrade p...</td>\n",
       "      <td>[iphone, hrs, tweeting, austin, dead, need, up...</td>\n",
       "      <td>iphone hrs tweeting austin dead need upgrade p...</td>\n",
       "    </tr>\n",
       "    <tr>\n",
       "      <th>1</th>\n",
       "      <td>know about awesome ipad iphone app that you ll...</td>\n",
       "      <td>1</td>\n",
       "      <td>[know, about, awesome, ipad, iphone, app, that...</td>\n",
       "      <td>[know, awesome, ipad, iphone, app, likely, app...</td>\n",
       "      <td>know awesome ipad iphone app likely appreciate...</td>\n",
       "      <td>[know, awesome, ipad, iphone, app, likely, app...</td>\n",
       "      <td>know awesome ipad iphone app likely appreciate...</td>\n",
       "    </tr>\n",
       "    <tr>\n",
       "      <th>2</th>\n",
       "      <td>can not wait for 2 also they should sale them ...</td>\n",
       "      <td>1</td>\n",
       "      <td>[can, not, wait, for, 2, also, they, should, s...</td>\n",
       "      <td>[wait, 2, also, sale]</td>\n",
       "      <td>wait also sale</td>\n",
       "      <td>[wait, also, sale]</td>\n",
       "      <td>wait also sal</td>\n",
       "    </tr>\n",
       "    <tr>\n",
       "      <th>3</th>\n",
       "      <td>i hope this year s festival isn t as crashy as...</td>\n",
       "      <td>0</td>\n",
       "      <td>[i, hope, this, year, s, festival, isn, t, as,...</td>\n",
       "      <td>[hope, year, festival, crashy, year, iphone, app]</td>\n",
       "      <td>hope year festival crashy year iphone app</td>\n",
       "      <td>[hope, year, festival, crashy, year, iphone, app]</td>\n",
       "      <td>hope year festival crashy year iphone app</td>\n",
       "    </tr>\n",
       "    <tr>\n",
       "      <th>4</th>\n",
       "      <td>great stuff on fri marissa mayer google tim o ...</td>\n",
       "      <td>1</td>\n",
       "      <td>[great, stuff, on, fri, marissa, mayer, google...</td>\n",
       "      <td>[great, stuff, fri, marissa, mayer, google, ti...</td>\n",
       "      <td>great stuff fri marissa mayer google tim reill...</td>\n",
       "      <td>[great, stuff, fri, marissa, mayer, google, ti...</td>\n",
       "      <td>great stuff fri marissa mayer google tim reill...</td>\n",
       "    </tr>\n",
       "  </tbody>\n",
       "</table>\n",
       "</div>"
      ],
      "text/plain": [
       "                                                text  target  \\\n",
       "0  i have a 3g iphone after 3 hrs tweeting at aus...       0   \n",
       "1  know about awesome ipad iphone app that you ll...       1   \n",
       "2  can not wait for 2 also they should sale them ...       1   \n",
       "3  i hope this year s festival isn t as crashy as...       0   \n",
       "4  great stuff on fri marissa mayer google tim o ...       1   \n",
       "\n",
       "                                      text_tokenized  \\\n",
       "0  [i, have, a, 3g, iphone, after, 3, hrs, tweeti...   \n",
       "1  [know, about, awesome, ipad, iphone, app, that...   \n",
       "2  [can, not, wait, for, 2, also, they, should, s...   \n",
       "3  [i, hope, this, year, s, festival, isn, t, as,...   \n",
       "4  [great, stuff, on, fri, marissa, mayer, google...   \n",
       "\n",
       "                                   stopwords_removed  \\\n",
       "0  [3g, iphone, 3, hrs, tweeting, austin, dead, n...   \n",
       "1  [know, awesome, ipad, iphone, app, likely, app...   \n",
       "2                              [wait, 2, also, sale]   \n",
       "3  [hope, year, festival, crashy, year, iphone, app]   \n",
       "4  [great, stuff, fri, marissa, mayer, google, ti...   \n",
       "\n",
       "                                          regex_text  \\\n",
       "0  iphone hrs tweeting austin dead need upgrade p...   \n",
       "1  know awesome ipad iphone app likely appreciate...   \n",
       "2                                     wait also sale   \n",
       "3          hope year festival crashy year iphone app   \n",
       "4  great stuff fri marissa mayer google tim reill...   \n",
       "\n",
       "                                regex_text_tokenized  \\\n",
       "0  [iphone, hrs, tweeting, austin, dead, need, up...   \n",
       "1  [know, awesome, ipad, iphone, app, likely, app...   \n",
       "2                                 [wait, also, sale]   \n",
       "3  [hope, year, festival, crashy, year, iphone, app]   \n",
       "4  [great, stuff, fri, marissa, mayer, google, ti...   \n",
       "\n",
       "                                        stemmed_text  \n",
       "0  iphone hrs tweeting austin dead need upgrade p...  \n",
       "1  know awesome ipad iphone app likely appreciate...  \n",
       "2                                      wait also sal  \n",
       "3          hope year festival crashy year iphone app  \n",
       "4  great stuff fri marissa mayer google tim reill...  "
      ]
     },
     "execution_count": 31,
     "metadata": {},
     "output_type": "execute_result"
    }
   ],
   "source": [
    "pos_neg.head()"
   ]
  },
  {
   "cell_type": "markdown",
   "id": "adda7a1b",
   "metadata": {},
   "source": [
    "### Lemmatize words"
   ]
  },
  {
   "cell_type": "code",
   "execution_count": 32,
   "id": "67446a13",
   "metadata": {
    "ExecuteTime": {
     "end_time": "2022-02-17T05:48:24.743955Z",
     "start_time": "2022-02-17T05:48:23.564067Z"
    }
   },
   "outputs": [],
   "source": [
    "lemmer = WordNetLemmatizer()\n",
    "\n",
    "pos_neg['lemmed_text'] = [lemmer.lemmatize(text) for text in pos_neg['regex_text']]"
   ]
  },
  {
   "cell_type": "code",
   "execution_count": 33,
   "id": "149247f2",
   "metadata": {
    "ExecuteTime": {
     "end_time": "2022-02-17T05:48:24.760239Z",
     "start_time": "2022-02-17T05:48:24.746222Z"
    }
   },
   "outputs": [
    {
     "data": {
      "text/html": [
       "<div>\n",
       "<style scoped>\n",
       "    .dataframe tbody tr th:only-of-type {\n",
       "        vertical-align: middle;\n",
       "    }\n",
       "\n",
       "    .dataframe tbody tr th {\n",
       "        vertical-align: top;\n",
       "    }\n",
       "\n",
       "    .dataframe thead th {\n",
       "        text-align: right;\n",
       "    }\n",
       "</style>\n",
       "<table border=\"1\" class=\"dataframe\">\n",
       "  <thead>\n",
       "    <tr style=\"text-align: right;\">\n",
       "      <th></th>\n",
       "      <th>text</th>\n",
       "      <th>target</th>\n",
       "      <th>text_tokenized</th>\n",
       "      <th>stopwords_removed</th>\n",
       "      <th>regex_text</th>\n",
       "      <th>regex_text_tokenized</th>\n",
       "      <th>stemmed_text</th>\n",
       "      <th>lemmed_text</th>\n",
       "    </tr>\n",
       "  </thead>\n",
       "  <tbody>\n",
       "    <tr>\n",
       "      <th>0</th>\n",
       "      <td>i have a 3g iphone after 3 hrs tweeting at aus...</td>\n",
       "      <td>0</td>\n",
       "      <td>[i, have, a, 3g, iphone, after, 3, hrs, tweeti...</td>\n",
       "      <td>[3g, iphone, 3, hrs, tweeting, austin, dead, n...</td>\n",
       "      <td>iphone hrs tweeting austin dead need upgrade p...</td>\n",
       "      <td>[iphone, hrs, tweeting, austin, dead, need, up...</td>\n",
       "      <td>iphone hrs tweeting austin dead need upgrade p...</td>\n",
       "      <td>iphone hrs tweeting austin dead need upgrade p...</td>\n",
       "    </tr>\n",
       "    <tr>\n",
       "      <th>1</th>\n",
       "      <td>know about awesome ipad iphone app that you ll...</td>\n",
       "      <td>1</td>\n",
       "      <td>[know, about, awesome, ipad, iphone, app, that...</td>\n",
       "      <td>[know, awesome, ipad, iphone, app, likely, app...</td>\n",
       "      <td>know awesome ipad iphone app likely appreciate...</td>\n",
       "      <td>[know, awesome, ipad, iphone, app, likely, app...</td>\n",
       "      <td>know awesome ipad iphone app likely appreciate...</td>\n",
       "      <td>know awesome ipad iphone app likely appreciate...</td>\n",
       "    </tr>\n",
       "    <tr>\n",
       "      <th>2</th>\n",
       "      <td>can not wait for 2 also they should sale them ...</td>\n",
       "      <td>1</td>\n",
       "      <td>[can, not, wait, for, 2, also, they, should, s...</td>\n",
       "      <td>[wait, 2, also, sale]</td>\n",
       "      <td>wait also sale</td>\n",
       "      <td>[wait, also, sale]</td>\n",
       "      <td>wait also sal</td>\n",
       "      <td>wait also sale</td>\n",
       "    </tr>\n",
       "    <tr>\n",
       "      <th>3</th>\n",
       "      <td>i hope this year s festival isn t as crashy as...</td>\n",
       "      <td>0</td>\n",
       "      <td>[i, hope, this, year, s, festival, isn, t, as,...</td>\n",
       "      <td>[hope, year, festival, crashy, year, iphone, app]</td>\n",
       "      <td>hope year festival crashy year iphone app</td>\n",
       "      <td>[hope, year, festival, crashy, year, iphone, app]</td>\n",
       "      <td>hope year festival crashy year iphone app</td>\n",
       "      <td>hope year festival crashy year iphone app</td>\n",
       "    </tr>\n",
       "    <tr>\n",
       "      <th>4</th>\n",
       "      <td>great stuff on fri marissa mayer google tim o ...</td>\n",
       "      <td>1</td>\n",
       "      <td>[great, stuff, on, fri, marissa, mayer, google...</td>\n",
       "      <td>[great, stuff, fri, marissa, mayer, google, ti...</td>\n",
       "      <td>great stuff fri marissa mayer google tim reill...</td>\n",
       "      <td>[great, stuff, fri, marissa, mayer, google, ti...</td>\n",
       "      <td>great stuff fri marissa mayer google tim reill...</td>\n",
       "      <td>great stuff fri marissa mayer google tim reill...</td>\n",
       "    </tr>\n",
       "  </tbody>\n",
       "</table>\n",
       "</div>"
      ],
      "text/plain": [
       "                                                text  target  \\\n",
       "0  i have a 3g iphone after 3 hrs tweeting at aus...       0   \n",
       "1  know about awesome ipad iphone app that you ll...       1   \n",
       "2  can not wait for 2 also they should sale them ...       1   \n",
       "3  i hope this year s festival isn t as crashy as...       0   \n",
       "4  great stuff on fri marissa mayer google tim o ...       1   \n",
       "\n",
       "                                      text_tokenized  \\\n",
       "0  [i, have, a, 3g, iphone, after, 3, hrs, tweeti...   \n",
       "1  [know, about, awesome, ipad, iphone, app, that...   \n",
       "2  [can, not, wait, for, 2, also, they, should, s...   \n",
       "3  [i, hope, this, year, s, festival, isn, t, as,...   \n",
       "4  [great, stuff, on, fri, marissa, mayer, google...   \n",
       "\n",
       "                                   stopwords_removed  \\\n",
       "0  [3g, iphone, 3, hrs, tweeting, austin, dead, n...   \n",
       "1  [know, awesome, ipad, iphone, app, likely, app...   \n",
       "2                              [wait, 2, also, sale]   \n",
       "3  [hope, year, festival, crashy, year, iphone, app]   \n",
       "4  [great, stuff, fri, marissa, mayer, google, ti...   \n",
       "\n",
       "                                          regex_text  \\\n",
       "0  iphone hrs tweeting austin dead need upgrade p...   \n",
       "1  know awesome ipad iphone app likely appreciate...   \n",
       "2                                     wait also sale   \n",
       "3          hope year festival crashy year iphone app   \n",
       "4  great stuff fri marissa mayer google tim reill...   \n",
       "\n",
       "                                regex_text_tokenized  \\\n",
       "0  [iphone, hrs, tweeting, austin, dead, need, up...   \n",
       "1  [know, awesome, ipad, iphone, app, likely, app...   \n",
       "2                                 [wait, also, sale]   \n",
       "3  [hope, year, festival, crashy, year, iphone, app]   \n",
       "4  [great, stuff, fri, marissa, mayer, google, ti...   \n",
       "\n",
       "                                        stemmed_text  \\\n",
       "0  iphone hrs tweeting austin dead need upgrade p...   \n",
       "1  know awesome ipad iphone app likely appreciate...   \n",
       "2                                      wait also sal   \n",
       "3          hope year festival crashy year iphone app   \n",
       "4  great stuff fri marissa mayer google tim reill...   \n",
       "\n",
       "                                         lemmed_text  \n",
       "0  iphone hrs tweeting austin dead need upgrade p...  \n",
       "1  know awesome ipad iphone app likely appreciate...  \n",
       "2                                     wait also sale  \n",
       "3          hope year festival crashy year iphone app  \n",
       "4  great stuff fri marissa mayer google tim reill...  "
      ]
     },
     "execution_count": 33,
     "metadata": {},
     "output_type": "execute_result"
    }
   ],
   "source": [
    "pos_neg.head()"
   ]
  },
  {
   "cell_type": "code",
   "execution_count": null,
   "id": "e892e5f6",
   "metadata": {},
   "outputs": [],
   "source": []
  },
  {
   "cell_type": "code",
   "execution_count": null,
   "id": "485001e3",
   "metadata": {},
   "outputs": [],
   "source": []
  },
  {
   "cell_type": "code",
   "execution_count": null,
   "id": "d78910ca",
   "metadata": {},
   "outputs": [],
   "source": []
  },
  {
   "cell_type": "markdown",
   "id": "0a66f7db",
   "metadata": {},
   "source": [
    "### Train Test Split"
   ]
  },
  {
   "cell_type": "code",
   "execution_count": 34,
   "id": "043d2380",
   "metadata": {
    "ExecuteTime": {
     "end_time": "2022-02-17T05:48:24.768021Z",
     "start_time": "2022-02-17T05:48:24.761707Z"
    }
   },
   "outputs": [],
   "source": [
    "X = pos_neg.drop(['target'], axis=1)\n",
    "y = pos_neg['target']"
   ]
  },
  {
   "cell_type": "code",
   "execution_count": 35,
   "id": "faf0658b",
   "metadata": {
    "ExecuteTime": {
     "end_time": "2022-02-17T05:48:24.773491Z",
     "start_time": "2022-02-17T05:48:24.769379Z"
    }
   },
   "outputs": [],
   "source": [
    "X_train , X_test, y_train, y_test = train_test_split(X, y, test_size=0.2)"
   ]
  },
  {
   "cell_type": "code",
   "execution_count": 36,
   "id": "3c8a700e",
   "metadata": {
    "ExecuteTime": {
     "end_time": "2022-02-17T05:48:24.779373Z",
     "start_time": "2022-02-17T05:48:24.774600Z"
    },
    "scrolled": true
   },
   "outputs": [
    {
     "data": {
      "text/plain": [
       "1    0.837788\n",
       "0    0.162212\n",
       "Name: target, dtype: float64"
      ]
     },
     "execution_count": 36,
     "metadata": {},
     "output_type": "execute_result"
    }
   ],
   "source": [
    "y_train.value_counts(normalize=True)"
   ]
  },
  {
   "cell_type": "code",
   "execution_count": null,
   "id": "7d03c9b8",
   "metadata": {},
   "outputs": [],
   "source": []
  },
  {
   "cell_type": "code",
   "execution_count": null,
   "id": "3dcc03e1",
   "metadata": {},
   "outputs": [],
   "source": []
  },
  {
   "cell_type": "markdown",
   "id": "23a9e19d",
   "metadata": {},
   "source": [
    "### Determine number of features for vectorization"
   ]
  },
  {
   "cell_type": "code",
   "execution_count": 37,
   "id": "c3599ae3",
   "metadata": {
    "ExecuteTime": {
     "end_time": "2022-02-17T05:48:24.786490Z",
     "start_time": "2022-02-17T05:48:24.780682Z"
    }
   },
   "outputs": [
    {
     "data": {
      "text/plain": [
       "58.300527240773285"
      ]
     },
     "execution_count": 37,
     "metadata": {},
     "output_type": "execute_result"
    }
   ],
   "source": [
    "lens = [len(list(text)) for text in pos_neg.lemmed_text]\n",
    "mean_lens = sum(lens) / len(lens)\n",
    "mean_lens"
   ]
  },
  {
   "cell_type": "code",
   "execution_count": null,
   "id": "f1c1695b",
   "metadata": {},
   "outputs": [],
   "source": []
  },
  {
   "cell_type": "code",
   "execution_count": null,
   "id": "3dc96369",
   "metadata": {},
   "outputs": [],
   "source": []
  },
  {
   "cell_type": "code",
   "execution_count": null,
   "id": "781cd884",
   "metadata": {},
   "outputs": [],
   "source": []
  },
  {
   "cell_type": "code",
   "execution_count": null,
   "id": "15cdf210",
   "metadata": {},
   "outputs": [],
   "source": []
  },
  {
   "cell_type": "markdown",
   "id": "b69381a9",
   "metadata": {},
   "source": [
    "### Build and score a baseline model"
   ]
  },
  {
   "cell_type": "code",
   "execution_count": 38,
   "id": "a0e49e1c",
   "metadata": {
    "ExecuteTime": {
     "end_time": "2022-02-17T05:48:24.861134Z",
     "start_time": "2022-02-17T05:48:24.787701Z"
    }
   },
   "outputs": [
    {
     "name": "stderr",
     "output_type": "stream",
     "text": [
      "/Users/patrick/opt/anaconda3/lib/python3.9/site-packages/sklearn/utils/deprecation.py:87: FutureWarning: Function get_feature_names is deprecated; get_feature_names is deprecated in 1.0 and will be removed in 1.2. Please use get_feature_names_out instead.\n",
      "  warnings.warn(msg, category=FutureWarning)\n"
     ]
    },
    {
     "data": {
      "text/html": [
       "<div>\n",
       "<style scoped>\n",
       "    .dataframe tbody tr th:only-of-type {\n",
       "        vertical-align: middle;\n",
       "    }\n",
       "\n",
       "    .dataframe tbody tr th {\n",
       "        vertical-align: top;\n",
       "    }\n",
       "\n",
       "    .dataframe thead th {\n",
       "        text-align: right;\n",
       "    }\n",
       "</style>\n",
       "<table border=\"1\" class=\"dataframe\">\n",
       "  <thead>\n",
       "    <tr style=\"text-align: right;\">\n",
       "      <th></th>\n",
       "      <th>amp</th>\n",
       "      <th>android</th>\n",
       "      <th>app</th>\n",
       "      <th>apple</th>\n",
       "      <th>apps</th>\n",
       "      <th>around</th>\n",
       "      <th>austin</th>\n",
       "      <th>awesome</th>\n",
       "      <th>best</th>\n",
       "      <th>called</th>\n",
       "      <th>...</th>\n",
       "      <th>social</th>\n",
       "      <th>store</th>\n",
       "      <th>sxsw</th>\n",
       "      <th>temporary</th>\n",
       "      <th>thanks</th>\n",
       "      <th>think</th>\n",
       "      <th>time</th>\n",
       "      <th>today</th>\n",
       "      <th>via</th>\n",
       "      <th>wins</th>\n",
       "    </tr>\n",
       "  </thead>\n",
       "  <tbody>\n",
       "    <tr>\n",
       "      <th>0</th>\n",
       "      <td>0.0</td>\n",
       "      <td>0.000000</td>\n",
       "      <td>0.000000</td>\n",
       "      <td>0.000000</td>\n",
       "      <td>0.0</td>\n",
       "      <td>0.0</td>\n",
       "      <td>0.536997</td>\n",
       "      <td>0.000000</td>\n",
       "      <td>0.0</td>\n",
       "      <td>0.0</td>\n",
       "      <td>...</td>\n",
       "      <td>0.0</td>\n",
       "      <td>0.000000</td>\n",
       "      <td>0.000000</td>\n",
       "      <td>0.0</td>\n",
       "      <td>0.0</td>\n",
       "      <td>0.0</td>\n",
       "      <td>0.0</td>\n",
       "      <td>0.0</td>\n",
       "      <td>0.00000</td>\n",
       "      <td>0.0</td>\n",
       "    </tr>\n",
       "    <tr>\n",
       "      <th>1</th>\n",
       "      <td>0.0</td>\n",
       "      <td>0.000000</td>\n",
       "      <td>0.394483</td>\n",
       "      <td>0.000000</td>\n",
       "      <td>0.0</td>\n",
       "      <td>0.0</td>\n",
       "      <td>0.000000</td>\n",
       "      <td>0.576728</td>\n",
       "      <td>0.0</td>\n",
       "      <td>0.0</td>\n",
       "      <td>...</td>\n",
       "      <td>0.0</td>\n",
       "      <td>0.000000</td>\n",
       "      <td>0.000000</td>\n",
       "      <td>0.0</td>\n",
       "      <td>0.0</td>\n",
       "      <td>0.0</td>\n",
       "      <td>0.0</td>\n",
       "      <td>0.0</td>\n",
       "      <td>0.00000</td>\n",
       "      <td>0.0</td>\n",
       "    </tr>\n",
       "    <tr>\n",
       "      <th>2</th>\n",
       "      <td>0.0</td>\n",
       "      <td>0.000000</td>\n",
       "      <td>0.000000</td>\n",
       "      <td>0.263682</td>\n",
       "      <td>0.0</td>\n",
       "      <td>0.0</td>\n",
       "      <td>0.000000</td>\n",
       "      <td>0.000000</td>\n",
       "      <td>0.0</td>\n",
       "      <td>0.0</td>\n",
       "      <td>...</td>\n",
       "      <td>0.0</td>\n",
       "      <td>0.000000</td>\n",
       "      <td>0.431353</td>\n",
       "      <td>0.0</td>\n",
       "      <td>0.0</td>\n",
       "      <td>0.0</td>\n",
       "      <td>0.0</td>\n",
       "      <td>0.0</td>\n",
       "      <td>0.00000</td>\n",
       "      <td>0.0</td>\n",
       "    </tr>\n",
       "    <tr>\n",
       "      <th>3</th>\n",
       "      <td>0.0</td>\n",
       "      <td>0.000000</td>\n",
       "      <td>0.000000</td>\n",
       "      <td>0.345264</td>\n",
       "      <td>0.0</td>\n",
       "      <td>0.0</td>\n",
       "      <td>0.000000</td>\n",
       "      <td>0.000000</td>\n",
       "      <td>0.0</td>\n",
       "      <td>0.0</td>\n",
       "      <td>...</td>\n",
       "      <td>0.0</td>\n",
       "      <td>0.396700</td>\n",
       "      <td>0.000000</td>\n",
       "      <td>0.0</td>\n",
       "      <td>0.0</td>\n",
       "      <td>0.0</td>\n",
       "      <td>0.0</td>\n",
       "      <td>0.0</td>\n",
       "      <td>0.60158</td>\n",
       "      <td>0.0</td>\n",
       "    </tr>\n",
       "    <tr>\n",
       "      <th>4</th>\n",
       "      <td>0.0</td>\n",
       "      <td>0.000000</td>\n",
       "      <td>0.000000</td>\n",
       "      <td>0.000000</td>\n",
       "      <td>0.0</td>\n",
       "      <td>0.0</td>\n",
       "      <td>0.000000</td>\n",
       "      <td>0.546919</td>\n",
       "      <td>0.0</td>\n",
       "      <td>0.0</td>\n",
       "      <td>...</td>\n",
       "      <td>0.0</td>\n",
       "      <td>0.000000</td>\n",
       "      <td>0.000000</td>\n",
       "      <td>0.0</td>\n",
       "      <td>0.0</td>\n",
       "      <td>0.0</td>\n",
       "      <td>0.0</td>\n",
       "      <td>0.0</td>\n",
       "      <td>0.00000</td>\n",
       "      <td>0.0</td>\n",
       "    </tr>\n",
       "    <tr>\n",
       "      <th>...</th>\n",
       "      <td>...</td>\n",
       "      <td>...</td>\n",
       "      <td>...</td>\n",
       "      <td>...</td>\n",
       "      <td>...</td>\n",
       "      <td>...</td>\n",
       "      <td>...</td>\n",
       "      <td>...</td>\n",
       "      <td>...</td>\n",
       "      <td>...</td>\n",
       "      <td>...</td>\n",
       "      <td>...</td>\n",
       "      <td>...</td>\n",
       "      <td>...</td>\n",
       "      <td>...</td>\n",
       "      <td>...</td>\n",
       "      <td>...</td>\n",
       "      <td>...</td>\n",
       "      <td>...</td>\n",
       "      <td>...</td>\n",
       "      <td>...</td>\n",
       "    </tr>\n",
       "    <tr>\n",
       "      <th>2726</th>\n",
       "      <td>0.0</td>\n",
       "      <td>0.000000</td>\n",
       "      <td>0.000000</td>\n",
       "      <td>0.000000</td>\n",
       "      <td>0.0</td>\n",
       "      <td>0.0</td>\n",
       "      <td>0.000000</td>\n",
       "      <td>0.000000</td>\n",
       "      <td>0.0</td>\n",
       "      <td>0.0</td>\n",
       "      <td>...</td>\n",
       "      <td>0.0</td>\n",
       "      <td>0.000000</td>\n",
       "      <td>0.000000</td>\n",
       "      <td>0.0</td>\n",
       "      <td>0.0</td>\n",
       "      <td>0.0</td>\n",
       "      <td>0.0</td>\n",
       "      <td>0.0</td>\n",
       "      <td>0.00000</td>\n",
       "      <td>0.0</td>\n",
       "    </tr>\n",
       "    <tr>\n",
       "      <th>2727</th>\n",
       "      <td>0.0</td>\n",
       "      <td>0.000000</td>\n",
       "      <td>0.000000</td>\n",
       "      <td>0.405414</td>\n",
       "      <td>0.0</td>\n",
       "      <td>0.0</td>\n",
       "      <td>0.000000</td>\n",
       "      <td>0.000000</td>\n",
       "      <td>0.0</td>\n",
       "      <td>0.0</td>\n",
       "      <td>...</td>\n",
       "      <td>0.0</td>\n",
       "      <td>0.465811</td>\n",
       "      <td>0.000000</td>\n",
       "      <td>0.0</td>\n",
       "      <td>0.0</td>\n",
       "      <td>0.0</td>\n",
       "      <td>0.0</td>\n",
       "      <td>0.0</td>\n",
       "      <td>0.00000</td>\n",
       "      <td>0.0</td>\n",
       "    </tr>\n",
       "    <tr>\n",
       "      <th>2728</th>\n",
       "      <td>0.0</td>\n",
       "      <td>0.000000</td>\n",
       "      <td>0.000000</td>\n",
       "      <td>0.000000</td>\n",
       "      <td>0.0</td>\n",
       "      <td>0.0</td>\n",
       "      <td>0.000000</td>\n",
       "      <td>0.000000</td>\n",
       "      <td>0.0</td>\n",
       "      <td>0.0</td>\n",
       "      <td>...</td>\n",
       "      <td>0.0</td>\n",
       "      <td>0.000000</td>\n",
       "      <td>0.000000</td>\n",
       "      <td>0.0</td>\n",
       "      <td>0.0</td>\n",
       "      <td>0.0</td>\n",
       "      <td>0.0</td>\n",
       "      <td>0.0</td>\n",
       "      <td>0.00000</td>\n",
       "      <td>0.0</td>\n",
       "    </tr>\n",
       "    <tr>\n",
       "      <th>2729</th>\n",
       "      <td>0.0</td>\n",
       "      <td>0.000000</td>\n",
       "      <td>0.000000</td>\n",
       "      <td>0.000000</td>\n",
       "      <td>0.0</td>\n",
       "      <td>0.0</td>\n",
       "      <td>0.000000</td>\n",
       "      <td>0.000000</td>\n",
       "      <td>0.0</td>\n",
       "      <td>0.0</td>\n",
       "      <td>...</td>\n",
       "      <td>0.0</td>\n",
       "      <td>0.000000</td>\n",
       "      <td>0.000000</td>\n",
       "      <td>0.0</td>\n",
       "      <td>0.0</td>\n",
       "      <td>0.0</td>\n",
       "      <td>0.0</td>\n",
       "      <td>0.0</td>\n",
       "      <td>0.00000</td>\n",
       "      <td>0.0</td>\n",
       "    </tr>\n",
       "    <tr>\n",
       "      <th>2730</th>\n",
       "      <td>0.0</td>\n",
       "      <td>0.458289</td>\n",
       "      <td>0.708129</td>\n",
       "      <td>0.000000</td>\n",
       "      <td>0.0</td>\n",
       "      <td>0.0</td>\n",
       "      <td>0.000000</td>\n",
       "      <td>0.000000</td>\n",
       "      <td>0.0</td>\n",
       "      <td>0.0</td>\n",
       "      <td>...</td>\n",
       "      <td>0.0</td>\n",
       "      <td>0.000000</td>\n",
       "      <td>0.000000</td>\n",
       "      <td>0.0</td>\n",
       "      <td>0.0</td>\n",
       "      <td>0.0</td>\n",
       "      <td>0.0</td>\n",
       "      <td>0.0</td>\n",
       "      <td>0.00000</td>\n",
       "      <td>0.0</td>\n",
       "    </tr>\n",
       "  </tbody>\n",
       "</table>\n",
       "<p>2731 rows × 60 columns</p>\n",
       "</div>"
      ],
      "text/plain": [
       "      amp   android       app     apple  apps  around    austin   awesome  \\\n",
       "0     0.0  0.000000  0.000000  0.000000   0.0     0.0  0.536997  0.000000   \n",
       "1     0.0  0.000000  0.394483  0.000000   0.0     0.0  0.000000  0.576728   \n",
       "2     0.0  0.000000  0.000000  0.263682   0.0     0.0  0.000000  0.000000   \n",
       "3     0.0  0.000000  0.000000  0.345264   0.0     0.0  0.000000  0.000000   \n",
       "4     0.0  0.000000  0.000000  0.000000   0.0     0.0  0.000000  0.546919   \n",
       "...   ...       ...       ...       ...   ...     ...       ...       ...   \n",
       "2726  0.0  0.000000  0.000000  0.000000   0.0     0.0  0.000000  0.000000   \n",
       "2727  0.0  0.000000  0.000000  0.405414   0.0     0.0  0.000000  0.000000   \n",
       "2728  0.0  0.000000  0.000000  0.000000   0.0     0.0  0.000000  0.000000   \n",
       "2729  0.0  0.000000  0.000000  0.000000   0.0     0.0  0.000000  0.000000   \n",
       "2730  0.0  0.458289  0.708129  0.000000   0.0     0.0  0.000000  0.000000   \n",
       "\n",
       "      best  called  ...  social     store      sxsw  temporary  thanks  think  \\\n",
       "0      0.0     0.0  ...     0.0  0.000000  0.000000        0.0     0.0    0.0   \n",
       "1      0.0     0.0  ...     0.0  0.000000  0.000000        0.0     0.0    0.0   \n",
       "2      0.0     0.0  ...     0.0  0.000000  0.431353        0.0     0.0    0.0   \n",
       "3      0.0     0.0  ...     0.0  0.396700  0.000000        0.0     0.0    0.0   \n",
       "4      0.0     0.0  ...     0.0  0.000000  0.000000        0.0     0.0    0.0   \n",
       "...    ...     ...  ...     ...       ...       ...        ...     ...    ...   \n",
       "2726   0.0     0.0  ...     0.0  0.000000  0.000000        0.0     0.0    0.0   \n",
       "2727   0.0     0.0  ...     0.0  0.465811  0.000000        0.0     0.0    0.0   \n",
       "2728   0.0     0.0  ...     0.0  0.000000  0.000000        0.0     0.0    0.0   \n",
       "2729   0.0     0.0  ...     0.0  0.000000  0.000000        0.0     0.0    0.0   \n",
       "2730   0.0     0.0  ...     0.0  0.000000  0.000000        0.0     0.0    0.0   \n",
       "\n",
       "      time  today      via  wins  \n",
       "0      0.0    0.0  0.00000   0.0  \n",
       "1      0.0    0.0  0.00000   0.0  \n",
       "2      0.0    0.0  0.00000   0.0  \n",
       "3      0.0    0.0  0.60158   0.0  \n",
       "4      0.0    0.0  0.00000   0.0  \n",
       "...    ...    ...      ...   ...  \n",
       "2726   0.0    0.0  0.00000   0.0  \n",
       "2727   0.0    0.0  0.00000   0.0  \n",
       "2728   0.0    0.0  0.00000   0.0  \n",
       "2729   0.0    0.0  0.00000   0.0  \n",
       "2730   0.0    0.0  0.00000   0.0  \n",
       "\n",
       "[2731 rows x 60 columns]"
      ]
     },
     "execution_count": 38,
     "metadata": {},
     "output_type": "execute_result"
    }
   ],
   "source": [
    "tfidf = TfidfVectorizer(max_features=60)\n",
    "\n",
    "X_train_vectorized = tfidf.fit_transform(X_train['lemmed_text'])\n",
    "\n",
    "pd.DataFrame.sparse.from_spmatrix(X_train_vectorized, columns=tfidf.get_feature_names())"
   ]
  },
  {
   "cell_type": "code",
   "execution_count": 39,
   "id": "b07c2d51",
   "metadata": {
    "ExecuteTime": {
     "end_time": "2022-02-17T05:48:24.884632Z",
     "start_time": "2022-02-17T05:48:24.871953Z"
    }
   },
   "outputs": [],
   "source": [
    "smote = SMOTE(k_neighbors=5)\n",
    "X_train_resampled, y_train_resampled = smote.fit_resample(X_train_vectorized, y_train)"
   ]
  },
  {
   "cell_type": "code",
   "execution_count": 40,
   "id": "7998344d",
   "metadata": {
    "ExecuteTime": {
     "end_time": "2022-02-17T05:48:24.907814Z",
     "start_time": "2022-02-17T05:48:24.886529Z"
    }
   },
   "outputs": [
    {
     "data": {
      "text/plain": [
       "array([0.67576419, 0.66448087, 0.69289617, 0.66010929, 0.66666667])"
      ]
     },
     "execution_count": 40,
     "metadata": {},
     "output_type": "execute_result"
    }
   ],
   "source": [
    "# Instantiate a MultinomialNB classifier\n",
    "baseline_model = MultinomialNB()\n",
    "\n",
    "baseline_model.fit(X_train_resampled, y_train_resampled)\n",
    "\n",
    "# Evaluate the classifier on X_train_vectorized and y_train\n",
    "baseline_cv = cross_val_score(baseline_model, X_train_resampled, y_train_resampled)\n",
    "baseline_cv"
   ]
  },
  {
   "cell_type": "code",
   "execution_count": 41,
   "id": "8d9b9a3b",
   "metadata": {
    "ExecuteTime": {
     "end_time": "2022-02-17T05:48:24.911982Z",
     "start_time": "2022-02-17T05:48:24.909152Z"
    }
   },
   "outputs": [
    {
     "name": "stdout",
     "output_type": "stream",
     "text": [
      "Baseline:          0.6719834395208437\n"
     ]
    }
   ],
   "source": [
    "print(\"Baseline:         \", baseline_cv.mean())"
   ]
  },
  {
   "cell_type": "code",
   "execution_count": 42,
   "id": "177202d2",
   "metadata": {
    "ExecuteTime": {
     "end_time": "2022-02-17T05:48:24.930091Z",
     "start_time": "2022-02-17T05:48:24.913880Z"
    }
   },
   "outputs": [
    {
     "name": "stdout",
     "output_type": "stream",
     "text": [
      "              precision    recall  f1-score   support\n",
      "\n",
      "           0       0.19      0.58      0.28       102\n",
      "           1       0.88      0.55      0.68       581\n",
      "\n",
      "    accuracy                           0.56       683\n",
      "   macro avg       0.53      0.57      0.48       683\n",
      "weighted avg       0.78      0.56      0.62       683\n",
      "\n"
     ]
    }
   ],
   "source": [
    "X_test_vectorized = tfidf.fit_transform(X_test['lemmed_text'])\n",
    "X_test_preds = baseline_model.predict(X_test_vectorized)\n",
    "\n",
    "print(classification_report(y_test, X_test_preds))"
   ]
  },
  {
   "cell_type": "code",
   "execution_count": 43,
   "id": "d7ea6359",
   "metadata": {
    "ExecuteTime": {
     "end_time": "2022-02-17T05:48:25.048591Z",
     "start_time": "2022-02-17T05:48:24.931181Z"
    }
   },
   "outputs": [
    {
     "name": "stderr",
     "output_type": "stream",
     "text": [
      "/Users/patrick/opt/anaconda3/lib/python3.9/site-packages/sklearn/utils/deprecation.py:87: FutureWarning: Function plot_confusion_matrix is deprecated; Function `plot_confusion_matrix` is deprecated in 1.0 and will be removed in 1.2. Use one of the class methods: ConfusionMatrixDisplay.from_predictions or ConfusionMatrixDisplay.from_estimator.\n",
      "  warnings.warn(msg, category=FutureWarning)\n"
     ]
    },
    {
     "data": {
      "image/png": "[encoded data removed]",
      "text/plain": [
       "<Figure size 432x288 with 2 Axes>"
      ]
     },
     "metadata": {
      "needs_background": "light"
     },
     "output_type": "display_data"
    }
   ],
   "source": [
    "plot_confusion_matrix(baseline_model, X_test_vectorized, y_test, cmap=plt.cm.Oranges)\n",
    "plt.grid(False)\n",
    "plt.show()"
   ]
  },
  {
   "cell_type": "code",
   "execution_count": null,
   "id": "fdac85ac",
   "metadata": {},
   "outputs": [],
   "source": []
  },
  {
   "cell_type": "code",
   "execution_count": null,
   "id": "e7587534",
   "metadata": {},
   "outputs": [],
   "source": []
  },
  {
   "cell_type": "code",
   "execution_count": null,
   "id": "db02dc3b",
   "metadata": {},
   "outputs": [],
   "source": []
  },
  {
   "cell_type": "code",
   "execution_count": null,
   "id": "e3641dd6",
   "metadata": {},
   "outputs": [],
   "source": []
  },
  {
   "cell_type": "code",
   "execution_count": null,
   "id": "4b89c77f",
   "metadata": {},
   "outputs": [],
   "source": []
  },
  {
   "cell_type": "code",
   "execution_count": 44,
   "id": "8314a48a",
   "metadata": {
    "ExecuteTime": {
     "end_time": "2022-02-17T05:48:27.260297Z",
     "start_time": "2022-02-17T05:48:25.050311Z"
    }
   },
   "outputs": [
    {
     "data": {
      "text/plain": [
       "array([0.79257642, 0.8284153 , 0.81639344, 0.83934426, 0.81857923])"
      ]
     },
     "execution_count": 44,
     "metadata": {},
     "output_type": "execute_result"
    }
   ],
   "source": [
    "clf = svm.SVC()\n",
    "clf.fit(X_train_resampled, y_train_resampled)\n",
    "clf_cv = cross_val_score(clf, X_train_resampled, y_train_resampled)\n",
    "clf_cv"
   ]
  },
  {
   "cell_type": "code",
   "execution_count": 45,
   "id": "f4752c07",
   "metadata": {
    "ExecuteTime": {
     "end_time": "2022-02-17T05:48:27.264708Z",
     "start_time": "2022-02-17T05:48:27.261814Z"
    }
   },
   "outputs": [
    {
     "name": "stdout",
     "output_type": "stream",
     "text": [
      "Baseline:   0.6719834395208437\n",
      "SVM:        0.8190617319302265\n"
     ]
    }
   ],
   "source": [
    "print(\"Baseline:  \", baseline_cv.mean())\n",
    "print(\"SVM:       \", clf_cv.mean())"
   ]
  },
  {
   "cell_type": "code",
   "execution_count": 46,
   "id": "3f2e7887",
   "metadata": {
    "ExecuteTime": {
     "end_time": "2022-02-17T05:48:27.343206Z",
     "start_time": "2022-02-17T05:48:27.265922Z"
    }
   },
   "outputs": [
    {
     "name": "stdout",
     "output_type": "stream",
     "text": [
      "              precision    recall  f1-score   support\n",
      "\n",
      "           0       0.25      0.47      0.33       102\n",
      "           1       0.89      0.75      0.82       581\n",
      "\n",
      "    accuracy                           0.71       683\n",
      "   macro avg       0.57      0.61      0.57       683\n",
      "weighted avg       0.79      0.71      0.74       683\n",
      "\n"
     ]
    }
   ],
   "source": [
    "X_test_vectorized_SVM = tfidf.fit_transform(X_test['lemmed_text'])\n",
    "SVM_test_preds = clf.predict(X_test_vectorized)\n",
    "\n",
    "print(classification_report(y_test, SVM_test_preds))"
   ]
  },
  {
   "cell_type": "code",
   "execution_count": 47,
   "id": "bcf79bfd",
   "metadata": {
    "ExecuteTime": {
     "end_time": "2022-02-17T05:48:27.512673Z",
     "start_time": "2022-02-17T05:48:27.345376Z"
    }
   },
   "outputs": [
    {
     "name": "stderr",
     "output_type": "stream",
     "text": [
      "/Users/patrick/opt/anaconda3/lib/python3.9/site-packages/sklearn/utils/deprecation.py:87: FutureWarning: Function plot_confusion_matrix is deprecated; Function `plot_confusion_matrix` is deprecated in 1.0 and will be removed in 1.2. Use one of the class methods: ConfusionMatrixDisplay.from_predictions or ConfusionMatrixDisplay.from_estimator.\n",
      "  warnings.warn(msg, category=FutureWarning)\n"
     ]
    },
    {
     "data": {
      "image/png": "[encoded data removed]",
      "text/plain": [
       "<Figure size 432x288 with 2 Axes>"
      ]
     },
     "metadata": {
      "needs_background": "light"
     },
     "output_type": "display_data"
    }
   ],
   "source": [
    "plot_confusion_matrix(clf, X_test_vectorized, y_test, cmap=plt.cm.Oranges)\n",
    "plt.grid(False)\n",
    "plt.show()"
   ]
  },
  {
   "cell_type": "code",
   "execution_count": null,
   "id": "809e4eca",
   "metadata": {},
   "outputs": [],
   "source": []
  },
  {
   "cell_type": "code",
   "execution_count": null,
   "id": "d1f807b5",
   "metadata": {},
   "outputs": [],
   "source": []
  },
  {
   "cell_type": "code",
   "execution_count": 48,
   "id": "fa5cd56b",
   "metadata": {
    "ExecuteTime": {
     "end_time": "2022-02-17T05:48:27.945090Z",
     "start_time": "2022-02-17T05:48:27.515439Z"
    }
   },
   "outputs": [
    {
     "data": {
      "text/plain": [
       "array([0.73034934, 0.76939891, 0.78251366, 0.7726776 , 0.7715847 ])"
      ]
     },
     "execution_count": 48,
     "metadata": {},
     "output_type": "execute_result"
    }
   ],
   "source": [
    "knn_5 = KNeighborsClassifier(n_neighbors=5)\n",
    "knn_5.fit(X_train_resampled, y_train_resampled)\n",
    "# Evaluate the classifier on X_train_vectorized and y_train\n",
    "knn_5_cv = cross_val_score(knn_5, X_train_resampled, y_train_resampled)\n",
    "knn_5_cv"
   ]
  },
  {
   "cell_type": "code",
   "execution_count": 49,
   "id": "db5d9af9",
   "metadata": {
    "ExecuteTime": {
     "end_time": "2022-02-17T05:48:27.950039Z",
     "start_time": "2022-02-17T05:48:27.947178Z"
    }
   },
   "outputs": [
    {
     "name": "stdout",
     "output_type": "stream",
     "text": [
      "Baseline:   0.6719834395208437\n",
      "SVM:        0.8190617319302265\n",
      "KNN 5:      0.7653048416732288\n"
     ]
    }
   ],
   "source": [
    "print(\"Baseline:  \", baseline_cv.mean())\n",
    "print(\"SVM:       \", clf_cv.mean())\n",
    "print(\"KNN 5:     \", knn_5_cv.mean())"
   ]
  },
  {
   "cell_type": "code",
   "execution_count": 50,
   "id": "7b598cc0",
   "metadata": {
    "ExecuteTime": {
     "end_time": "2022-02-17T05:48:28.028984Z",
     "start_time": "2022-02-17T05:48:27.951749Z"
    }
   },
   "outputs": [
    {
     "name": "stdout",
     "output_type": "stream",
     "text": [
      "              precision    recall  f1-score   support\n",
      "\n",
      "           0       0.20      0.60      0.30       102\n",
      "           1       0.89      0.57      0.69       581\n",
      "\n",
      "    accuracy                           0.57       683\n",
      "   macro avg       0.54      0.58      0.50       683\n",
      "weighted avg       0.79      0.57      0.64       683\n",
      "\n"
     ]
    }
   ],
   "source": [
    "knn_5_preds = knn_5.predict(X_test_vectorized)\n",
    "\n",
    "print(classification_report(y_test, knn_5_preds))"
   ]
  },
  {
   "cell_type": "code",
   "execution_count": 51,
   "id": "548cd711",
   "metadata": {
    "ExecuteTime": {
     "end_time": "2022-02-17T05:48:28.199494Z",
     "start_time": "2022-02-17T05:48:28.030745Z"
    }
   },
   "outputs": [
    {
     "name": "stderr",
     "output_type": "stream",
     "text": [
      "/Users/patrick/opt/anaconda3/lib/python3.9/site-packages/sklearn/utils/deprecation.py:87: FutureWarning: Function plot_confusion_matrix is deprecated; Function `plot_confusion_matrix` is deprecated in 1.0 and will be removed in 1.2. Use one of the class methods: ConfusionMatrixDisplay.from_predictions or ConfusionMatrixDisplay.from_estimator.\n",
      "  warnings.warn(msg, category=FutureWarning)\n"
     ]
    },
    {
     "data": {
      "image/png": "[encoded data removed]",
      "text/plain": [
       "<Figure size 432x288 with 2 Axes>"
      ]
     },
     "metadata": {
      "needs_background": "light"
     },
     "output_type": "display_data"
    }
   ],
   "source": [
    "plot_confusion_matrix(knn_5, X_test_vectorized, y_test, cmap=plt.cm.Oranges)\n",
    "plt.grid(False)\n",
    "plt.show()"
   ]
  },
  {
   "cell_type": "code",
   "execution_count": null,
   "id": "007ba4c0",
   "metadata": {},
   "outputs": [],
   "source": []
  },
  {
   "cell_type": "code",
   "execution_count": null,
   "id": "8b2307bb",
   "metadata": {},
   "outputs": [],
   "source": []
  },
  {
   "cell_type": "code",
   "execution_count": 52,
   "id": "2ebfddcb",
   "metadata": {
    "ExecuteTime": {
     "end_time": "2022-02-17T05:48:28.277764Z",
     "start_time": "2022-02-17T05:48:28.201222Z"
    }
   },
   "outputs": [
    {
     "name": "stderr",
     "output_type": "stream",
     "text": [
      "/Users/patrick/opt/anaconda3/lib/python3.9/site-packages/sklearn/utils/deprecation.py:87: FutureWarning: Function get_feature_names is deprecated; get_feature_names is deprecated in 1.0 and will be removed in 1.2. Please use get_feature_names_out instead.\n",
      "  warnings.warn(msg, category=FutureWarning)\n"
     ]
    },
    {
     "data": {
      "text/html": [
       "<div>\n",
       "<style scoped>\n",
       "    .dataframe tbody tr th:only-of-type {\n",
       "        vertical-align: middle;\n",
       "    }\n",
       "\n",
       "    .dataframe tbody tr th {\n",
       "        vertical-align: top;\n",
       "    }\n",
       "\n",
       "    .dataframe thead th {\n",
       "        text-align: right;\n",
       "    }\n",
       "</style>\n",
       "<table border=\"1\" class=\"dataframe\">\n",
       "  <thead>\n",
       "    <tr style=\"text-align: right;\">\n",
       "      <th></th>\n",
       "      <th>amp</th>\n",
       "      <th>android</th>\n",
       "      <th>app</th>\n",
       "      <th>apple</th>\n",
       "      <th>apps</th>\n",
       "      <th>around</th>\n",
       "      <th>austin</th>\n",
       "      <th>awesome</th>\n",
       "      <th>called</th>\n",
       "      <th>check</th>\n",
       "      <th>...</th>\n",
       "      <th>time</th>\n",
       "      <th>today</th>\n",
       "      <th>use</th>\n",
       "      <th>users</th>\n",
       "      <th>via</th>\n",
       "      <th>video</th>\n",
       "      <th>want</th>\n",
       "      <th>wins</th>\n",
       "      <th>would</th>\n",
       "      <th>year</th>\n",
       "    </tr>\n",
       "  </thead>\n",
       "  <tbody>\n",
       "    <tr>\n",
       "      <th>0</th>\n",
       "      <td>0.000000</td>\n",
       "      <td>0.000000</td>\n",
       "      <td>0.0</td>\n",
       "      <td>0.0</td>\n",
       "      <td>0.000000</td>\n",
       "      <td>0.000000</td>\n",
       "      <td>0.000000</td>\n",
       "      <td>0.000000</td>\n",
       "      <td>0.0</td>\n",
       "      <td>0.536747</td>\n",
       "      <td>...</td>\n",
       "      <td>0.000000</td>\n",
       "      <td>0.000000</td>\n",
       "      <td>0.0</td>\n",
       "      <td>0.0</td>\n",
       "      <td>0.258093</td>\n",
       "      <td>0.000000</td>\n",
       "      <td>0.0</td>\n",
       "      <td>0.00000</td>\n",
       "      <td>0.000000</td>\n",
       "      <td>0.0</td>\n",
       "    </tr>\n",
       "    <tr>\n",
       "      <th>1</th>\n",
       "      <td>0.441673</td>\n",
       "      <td>0.000000</td>\n",
       "      <td>0.0</td>\n",
       "      <td>0.0</td>\n",
       "      <td>0.000000</td>\n",
       "      <td>0.000000</td>\n",
       "      <td>0.325142</td>\n",
       "      <td>0.000000</td>\n",
       "      <td>0.0</td>\n",
       "      <td>0.228395</td>\n",
       "      <td>...</td>\n",
       "      <td>0.000000</td>\n",
       "      <td>0.418518</td>\n",
       "      <td>0.0</td>\n",
       "      <td>0.0</td>\n",
       "      <td>0.000000</td>\n",
       "      <td>0.000000</td>\n",
       "      <td>0.0</td>\n",
       "      <td>0.00000</td>\n",
       "      <td>0.357363</td>\n",
       "      <td>0.0</td>\n",
       "    </tr>\n",
       "    <tr>\n",
       "      <th>2</th>\n",
       "      <td>0.000000</td>\n",
       "      <td>0.000000</td>\n",
       "      <td>0.0</td>\n",
       "      <td>0.0</td>\n",
       "      <td>0.000000</td>\n",
       "      <td>0.000000</td>\n",
       "      <td>0.000000</td>\n",
       "      <td>0.268613</td>\n",
       "      <td>0.0</td>\n",
       "      <td>0.000000</td>\n",
       "      <td>...</td>\n",
       "      <td>0.000000</td>\n",
       "      <td>0.000000</td>\n",
       "      <td>0.0</td>\n",
       "      <td>0.0</td>\n",
       "      <td>0.690571</td>\n",
       "      <td>0.000000</td>\n",
       "      <td>0.0</td>\n",
       "      <td>0.00000</td>\n",
       "      <td>0.000000</td>\n",
       "      <td>0.0</td>\n",
       "    </tr>\n",
       "    <tr>\n",
       "      <th>3</th>\n",
       "      <td>0.000000</td>\n",
       "      <td>0.000000</td>\n",
       "      <td>0.0</td>\n",
       "      <td>0.0</td>\n",
       "      <td>0.000000</td>\n",
       "      <td>0.000000</td>\n",
       "      <td>0.000000</td>\n",
       "      <td>0.246668</td>\n",
       "      <td>0.0</td>\n",
       "      <td>0.000000</td>\n",
       "      <td>...</td>\n",
       "      <td>0.000000</td>\n",
       "      <td>0.000000</td>\n",
       "      <td>0.0</td>\n",
       "      <td>0.0</td>\n",
       "      <td>0.000000</td>\n",
       "      <td>0.301729</td>\n",
       "      <td>0.0</td>\n",
       "      <td>0.00000</td>\n",
       "      <td>0.000000</td>\n",
       "      <td>0.0</td>\n",
       "    </tr>\n",
       "    <tr>\n",
       "      <th>4</th>\n",
       "      <td>0.000000</td>\n",
       "      <td>0.000000</td>\n",
       "      <td>0.0</td>\n",
       "      <td>0.0</td>\n",
       "      <td>0.000000</td>\n",
       "      <td>0.000000</td>\n",
       "      <td>0.000000</td>\n",
       "      <td>0.000000</td>\n",
       "      <td>0.0</td>\n",
       "      <td>0.000000</td>\n",
       "      <td>...</td>\n",
       "      <td>0.000000</td>\n",
       "      <td>0.000000</td>\n",
       "      <td>0.0</td>\n",
       "      <td>0.0</td>\n",
       "      <td>0.000000</td>\n",
       "      <td>0.000000</td>\n",
       "      <td>0.0</td>\n",
       "      <td>0.00000</td>\n",
       "      <td>0.000000</td>\n",
       "      <td>0.0</td>\n",
       "    </tr>\n",
       "    <tr>\n",
       "      <th>...</th>\n",
       "      <td>...</td>\n",
       "      <td>...</td>\n",
       "      <td>...</td>\n",
       "      <td>...</td>\n",
       "      <td>...</td>\n",
       "      <td>...</td>\n",
       "      <td>...</td>\n",
       "      <td>...</td>\n",
       "      <td>...</td>\n",
       "      <td>...</td>\n",
       "      <td>...</td>\n",
       "      <td>...</td>\n",
       "      <td>...</td>\n",
       "      <td>...</td>\n",
       "      <td>...</td>\n",
       "      <td>...</td>\n",
       "      <td>...</td>\n",
       "      <td>...</td>\n",
       "      <td>...</td>\n",
       "      <td>...</td>\n",
       "      <td>...</td>\n",
       "    </tr>\n",
       "    <tr>\n",
       "      <th>2726</th>\n",
       "      <td>0.831301</td>\n",
       "      <td>0.408677</td>\n",
       "      <td>0.0</td>\n",
       "      <td>0.0</td>\n",
       "      <td>0.000000</td>\n",
       "      <td>0.000000</td>\n",
       "      <td>0.000000</td>\n",
       "      <td>0.000000</td>\n",
       "      <td>0.0</td>\n",
       "      <td>0.000000</td>\n",
       "      <td>...</td>\n",
       "      <td>0.000000</td>\n",
       "      <td>0.000000</td>\n",
       "      <td>0.0</td>\n",
       "      <td>0.0</td>\n",
       "      <td>0.206705</td>\n",
       "      <td>0.000000</td>\n",
       "      <td>0.0</td>\n",
       "      <td>0.00000</td>\n",
       "      <td>0.000000</td>\n",
       "      <td>0.0</td>\n",
       "    </tr>\n",
       "    <tr>\n",
       "      <th>2727</th>\n",
       "      <td>0.000000</td>\n",
       "      <td>0.000000</td>\n",
       "      <td>0.0</td>\n",
       "      <td>0.0</td>\n",
       "      <td>0.278795</td>\n",
       "      <td>0.000000</td>\n",
       "      <td>0.000000</td>\n",
       "      <td>0.247452</td>\n",
       "      <td>0.0</td>\n",
       "      <td>0.220503</td>\n",
       "      <td>...</td>\n",
       "      <td>0.375773</td>\n",
       "      <td>0.000000</td>\n",
       "      <td>0.0</td>\n",
       "      <td>0.0</td>\n",
       "      <td>0.000000</td>\n",
       "      <td>0.302687</td>\n",
       "      <td>0.0</td>\n",
       "      <td>0.00000</td>\n",
       "      <td>0.000000</td>\n",
       "      <td>0.0</td>\n",
       "    </tr>\n",
       "    <tr>\n",
       "      <th>2728</th>\n",
       "      <td>0.000000</td>\n",
       "      <td>0.000000</td>\n",
       "      <td>0.0</td>\n",
       "      <td>0.0</td>\n",
       "      <td>0.000000</td>\n",
       "      <td>0.000000</td>\n",
       "      <td>0.000000</td>\n",
       "      <td>0.000000</td>\n",
       "      <td>0.0</td>\n",
       "      <td>0.000000</td>\n",
       "      <td>...</td>\n",
       "      <td>0.341861</td>\n",
       "      <td>0.000000</td>\n",
       "      <td>0.0</td>\n",
       "      <td>0.0</td>\n",
       "      <td>0.385838</td>\n",
       "      <td>0.000000</td>\n",
       "      <td>0.0</td>\n",
       "      <td>0.00000</td>\n",
       "      <td>0.000000</td>\n",
       "      <td>0.0</td>\n",
       "    </tr>\n",
       "    <tr>\n",
       "      <th>2729</th>\n",
       "      <td>0.000000</td>\n",
       "      <td>0.000000</td>\n",
       "      <td>0.0</td>\n",
       "      <td>0.0</td>\n",
       "      <td>0.523346</td>\n",
       "      <td>0.000000</td>\n",
       "      <td>0.000000</td>\n",
       "      <td>0.000000</td>\n",
       "      <td>0.0</td>\n",
       "      <td>0.000000</td>\n",
       "      <td>...</td>\n",
       "      <td>0.000000</td>\n",
       "      <td>0.000000</td>\n",
       "      <td>0.0</td>\n",
       "      <td>0.0</td>\n",
       "      <td>0.000000</td>\n",
       "      <td>0.000000</td>\n",
       "      <td>0.0</td>\n",
       "      <td>0.63057</td>\n",
       "      <td>0.000000</td>\n",
       "      <td>0.0</td>\n",
       "    </tr>\n",
       "    <tr>\n",
       "      <th>2730</th>\n",
       "      <td>0.000000</td>\n",
       "      <td>0.000000</td>\n",
       "      <td>0.0</td>\n",
       "      <td>0.0</td>\n",
       "      <td>0.000000</td>\n",
       "      <td>0.434338</td>\n",
       "      <td>0.669865</td>\n",
       "      <td>0.000000</td>\n",
       "      <td>0.0</td>\n",
       "      <td>0.000000</td>\n",
       "      <td>...</td>\n",
       "      <td>0.000000</td>\n",
       "      <td>0.000000</td>\n",
       "      <td>0.0</td>\n",
       "      <td>0.0</td>\n",
       "      <td>0.000000</td>\n",
       "      <td>0.322962</td>\n",
       "      <td>0.0</td>\n",
       "      <td>0.00000</td>\n",
       "      <td>0.000000</td>\n",
       "      <td>0.0</td>\n",
       "    </tr>\n",
       "  </tbody>\n",
       "</table>\n",
       "<p>2731 rows × 60 columns</p>\n",
       "</div>"
      ],
      "text/plain": [
       "           amp   android  app  apple      apps    around    austin   awesome  \\\n",
       "0     0.000000  0.000000  0.0    0.0  0.000000  0.000000  0.000000  0.000000   \n",
       "1     0.441673  0.000000  0.0    0.0  0.000000  0.000000  0.325142  0.000000   \n",
       "2     0.000000  0.000000  0.0    0.0  0.000000  0.000000  0.000000  0.268613   \n",
       "3     0.000000  0.000000  0.0    0.0  0.000000  0.000000  0.000000  0.246668   \n",
       "4     0.000000  0.000000  0.0    0.0  0.000000  0.000000  0.000000  0.000000   \n",
       "...        ...       ...  ...    ...       ...       ...       ...       ...   \n",
       "2726  0.831301  0.408677  0.0    0.0  0.000000  0.000000  0.000000  0.000000   \n",
       "2727  0.000000  0.000000  0.0    0.0  0.278795  0.000000  0.000000  0.247452   \n",
       "2728  0.000000  0.000000  0.0    0.0  0.000000  0.000000  0.000000  0.000000   \n",
       "2729  0.000000  0.000000  0.0    0.0  0.523346  0.000000  0.000000  0.000000   \n",
       "2730  0.000000  0.000000  0.0    0.0  0.000000  0.434338  0.669865  0.000000   \n",
       "\n",
       "      called     check  ...      time     today  use  users       via  \\\n",
       "0        0.0  0.536747  ...  0.000000  0.000000  0.0    0.0  0.258093   \n",
       "1        0.0  0.228395  ...  0.000000  0.418518  0.0    0.0  0.000000   \n",
       "2        0.0  0.000000  ...  0.000000  0.000000  0.0    0.0  0.690571   \n",
       "3        0.0  0.000000  ...  0.000000  0.000000  0.0    0.0  0.000000   \n",
       "4        0.0  0.000000  ...  0.000000  0.000000  0.0    0.0  0.000000   \n",
       "...      ...       ...  ...       ...       ...  ...    ...       ...   \n",
       "2726     0.0  0.000000  ...  0.000000  0.000000  0.0    0.0  0.206705   \n",
       "2727     0.0  0.220503  ...  0.375773  0.000000  0.0    0.0  0.000000   \n",
       "2728     0.0  0.000000  ...  0.341861  0.000000  0.0    0.0  0.385838   \n",
       "2729     0.0  0.000000  ...  0.000000  0.000000  0.0    0.0  0.000000   \n",
       "2730     0.0  0.000000  ...  0.000000  0.000000  0.0    0.0  0.000000   \n",
       "\n",
       "         video  want     wins     would  year  \n",
       "0     0.000000   0.0  0.00000  0.000000   0.0  \n",
       "1     0.000000   0.0  0.00000  0.357363   0.0  \n",
       "2     0.000000   0.0  0.00000  0.000000   0.0  \n",
       "3     0.301729   0.0  0.00000  0.000000   0.0  \n",
       "4     0.000000   0.0  0.00000  0.000000   0.0  \n",
       "...        ...   ...      ...       ...   ...  \n",
       "2726  0.000000   0.0  0.00000  0.000000   0.0  \n",
       "2727  0.302687   0.0  0.00000  0.000000   0.0  \n",
       "2728  0.000000   0.0  0.00000  0.000000   0.0  \n",
       "2729  0.000000   0.0  0.63057  0.000000   0.0  \n",
       "2730  0.322962   0.0  0.00000  0.000000   0.0  \n",
       "\n",
       "[2731 rows x 60 columns]"
      ]
     },
     "execution_count": 52,
     "metadata": {},
     "output_type": "execute_result"
    }
   ],
   "source": [
    "tfidf_text = TfidfVectorizer(max_features=60)\n",
    "\n",
    "X_train_vectorized_text = tfidf_text.fit_transform(X_train['text'])\n",
    "\n",
    "pd.DataFrame.sparse.from_spmatrix(X_train_vectorized_text, columns=tfidf.get_feature_names())"
   ]
  },
  {
   "cell_type": "code",
   "execution_count": 53,
   "id": "a153dda9",
   "metadata": {
    "ExecuteTime": {
     "end_time": "2022-02-17T05:48:28.292756Z",
     "start_time": "2022-02-17T05:48:28.279548Z"
    }
   },
   "outputs": [],
   "source": [
    "smote_text = SMOTE(k_neighbors=5)\n",
    "X_train_resampled_text, y_train_resampled_text = smote_text.fit_resample(X_train_vectorized_text, y_train)"
   ]
  },
  {
   "cell_type": "code",
   "execution_count": 54,
   "id": "4ad7d285",
   "metadata": {
    "ExecuteTime": {
     "end_time": "2022-02-17T05:48:32.312893Z",
     "start_time": "2022-02-17T05:48:28.295120Z"
    }
   },
   "outputs": [
    {
     "data": {
      "text/plain": [
       "array([0.78820961, 0.94644809, 0.95628415, 0.96284153, 0.95409836])"
      ]
     },
     "execution_count": 54,
     "metadata": {},
     "output_type": "execute_result"
    }
   ],
   "source": [
    "clf_text = svm.SVC()\n",
    "clf_text.fit(X_train_resampled_text, y_train_resampled_text)\n",
    "clf_text_cv = cross_val_score(clf_text, X_train_resampled_text, y_train_resampled_text)\n",
    "clf_text_cv"
   ]
  },
  {
   "cell_type": "code",
   "execution_count": 55,
   "id": "0a83517c",
   "metadata": {
    "ExecuteTime": {
     "end_time": "2022-02-17T05:48:32.318844Z",
     "start_time": "2022-02-17T05:48:32.315302Z"
    }
   },
   "outputs": [
    {
     "name": "stdout",
     "output_type": "stream",
     "text": [
      "Baseline:   0.6719834395208437\n",
      "SVM:        0.8190617319302265\n",
      "KNN 5:      0.7653048416732288\n",
      "SVM_text:   0.9215763476268881\n"
     ]
    }
   ],
   "source": [
    "print(\"Baseline:  \", baseline_cv.mean())\n",
    "print(\"SVM:       \", clf_cv.mean())\n",
    "print(\"KNN 5:     \", knn_5_cv.mean())\n",
    "print(\"SVM_text:  \", clf_text_cv.mean())"
   ]
  },
  {
   "cell_type": "code",
   "execution_count": 56,
   "id": "02260b26",
   "metadata": {
    "ExecuteTime": {
     "end_time": "2022-02-17T05:48:32.447196Z",
     "start_time": "2022-02-17T05:48:32.319977Z"
    }
   },
   "outputs": [
    {
     "name": "stdout",
     "output_type": "stream",
     "text": [
      "              precision    recall  f1-score   support\n",
      "\n",
      "           0       0.23      0.15      0.18       102\n",
      "           1       0.86      0.91      0.89       581\n",
      "\n",
      "    accuracy                           0.80       683\n",
      "   macro avg       0.54      0.53      0.53       683\n",
      "weighted avg       0.77      0.80      0.78       683\n",
      "\n"
     ]
    }
   ],
   "source": [
    "X_test_vectorized_text = tfidf_text.fit_transform(X_test['text'])\n",
    "SVM_text_preds = clf_text.predict(X_test_vectorized_text)\n",
    "\n",
    "print(classification_report(y_test, SVM_text_preds))"
   ]
  },
  {
   "cell_type": "code",
   "execution_count": 57,
   "id": "a034d5e2",
   "metadata": {
    "ExecuteTime": {
     "end_time": "2022-02-17T05:48:32.648045Z",
     "start_time": "2022-02-17T05:48:32.448981Z"
    }
   },
   "outputs": [
    {
     "name": "stderr",
     "output_type": "stream",
     "text": [
      "/Users/patrick/opt/anaconda3/lib/python3.9/site-packages/sklearn/utils/deprecation.py:87: FutureWarning: Function plot_confusion_matrix is deprecated; Function `plot_confusion_matrix` is deprecated in 1.0 and will be removed in 1.2. Use one of the class methods: ConfusionMatrixDisplay.from_predictions or ConfusionMatrixDisplay.from_estimator.\n",
      "  warnings.warn(msg, category=FutureWarning)\n"
     ]
    },
    {
     "data": {
      "image/png": "[encoded data removed]",
      "text/plain": [
       "<Figure size 432x288 with 2 Axes>"
      ]
     },
     "metadata": {
      "needs_background": "light"
     },
     "output_type": "display_data"
    }
   ],
   "source": [
    "plot_confusion_matrix(clf_text, X_test_vectorized_text, y_test, cmap=plt.cm.Oranges)\n",
    "plt.grid(False)\n",
    "plt.show()"
   ]
  },
  {
   "cell_type": "code",
   "execution_count": null,
   "id": "dde62576",
   "metadata": {},
   "outputs": [],
   "source": []
  },
  {
   "cell_type": "code",
   "execution_count": null,
   "id": "1b7ae9f2",
   "metadata": {},
   "outputs": [],
   "source": []
  },
  {
   "cell_type": "code",
   "execution_count": null,
   "id": "9008faf4",
   "metadata": {},
   "outputs": [],
   "source": []
  },
  {
   "cell_type": "code",
   "execution_count": null,
   "id": "6af19f42",
   "metadata": {},
   "outputs": [],
   "source": []
  },
  {
   "cell_type": "code",
   "execution_count": null,
   "id": "9292f8e4",
   "metadata": {},
   "outputs": [],
   "source": []
  },
  {
   "cell_type": "code",
   "execution_count": null,
   "id": "21fa5fba",
   "metadata": {},
   "outputs": [],
   "source": []
  },
  {
   "cell_type": "code",
   "execution_count": 58,
   "id": "bc816298",
   "metadata": {
    "ExecuteTime": {
     "end_time": "2022-02-17T05:48:32.723883Z",
     "start_time": "2022-02-17T05:48:32.649428Z"
    }
   },
   "outputs": [
    {
     "name": "stderr",
     "output_type": "stream",
     "text": [
      "/Users/patrick/opt/anaconda3/lib/python3.9/site-packages/sklearn/utils/deprecation.py:87: FutureWarning: Function get_feature_names is deprecated; get_feature_names is deprecated in 1.0 and will be removed in 1.2. Please use get_feature_names_out instead.\n",
      "  warnings.warn(msg, category=FutureWarning)\n"
     ]
    },
    {
     "data": {
      "text/html": [
       "<div>\n",
       "<style scoped>\n",
       "    .dataframe tbody tr th:only-of-type {\n",
       "        vertical-align: middle;\n",
       "    }\n",
       "\n",
       "    .dataframe tbody tr th {\n",
       "        vertical-align: top;\n",
       "    }\n",
       "\n",
       "    .dataframe thead th {\n",
       "        text-align: right;\n",
       "    }\n",
       "</style>\n",
       "<table border=\"1\" class=\"dataframe\">\n",
       "  <thead>\n",
       "    <tr style=\"text-align: right;\">\n",
       "      <th></th>\n",
       "      <th>amp</th>\n",
       "      <th>android</th>\n",
       "      <th>app</th>\n",
       "      <th>apple</th>\n",
       "      <th>apps</th>\n",
       "      <th>around</th>\n",
       "      <th>austin</th>\n",
       "      <th>awesome</th>\n",
       "      <th>called</th>\n",
       "      <th>check</th>\n",
       "      <th>...</th>\n",
       "      <th>time</th>\n",
       "      <th>today</th>\n",
       "      <th>use</th>\n",
       "      <th>users</th>\n",
       "      <th>via</th>\n",
       "      <th>video</th>\n",
       "      <th>want</th>\n",
       "      <th>wins</th>\n",
       "      <th>would</th>\n",
       "      <th>year</th>\n",
       "    </tr>\n",
       "  </thead>\n",
       "  <tbody>\n",
       "    <tr>\n",
       "      <th>0</th>\n",
       "      <td>0.0</td>\n",
       "      <td>0.000000</td>\n",
       "      <td>0.000000</td>\n",
       "      <td>0.000000</td>\n",
       "      <td>0.0</td>\n",
       "      <td>0.0</td>\n",
       "      <td>0.536997</td>\n",
       "      <td>0.000000</td>\n",
       "      <td>0.0</td>\n",
       "      <td>0.0</td>\n",
       "      <td>...</td>\n",
       "      <td>0.0</td>\n",
       "      <td>0.000000</td>\n",
       "      <td>0.000000</td>\n",
       "      <td>0.0</td>\n",
       "      <td>0.0</td>\n",
       "      <td>0.0</td>\n",
       "      <td>0.0</td>\n",
       "      <td>0.0</td>\n",
       "      <td>0.00000</td>\n",
       "      <td>0.0</td>\n",
       "    </tr>\n",
       "    <tr>\n",
       "      <th>1</th>\n",
       "      <td>0.0</td>\n",
       "      <td>0.000000</td>\n",
       "      <td>0.394483</td>\n",
       "      <td>0.000000</td>\n",
       "      <td>0.0</td>\n",
       "      <td>0.0</td>\n",
       "      <td>0.000000</td>\n",
       "      <td>0.576728</td>\n",
       "      <td>0.0</td>\n",
       "      <td>0.0</td>\n",
       "      <td>...</td>\n",
       "      <td>0.0</td>\n",
       "      <td>0.000000</td>\n",
       "      <td>0.000000</td>\n",
       "      <td>0.0</td>\n",
       "      <td>0.0</td>\n",
       "      <td>0.0</td>\n",
       "      <td>0.0</td>\n",
       "      <td>0.0</td>\n",
       "      <td>0.00000</td>\n",
       "      <td>0.0</td>\n",
       "    </tr>\n",
       "    <tr>\n",
       "      <th>2</th>\n",
       "      <td>0.0</td>\n",
       "      <td>0.000000</td>\n",
       "      <td>0.000000</td>\n",
       "      <td>0.263682</td>\n",
       "      <td>0.0</td>\n",
       "      <td>0.0</td>\n",
       "      <td>0.000000</td>\n",
       "      <td>0.000000</td>\n",
       "      <td>0.0</td>\n",
       "      <td>0.0</td>\n",
       "      <td>...</td>\n",
       "      <td>0.0</td>\n",
       "      <td>0.000000</td>\n",
       "      <td>0.431353</td>\n",
       "      <td>0.0</td>\n",
       "      <td>0.0</td>\n",
       "      <td>0.0</td>\n",
       "      <td>0.0</td>\n",
       "      <td>0.0</td>\n",
       "      <td>0.00000</td>\n",
       "      <td>0.0</td>\n",
       "    </tr>\n",
       "    <tr>\n",
       "      <th>3</th>\n",
       "      <td>0.0</td>\n",
       "      <td>0.000000</td>\n",
       "      <td>0.000000</td>\n",
       "      <td>0.345264</td>\n",
       "      <td>0.0</td>\n",
       "      <td>0.0</td>\n",
       "      <td>0.000000</td>\n",
       "      <td>0.000000</td>\n",
       "      <td>0.0</td>\n",
       "      <td>0.0</td>\n",
       "      <td>...</td>\n",
       "      <td>0.0</td>\n",
       "      <td>0.396700</td>\n",
       "      <td>0.000000</td>\n",
       "      <td>0.0</td>\n",
       "      <td>0.0</td>\n",
       "      <td>0.0</td>\n",
       "      <td>0.0</td>\n",
       "      <td>0.0</td>\n",
       "      <td>0.60158</td>\n",
       "      <td>0.0</td>\n",
       "    </tr>\n",
       "    <tr>\n",
       "      <th>4</th>\n",
       "      <td>0.0</td>\n",
       "      <td>0.000000</td>\n",
       "      <td>0.000000</td>\n",
       "      <td>0.000000</td>\n",
       "      <td>0.0</td>\n",
       "      <td>0.0</td>\n",
       "      <td>0.000000</td>\n",
       "      <td>0.546919</td>\n",
       "      <td>0.0</td>\n",
       "      <td>0.0</td>\n",
       "      <td>...</td>\n",
       "      <td>0.0</td>\n",
       "      <td>0.000000</td>\n",
       "      <td>0.000000</td>\n",
       "      <td>0.0</td>\n",
       "      <td>0.0</td>\n",
       "      <td>0.0</td>\n",
       "      <td>0.0</td>\n",
       "      <td>0.0</td>\n",
       "      <td>0.00000</td>\n",
       "      <td>0.0</td>\n",
       "    </tr>\n",
       "    <tr>\n",
       "      <th>...</th>\n",
       "      <td>...</td>\n",
       "      <td>...</td>\n",
       "      <td>...</td>\n",
       "      <td>...</td>\n",
       "      <td>...</td>\n",
       "      <td>...</td>\n",
       "      <td>...</td>\n",
       "      <td>...</td>\n",
       "      <td>...</td>\n",
       "      <td>...</td>\n",
       "      <td>...</td>\n",
       "      <td>...</td>\n",
       "      <td>...</td>\n",
       "      <td>...</td>\n",
       "      <td>...</td>\n",
       "      <td>...</td>\n",
       "      <td>...</td>\n",
       "      <td>...</td>\n",
       "      <td>...</td>\n",
       "      <td>...</td>\n",
       "      <td>...</td>\n",
       "    </tr>\n",
       "    <tr>\n",
       "      <th>2726</th>\n",
       "      <td>0.0</td>\n",
       "      <td>0.000000</td>\n",
       "      <td>0.000000</td>\n",
       "      <td>0.000000</td>\n",
       "      <td>0.0</td>\n",
       "      <td>0.0</td>\n",
       "      <td>0.000000</td>\n",
       "      <td>0.000000</td>\n",
       "      <td>0.0</td>\n",
       "      <td>0.0</td>\n",
       "      <td>...</td>\n",
       "      <td>0.0</td>\n",
       "      <td>0.000000</td>\n",
       "      <td>0.000000</td>\n",
       "      <td>0.0</td>\n",
       "      <td>0.0</td>\n",
       "      <td>0.0</td>\n",
       "      <td>0.0</td>\n",
       "      <td>0.0</td>\n",
       "      <td>0.00000</td>\n",
       "      <td>0.0</td>\n",
       "    </tr>\n",
       "    <tr>\n",
       "      <th>2727</th>\n",
       "      <td>0.0</td>\n",
       "      <td>0.000000</td>\n",
       "      <td>0.000000</td>\n",
       "      <td>0.405414</td>\n",
       "      <td>0.0</td>\n",
       "      <td>0.0</td>\n",
       "      <td>0.000000</td>\n",
       "      <td>0.000000</td>\n",
       "      <td>0.0</td>\n",
       "      <td>0.0</td>\n",
       "      <td>...</td>\n",
       "      <td>0.0</td>\n",
       "      <td>0.465811</td>\n",
       "      <td>0.000000</td>\n",
       "      <td>0.0</td>\n",
       "      <td>0.0</td>\n",
       "      <td>0.0</td>\n",
       "      <td>0.0</td>\n",
       "      <td>0.0</td>\n",
       "      <td>0.00000</td>\n",
       "      <td>0.0</td>\n",
       "    </tr>\n",
       "    <tr>\n",
       "      <th>2728</th>\n",
       "      <td>0.0</td>\n",
       "      <td>0.000000</td>\n",
       "      <td>0.000000</td>\n",
       "      <td>0.000000</td>\n",
       "      <td>0.0</td>\n",
       "      <td>0.0</td>\n",
       "      <td>0.000000</td>\n",
       "      <td>0.000000</td>\n",
       "      <td>0.0</td>\n",
       "      <td>0.0</td>\n",
       "      <td>...</td>\n",
       "      <td>0.0</td>\n",
       "      <td>0.000000</td>\n",
       "      <td>0.000000</td>\n",
       "      <td>0.0</td>\n",
       "      <td>0.0</td>\n",
       "      <td>0.0</td>\n",
       "      <td>0.0</td>\n",
       "      <td>0.0</td>\n",
       "      <td>0.00000</td>\n",
       "      <td>0.0</td>\n",
       "    </tr>\n",
       "    <tr>\n",
       "      <th>2729</th>\n",
       "      <td>0.0</td>\n",
       "      <td>0.000000</td>\n",
       "      <td>0.000000</td>\n",
       "      <td>0.000000</td>\n",
       "      <td>0.0</td>\n",
       "      <td>0.0</td>\n",
       "      <td>0.000000</td>\n",
       "      <td>0.000000</td>\n",
       "      <td>0.0</td>\n",
       "      <td>0.0</td>\n",
       "      <td>...</td>\n",
       "      <td>0.0</td>\n",
       "      <td>0.000000</td>\n",
       "      <td>0.000000</td>\n",
       "      <td>0.0</td>\n",
       "      <td>0.0</td>\n",
       "      <td>0.0</td>\n",
       "      <td>0.0</td>\n",
       "      <td>0.0</td>\n",
       "      <td>0.00000</td>\n",
       "      <td>0.0</td>\n",
       "    </tr>\n",
       "    <tr>\n",
       "      <th>2730</th>\n",
       "      <td>0.0</td>\n",
       "      <td>0.458289</td>\n",
       "      <td>0.708129</td>\n",
       "      <td>0.000000</td>\n",
       "      <td>0.0</td>\n",
       "      <td>0.0</td>\n",
       "      <td>0.000000</td>\n",
       "      <td>0.000000</td>\n",
       "      <td>0.0</td>\n",
       "      <td>0.0</td>\n",
       "      <td>...</td>\n",
       "      <td>0.0</td>\n",
       "      <td>0.000000</td>\n",
       "      <td>0.000000</td>\n",
       "      <td>0.0</td>\n",
       "      <td>0.0</td>\n",
       "      <td>0.0</td>\n",
       "      <td>0.0</td>\n",
       "      <td>0.0</td>\n",
       "      <td>0.00000</td>\n",
       "      <td>0.0</td>\n",
       "    </tr>\n",
       "  </tbody>\n",
       "</table>\n",
       "<p>2731 rows × 60 columns</p>\n",
       "</div>"
      ],
      "text/plain": [
       "      amp   android       app     apple  apps  around    austin   awesome  \\\n",
       "0     0.0  0.000000  0.000000  0.000000   0.0     0.0  0.536997  0.000000   \n",
       "1     0.0  0.000000  0.394483  0.000000   0.0     0.0  0.000000  0.576728   \n",
       "2     0.0  0.000000  0.000000  0.263682   0.0     0.0  0.000000  0.000000   \n",
       "3     0.0  0.000000  0.000000  0.345264   0.0     0.0  0.000000  0.000000   \n",
       "4     0.0  0.000000  0.000000  0.000000   0.0     0.0  0.000000  0.546919   \n",
       "...   ...       ...       ...       ...   ...     ...       ...       ...   \n",
       "2726  0.0  0.000000  0.000000  0.000000   0.0     0.0  0.000000  0.000000   \n",
       "2727  0.0  0.000000  0.000000  0.405414   0.0     0.0  0.000000  0.000000   \n",
       "2728  0.0  0.000000  0.000000  0.000000   0.0     0.0  0.000000  0.000000   \n",
       "2729  0.0  0.000000  0.000000  0.000000   0.0     0.0  0.000000  0.000000   \n",
       "2730  0.0  0.458289  0.708129  0.000000   0.0     0.0  0.000000  0.000000   \n",
       "\n",
       "      called  check  ...  time     today       use  users  via  video  want  \\\n",
       "0        0.0    0.0  ...   0.0  0.000000  0.000000    0.0  0.0    0.0   0.0   \n",
       "1        0.0    0.0  ...   0.0  0.000000  0.000000    0.0  0.0    0.0   0.0   \n",
       "2        0.0    0.0  ...   0.0  0.000000  0.431353    0.0  0.0    0.0   0.0   \n",
       "3        0.0    0.0  ...   0.0  0.396700  0.000000    0.0  0.0    0.0   0.0   \n",
       "4        0.0    0.0  ...   0.0  0.000000  0.000000    0.0  0.0    0.0   0.0   \n",
       "...      ...    ...  ...   ...       ...       ...    ...  ...    ...   ...   \n",
       "2726     0.0    0.0  ...   0.0  0.000000  0.000000    0.0  0.0    0.0   0.0   \n",
       "2727     0.0    0.0  ...   0.0  0.465811  0.000000    0.0  0.0    0.0   0.0   \n",
       "2728     0.0    0.0  ...   0.0  0.000000  0.000000    0.0  0.0    0.0   0.0   \n",
       "2729     0.0    0.0  ...   0.0  0.000000  0.000000    0.0  0.0    0.0   0.0   \n",
       "2730     0.0    0.0  ...   0.0  0.000000  0.000000    0.0  0.0    0.0   0.0   \n",
       "\n",
       "      wins    would  year  \n",
       "0      0.0  0.00000   0.0  \n",
       "1      0.0  0.00000   0.0  \n",
       "2      0.0  0.00000   0.0  \n",
       "3      0.0  0.60158   0.0  \n",
       "4      0.0  0.00000   0.0  \n",
       "...    ...      ...   ...  \n",
       "2726   0.0  0.00000   0.0  \n",
       "2727   0.0  0.00000   0.0  \n",
       "2728   0.0  0.00000   0.0  \n",
       "2729   0.0  0.00000   0.0  \n",
       "2730   0.0  0.00000   0.0  \n",
       "\n",
       "[2731 rows x 60 columns]"
      ]
     },
     "execution_count": 58,
     "metadata": {},
     "output_type": "execute_result"
    }
   ],
   "source": [
    "tfidf_regex_text = TfidfVectorizer(max_features=60)\n",
    "\n",
    "X_train_vectorized_regex_text = tfidf_regex_text.fit_transform(X_train['regex_text'])\n",
    "\n",
    "pd.DataFrame.sparse.from_spmatrix(X_train_vectorized_regex_text, columns=tfidf.get_feature_names())"
   ]
  },
  {
   "cell_type": "code",
   "execution_count": 59,
   "id": "c042e454",
   "metadata": {
    "ExecuteTime": {
     "end_time": "2022-02-17T05:48:32.735827Z",
     "start_time": "2022-02-17T05:48:32.725192Z"
    }
   },
   "outputs": [],
   "source": [
    "smote_regex_text = SMOTE(k_neighbors=5)\n",
    "X_train_resampled_regex_text, y_train_regex_resampled_text = smote_regex_text.fit_resample(X_train_vectorized_regex_text, y_train)"
   ]
  },
  {
   "cell_type": "code",
   "execution_count": 60,
   "id": "7649a14d",
   "metadata": {
    "ExecuteTime": {
     "end_time": "2022-02-17T05:48:34.963777Z",
     "start_time": "2022-02-17T05:48:32.737654Z"
    }
   },
   "outputs": [
    {
     "data": {
      "text/plain": [
       "array([0.79475983, 0.83497268, 0.82404372, 0.83169399, 0.82076503])"
      ]
     },
     "execution_count": 60,
     "metadata": {},
     "output_type": "execute_result"
    }
   ],
   "source": [
    "clf_regex_text = svm.SVC()\n",
    "clf_regex_text.fit(X_train_resampled_regex_text, y_train_regex_resampled_text)\n",
    "clf_regex_text_cv = cross_val_score(clf_regex_text, X_train_resampled_regex_text, y_train_regex_resampled_text)\n",
    "clf_regex_text_cv"
   ]
  },
  {
   "cell_type": "code",
   "execution_count": 61,
   "id": "4e49b9fe",
   "metadata": {
    "ExecuteTime": {
     "end_time": "2022-02-17T05:48:34.971540Z",
     "start_time": "2022-02-17T05:48:34.966298Z"
    }
   },
   "outputs": [
    {
     "name": "stdout",
     "output_type": "stream",
     "text": [
      "Baseline:        0.6719834395208437\n",
      "SVM:             0.8190617319302265\n",
      "KNN 5:           0.7653048416732288\n",
      "SVM_text:        0.9215763476268881\n",
      "SVM_regex_text:  0.8212470470327153\n"
     ]
    }
   ],
   "source": [
    "print(\"Baseline:       \", baseline_cv.mean())\n",
    "print(\"SVM:            \", clf_cv.mean())\n",
    "print(\"KNN 5:          \", knn_5_cv.mean())\n",
    "print(\"SVM_text:       \", clf_text_cv.mean())\n",
    "print(\"SVM_regex_text: \", clf_regex_text_cv.mean())"
   ]
  },
  {
   "cell_type": "code",
   "execution_count": 62,
   "id": "4c48e447",
   "metadata": {
    "ExecuteTime": {
     "end_time": "2022-02-17T05:48:35.059952Z",
     "start_time": "2022-02-17T05:48:34.976933Z"
    }
   },
   "outputs": [
    {
     "name": "stdout",
     "output_type": "stream",
     "text": [
      "              precision    recall  f1-score   support\n",
      "\n",
      "           0       0.27      0.51      0.35       102\n",
      "           1       0.90      0.75      0.82       581\n",
      "\n",
      "    accuracy                           0.72       683\n",
      "   macro avg       0.58      0.63      0.58       683\n",
      "weighted avg       0.80      0.72      0.75       683\n",
      "\n"
     ]
    }
   ],
   "source": [
    "X_test_vectorized_regex_text = tfidf_regex_text.fit_transform(X_test['regex_text'])\n",
    "SVM_regex_text_preds = clf_regex_text.predict(X_test_vectorized_regex_text)\n",
    "\n",
    "print(classification_report(y_test, SVM_regex_text_preds))"
   ]
  },
  {
   "cell_type": "code",
   "execution_count": 63,
   "id": "b59cd352",
   "metadata": {
    "ExecuteTime": {
     "end_time": "2022-02-17T05:48:35.234474Z",
     "start_time": "2022-02-17T05:48:35.062291Z"
    }
   },
   "outputs": [
    {
     "name": "stderr",
     "output_type": "stream",
     "text": [
      "/Users/patrick/opt/anaconda3/lib/python3.9/site-packages/sklearn/utils/deprecation.py:87: FutureWarning: Function plot_confusion_matrix is deprecated; Function `plot_confusion_matrix` is deprecated in 1.0 and will be removed in 1.2. Use one of the class methods: ConfusionMatrixDisplay.from_predictions or ConfusionMatrixDisplay.from_estimator.\n",
      "  warnings.warn(msg, category=FutureWarning)\n"
     ]
    },
    {
     "data": {
      "image/png": "[encoded data removed]",
      "text/plain": [
       "<Figure size 432x288 with 2 Axes>"
      ]
     },
     "metadata": {
      "needs_background": "light"
     },
     "output_type": "display_data"
    }
   ],
   "source": [
    "plot_confusion_matrix(clf_regex_text, X_test_vectorized_regex_text, y_test, cmap=plt.cm.Oranges)\n",
    "plt.grid(False)\n",
    "plt.show()"
   ]
  },
  {
   "cell_type": "code",
   "execution_count": null,
   "id": "323ea543",
   "metadata": {},
   "outputs": [],
   "source": []
  },
  {
   "cell_type": "code",
   "execution_count": null,
   "id": "e57f108d",
   "metadata": {},
   "outputs": [],
   "source": []
  },
  {
   "cell_type": "code",
   "execution_count": null,
   "id": "6367ec24",
   "metadata": {},
   "outputs": [],
   "source": []
  },
  {
   "cell_type": "code",
   "execution_count": 71,
   "id": "ab355a02",
   "metadata": {
    "ExecuteTime": {
     "end_time": "2022-02-17T05:52:40.567198Z",
     "start_time": "2022-02-17T05:52:40.528967Z"
    }
   },
   "outputs": [],
   "source": [
    "count = CountVectorizer()\n",
    "X_count_vectorized = count.fit_transform(X_train['regex_text'])"
   ]
  },
  {
   "cell_type": "code",
   "execution_count": 72,
   "id": "1728e538",
   "metadata": {
    "ExecuteTime": {
     "end_time": "2022-02-17T05:52:42.081506Z",
     "start_time": "2022-02-17T05:52:42.063809Z"
    }
   },
   "outputs": [],
   "source": [
    "smote_count = SMOTE(k_neighbors=3)\n",
    "X_train_resampled_count, y_train_resampled_count = smote_count.fit_resample(X_count_vectorized, y_train)"
   ]
  },
  {
   "cell_type": "code",
   "execution_count": 73,
   "id": "897b0959",
   "metadata": {
    "ExecuteTime": {
     "end_time": "2022-02-17T05:52:46.246041Z",
     "start_time": "2022-02-17T05:52:42.259477Z"
    }
   },
   "outputs": [
    {
     "data": {
      "text/plain": [
       "array([0.61899563, 0.96939891, 0.96721311, 0.98579235, 0.9704918 ])"
      ]
     },
     "execution_count": 73,
     "metadata": {},
     "output_type": "execute_result"
    }
   ],
   "source": [
    "clf_count = svm.SVC()\n",
    "clf_count.fit(X_train_resampled_count, y_train_resampled_count)\n",
    "clf_count_cv = cross_val_score(clf_count, X_train_resampled_count, y_train_resampled_count)\n",
    "clf_count_cv"
   ]
  },
  {
   "cell_type": "code",
   "execution_count": 74,
   "id": "a12993f5",
   "metadata": {
    "ExecuteTime": {
     "end_time": "2022-02-17T05:52:46.250720Z",
     "start_time": "2022-02-17T05:52:46.247925Z"
    }
   },
   "outputs": [
    {
     "name": "stdout",
     "output_type": "stream",
     "text": [
      "SVM Count:    0.9023783616102323\n"
     ]
    }
   ],
   "source": [
    "print(\"SVM Count:   \", clf_count_cv.mean())"
   ]
  },
  {
   "cell_type": "code",
   "execution_count": 75,
   "id": "2d11db11",
   "metadata": {
    "ExecuteTime": {
     "end_time": "2022-02-17T05:52:46.377900Z",
     "start_time": "2022-02-17T05:52:46.252123Z"
    }
   },
   "outputs": [
    {
     "name": "stdout",
     "output_type": "stream",
     "text": [
      "              precision    recall  f1-score   support\n",
      "\n",
      "           0       0.48      0.40      0.44       102\n",
      "           1       0.90      0.92      0.91       581\n",
      "\n",
      "    accuracy                           0.85       683\n",
      "   macro avg       0.69      0.66      0.67       683\n",
      "weighted avg       0.84      0.85      0.84       683\n",
      "\n"
     ]
    }
   ],
   "source": [
    "X_test_vectorized_count = count.transform(X_test['regex_text'])\n",
    "\n",
    "SVM_count_preds = clf_count.predict(X_test_vectorized_count)\n",
    "\n",
    "print(classification_report(y_test, SVM_count_preds))"
   ]
  },
  {
   "cell_type": "code",
   "execution_count": 76,
   "id": "f9f546e0",
   "metadata": {
    "ExecuteTime": {
     "end_time": "2022-02-17T05:52:46.596680Z",
     "start_time": "2022-02-17T05:52:46.380739Z"
    }
   },
   "outputs": [
    {
     "name": "stderr",
     "output_type": "stream",
     "text": [
      "/Users/patrick/opt/anaconda3/lib/python3.9/site-packages/sklearn/utils/deprecation.py:87: FutureWarning: Function plot_confusion_matrix is deprecated; Function `plot_confusion_matrix` is deprecated in 1.0 and will be removed in 1.2. Use one of the class methods: ConfusionMatrixDisplay.from_predictions or ConfusionMatrixDisplay.from_estimator.\n",
      "  warnings.warn(msg, category=FutureWarning)\n"
     ]
    },
    {
     "data": {
      "image/png": "[encoded data removed]",
      "text/plain": [
       "<Figure size 432x288 with 2 Axes>"
      ]
     },
     "metadata": {
      "needs_background": "light"
     },
     "output_type": "display_data"
    }
   ],
   "source": [
    "plot_confusion_matrix(clf_count, X_test_vectorized_count, y_test, cmap=plt.cm.Oranges)\n",
    "plt.grid(False)\n",
    "plt.show()"
   ]
  },
  {
   "cell_type": "code",
   "execution_count": null,
   "id": "d0297a6f",
   "metadata": {},
   "outputs": [],
   "source": []
  },
  {
   "cell_type": "code",
   "execution_count": null,
   "id": "00769573",
   "metadata": {},
   "outputs": [],
   "source": []
  },
  {
   "cell_type": "code",
   "execution_count": 91,
   "id": "0e0b571b",
   "metadata": {
    "ExecuteTime": {
     "end_time": "2022-02-17T08:12:34.152991Z",
     "start_time": "2022-02-17T08:12:34.111113Z"
    }
   },
   "outputs": [],
   "source": [
    "count_text = CountVectorizer()\n",
    "X_count_vectorized_text = count.fit_transform(X_train['lemmed_text'])"
   ]
  },
  {
   "cell_type": "code",
   "execution_count": 96,
   "id": "f221df36",
   "metadata": {
    "ExecuteTime": {
     "end_time": "2022-02-17T08:12:57.592015Z",
     "start_time": "2022-02-17T08:12:57.573696Z"
    }
   },
   "outputs": [],
   "source": [
    "smote_count_text = SMOTE(k_neighbors=3)\n",
    "X_train_resampled_count_text, y_train_resampled_count_text = smote_count_text.fit_resample(X_count_vectorized_text, y_train)"
   ]
  },
  {
   "cell_type": "code",
   "execution_count": 97,
   "id": "f9c932c2",
   "metadata": {
    "ExecuteTime": {
     "end_time": "2022-02-17T08:12:59.088520Z",
     "start_time": "2022-02-17T08:12:58.761756Z"
    }
   },
   "outputs": [
    {
     "data": {
      "text/plain": [
       "array([0.64956332, 0.6579235 , 0.64480874, 0.66885246, 0.66120219])"
      ]
     },
     "execution_count": 97,
     "metadata": {},
     "output_type": "execute_result"
    }
   ],
   "source": [
    "knn_3 = KNeighborsClassifier(n_neighbors=3)\n",
    "knn_3.fit(X_train_resampled_count_text, y_train_resampled_count_text)\n",
    "\n",
    "knn_3_cv = cross_val_score(knn_3, X_train_resampled_count_text, y_train_resampled_count_text)\n",
    "knn_3_cv"
   ]
  },
  {
   "cell_type": "code",
   "execution_count": null,
   "id": "fd41d367",
   "metadata": {},
   "outputs": [],
   "source": []
  },
  {
   "cell_type": "code",
   "execution_count": null,
   "id": "7c943f61",
   "metadata": {},
   "outputs": [],
   "source": []
  },
  {
   "cell_type": "code",
   "execution_count": null,
   "id": "3957a9d5",
   "metadata": {},
   "outputs": [],
   "source": []
  },
  {
   "cell_type": "code",
   "execution_count": null,
   "id": "334bdf7a",
   "metadata": {},
   "outputs": [],
   "source": []
  },
  {
   "cell_type": "code",
   "execution_count": null,
   "id": "c9ef5ca5",
   "metadata": {},
   "outputs": [],
   "source": []
  },
  {
   "cell_type": "code",
   "execution_count": null,
   "id": "59e5783c",
   "metadata": {},
   "outputs": [],
   "source": []
  },
  {
   "cell_type": "code",
   "execution_count": null,
   "id": "8e3f095f",
   "metadata": {},
   "outputs": [],
   "source": []
  },
  {
   "cell_type": "code",
   "execution_count": null,
   "id": "d45b6434",
   "metadata": {},
   "outputs": [],
   "source": []
  },
  {
   "cell_type": "code",
   "execution_count": null,
   "id": "bf2b2d71",
   "metadata": {},
   "outputs": [],
   "source": []
  },
  {
   "cell_type": "code",
   "execution_count": null,
   "id": "26fa3421",
   "metadata": {},
   "outputs": [],
   "source": []
  },
  {
   "cell_type": "code",
   "execution_count": null,
   "id": "8f742be2",
   "metadata": {},
   "outputs": [],
   "source": []
  },
  {
   "cell_type": "code",
   "execution_count": null,
   "id": "5aba2ffb",
   "metadata": {},
   "outputs": [],
   "source": []
  },
  {
   "cell_type": "code",
   "execution_count": null,
   "id": "ebb74f8c",
   "metadata": {},
   "outputs": [],
   "source": []
  },
  {
   "cell_type": "code",
   "execution_count": null,
   "id": "9b761ab6",
   "metadata": {},
   "outputs": [],
   "source": []
  },
  {
   "cell_type": "code",
   "execution_count": null,
   "id": "174ca8f1",
   "metadata": {},
   "outputs": [],
   "source": []
  }
 ],
 "metadata": {
  "hide_input": false,
  "kernelspec": {
   "display_name": "Python 3 (ipykernel)",
   "language": "python",
   "name": "python3"
  },
  "language_info": {
   "codemirror_mode": {
    "name": "ipython",
    "version": 3
   },
   "file_extension": ".py",
   "mimetype": "text/x-python",
   "name": "python",
   "nbconvert_exporter": "python",
   "pygments_lexer": "ipython3",
   "version": "3.9.7"
  }
 },
 "nbformat": 4,
 "nbformat_minor": 5
}
