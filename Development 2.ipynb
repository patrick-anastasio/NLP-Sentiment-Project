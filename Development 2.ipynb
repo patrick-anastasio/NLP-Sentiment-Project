{
 "cells": [
  {
   "cell_type": "code",
   "execution_count": 29,
   "id": "58d2916b",
   "metadata": {
    "ExecuteTime": {
     "end_time": "2022-02-16T20:52:55.390865Z",
     "start_time": "2022-02-16T20:52:55.379467Z"
    }
   },
   "outputs": [],
   "source": [
    "import pandas as pd\n",
    "import numpy as np\n",
    "from mpl_toolkits.mplot3d import Axes3D\n",
    "import matplotlib.pyplot as plt\n",
    "%matplotlib inline\n",
    "from sklearn.utils import class_weight\n",
    "from sklearn.model_selection import train_test_split\n",
    "from sklearn.feature_extraction.text import TfidfVectorizer\n",
    "from sklearn.naive_bayes import MultinomialNB\n",
    "from sklearn.model_selection import cross_val_score\n",
    "from sklearn.manifold import TSNE\n",
    "from nltk.tokenize import word_tokenize\n",
    "from nltk.tokenize import RegexpTokenizer\n",
    "from imblearn.over_sampling import SMOTE\n",
    "import string\n",
    "from nltk import FreqDist\n",
    "from nltk.corpus import stopwords\n"
   ]
  },
  {
   "cell_type": "code",
   "execution_count": 30,
   "id": "9d9b5470",
   "metadata": {
    "ExecuteTime": {
     "end_time": "2022-02-16T20:52:55.642000Z",
     "start_time": "2022-02-16T20:52:55.613441Z"
    }
   },
   "outputs": [
    {
     "data": {
      "text/html": [
       "<div>\n",
       "<style scoped>\n",
       "    .dataframe tbody tr th:only-of-type {\n",
       "        vertical-align: middle;\n",
       "    }\n",
       "\n",
       "    .dataframe tbody tr th {\n",
       "        vertical-align: top;\n",
       "    }\n",
       "\n",
       "    .dataframe thead th {\n",
       "        text-align: right;\n",
       "    }\n",
       "</style>\n",
       "<table border=\"1\" class=\"dataframe\">\n",
       "  <thead>\n",
       "    <tr style=\"text-align: right;\">\n",
       "      <th></th>\n",
       "      <th>tweet_text</th>\n",
       "      <th>emotion_in_tweet_is_directed_at</th>\n",
       "      <th>is_there_an_emotion_directed_at_a_brand_or_product</th>\n",
       "    </tr>\n",
       "  </thead>\n",
       "  <tbody>\n",
       "    <tr>\n",
       "      <th>0</th>\n",
       "      <td>.@wesley83 I have a 3G iPhone. After 3 hrs twe...</td>\n",
       "      <td>iPhone</td>\n",
       "      <td>Negative emotion</td>\n",
       "    </tr>\n",
       "    <tr>\n",
       "      <th>1</th>\n",
       "      <td>@jessedee Know about @fludapp ? Awesome iPad/i...</td>\n",
       "      <td>iPad or iPhone App</td>\n",
       "      <td>Positive emotion</td>\n",
       "    </tr>\n",
       "    <tr>\n",
       "      <th>2</th>\n",
       "      <td>@swonderlin Can not wait for #iPad 2 also. The...</td>\n",
       "      <td>iPad</td>\n",
       "      <td>Positive emotion</td>\n",
       "    </tr>\n",
       "    <tr>\n",
       "      <th>3</th>\n",
       "      <td>@sxsw I hope this year's festival isn't as cra...</td>\n",
       "      <td>iPad or iPhone App</td>\n",
       "      <td>Negative emotion</td>\n",
       "    </tr>\n",
       "    <tr>\n",
       "      <th>4</th>\n",
       "      <td>@sxtxstate great stuff on Fri #SXSW: Marissa M...</td>\n",
       "      <td>Google</td>\n",
       "      <td>Positive emotion</td>\n",
       "    </tr>\n",
       "    <tr>\n",
       "      <th>...</th>\n",
       "      <td>...</td>\n",
       "      <td>...</td>\n",
       "      <td>...</td>\n",
       "    </tr>\n",
       "    <tr>\n",
       "      <th>8709</th>\n",
       "      <td>Diller says Google TV &amp;quot;might be run over ...</td>\n",
       "      <td>Other Google product or service</td>\n",
       "      <td>Negative emotion</td>\n",
       "    </tr>\n",
       "    <tr>\n",
       "      <th>8710</th>\n",
       "      <td>Google says reports about launch of Circles so...</td>\n",
       "      <td>NaN</td>\n",
       "      <td>No emotion toward brand or product</td>\n",
       "    </tr>\n",
       "    <tr>\n",
       "      <th>8711</th>\n",
       "      <td>Google says the future is all around you! (ie,...</td>\n",
       "      <td>NaN</td>\n",
       "      <td>No emotion toward brand or product</td>\n",
       "    </tr>\n",
       "    <tr>\n",
       "      <th>8712</th>\n",
       "      <td>Google says the future is location, location, ...</td>\n",
       "      <td>NaN</td>\n",
       "      <td>No emotion toward brand or product</td>\n",
       "    </tr>\n",
       "    <tr>\n",
       "      <th>8713</th>\n",
       "      <td>I've always used Camera+ for my iPhone b/c it ...</td>\n",
       "      <td>iPad or iPhone App</td>\n",
       "      <td>Positive emotion</td>\n",
       "    </tr>\n",
       "  </tbody>\n",
       "</table>\n",
       "<p>8714 rows × 3 columns</p>\n",
       "</div>"
      ],
      "text/plain": [
       "                                             tweet_text  \\\n",
       "0     .@wesley83 I have a 3G iPhone. After 3 hrs twe...   \n",
       "1     @jessedee Know about @fludapp ? Awesome iPad/i...   \n",
       "2     @swonderlin Can not wait for #iPad 2 also. The...   \n",
       "3     @sxsw I hope this year's festival isn't as cra...   \n",
       "4     @sxtxstate great stuff on Fri #SXSW: Marissa M...   \n",
       "...                                                 ...   \n",
       "8709  Diller says Google TV &quot;might be run over ...   \n",
       "8710  Google says reports about launch of Circles so...   \n",
       "8711  Google says the future is all around you! (ie,...   \n",
       "8712  Google says the future is location, location, ...   \n",
       "8713  I've always used Camera+ for my iPhone b/c it ...   \n",
       "\n",
       "      emotion_in_tweet_is_directed_at  \\\n",
       "0                              iPhone   \n",
       "1                  iPad or iPhone App   \n",
       "2                                iPad   \n",
       "3                  iPad or iPhone App   \n",
       "4                              Google   \n",
       "...                               ...   \n",
       "8709  Other Google product or service   \n",
       "8710                              NaN   \n",
       "8711                              NaN   \n",
       "8712                              NaN   \n",
       "8713               iPad or iPhone App   \n",
       "\n",
       "     is_there_an_emotion_directed_at_a_brand_or_product  \n",
       "0                                      Negative emotion  \n",
       "1                                      Positive emotion  \n",
       "2                                      Positive emotion  \n",
       "3                                      Negative emotion  \n",
       "4                                      Positive emotion  \n",
       "...                                                 ...  \n",
       "8709                                   Negative emotion  \n",
       "8710                 No emotion toward brand or product  \n",
       "8711                 No emotion toward brand or product  \n",
       "8712                 No emotion toward brand or product  \n",
       "8713                                   Positive emotion  \n",
       "\n",
       "[8714 rows x 3 columns]"
      ]
     },
     "execution_count": 30,
     "metadata": {},
     "output_type": "execute_result"
    }
   ],
   "source": [
    "df = pd.read_csv('data/judge_1377884607_tweet_product_company.csv')\n",
    "df.head(-7)"
   ]
  },
  {
   "cell_type": "code",
   "execution_count": 31,
   "id": "dcde722f",
   "metadata": {
    "ExecuteTime": {
     "end_time": "2022-02-16T20:52:55.826422Z",
     "start_time": "2022-02-16T20:52:55.813215Z"
    }
   },
   "outputs": [
    {
     "name": "stdout",
     "output_type": "stream",
     "text": [
      "<class 'pandas.core.frame.DataFrame'>\n",
      "RangeIndex: 8721 entries, 0 to 8720\n",
      "Data columns (total 3 columns):\n",
      " #   Column                                              Non-Null Count  Dtype \n",
      "---  ------                                              --------------  ----- \n",
      " 0   tweet_text                                          8720 non-null   object\n",
      " 1   emotion_in_tweet_is_directed_at                     3169 non-null   object\n",
      " 2   is_there_an_emotion_directed_at_a_brand_or_product  8721 non-null   object\n",
      "dtypes: object(3)\n",
      "memory usage: 204.5+ KB\n"
     ]
    }
   ],
   "source": [
    "df.info()"
   ]
  },
  {
   "cell_type": "code",
   "execution_count": 32,
   "id": "d3752c8d",
   "metadata": {
    "ExecuteTime": {
     "end_time": "2022-02-16T20:52:56.041172Z",
     "start_time": "2022-02-16T20:52:56.036626Z"
    }
   },
   "outputs": [
    {
     "data": {
      "text/plain": [
       "Index(['tweet_text', 'emotion_in_tweet_is_directed_at',\n",
       "       'is_there_an_emotion_directed_at_a_brand_or_product'],\n",
       "      dtype='object')"
      ]
     },
     "execution_count": 32,
     "metadata": {},
     "output_type": "execute_result"
    }
   ],
   "source": [
    "df.columns"
   ]
  },
  {
   "cell_type": "code",
   "execution_count": 33,
   "id": "f80cc2fe",
   "metadata": {
    "ExecuteTime": {
     "end_time": "2022-02-16T20:52:56.266452Z",
     "start_time": "2022-02-16T20:52:56.260033Z"
    }
   },
   "outputs": [
    {
     "data": {
      "text/plain": [
       "iPad                               910\n",
       "Apple                              640\n",
       "iPad or iPhone App                 451\n",
       "Google                             412\n",
       "iPhone                             288\n",
       "Other Google product or service    282\n",
       "Android App                         78\n",
       "Android                             74\n",
       "Other Apple product or service      34\n",
       "Name: emotion_in_tweet_is_directed_at, dtype: int64"
      ]
     },
     "execution_count": 33,
     "metadata": {},
     "output_type": "execute_result"
    }
   ],
   "source": [
    "df.emotion_in_tweet_is_directed_at.value_counts()"
   ]
  },
  {
   "cell_type": "code",
   "execution_count": 34,
   "id": "e8875df9",
   "metadata": {
    "ExecuteTime": {
     "end_time": "2022-02-16T20:52:56.503200Z",
     "start_time": "2022-02-16T20:52:56.495538Z"
    }
   },
   "outputs": [
    {
     "data": {
      "text/plain": [
       "No emotion toward brand or product    5156\n",
       "Positive emotion                      2869\n",
       "Negative emotion                       545\n",
       "I can't tell                           151\n",
       "Name: is_there_an_emotion_directed_at_a_brand_or_product, dtype: int64"
      ]
     },
     "execution_count": 34,
     "metadata": {},
     "output_type": "execute_result"
    }
   ],
   "source": [
    "df.is_there_an_emotion_directed_at_a_brand_or_product.value_counts()"
   ]
  },
  {
   "cell_type": "code",
   "execution_count": 35,
   "id": "ea75da00",
   "metadata": {
    "ExecuteTime": {
     "end_time": "2022-02-16T20:52:56.734490Z",
     "start_time": "2022-02-16T20:52:56.729758Z"
    }
   },
   "outputs": [],
   "source": [
    "pos_neg = df[df['is_there_an_emotion_directed_at_a_brand_or_product'] != \"I can't tell\"]"
   ]
  },
  {
   "cell_type": "code",
   "execution_count": 36,
   "id": "62dba37e",
   "metadata": {
    "ExecuteTime": {
     "end_time": "2022-02-16T20:52:57.183207Z",
     "start_time": "2022-02-16T20:52:57.177882Z"
    }
   },
   "outputs": [],
   "source": [
    "pos_neg = pos_neg[pos_neg['is_there_an_emotion_directed_at_a_brand_or_product'] != \"No emotion toward brand or product\"]"
   ]
  },
  {
   "cell_type": "markdown",
   "id": "a907583e",
   "metadata": {},
   "source": [
    "### Heavily imbalanced datset"
   ]
  },
  {
   "cell_type": "code",
   "execution_count": 37,
   "id": "b59557a0",
   "metadata": {
    "ExecuteTime": {
     "end_time": "2022-02-16T20:53:07.139021Z",
     "start_time": "2022-02-16T20:53:07.130199Z"
    }
   },
   "outputs": [
    {
     "data": {
      "text/plain": [
       "Positive emotion    0.840363\n",
       "Negative emotion    0.159637\n",
       "Name: is_there_an_emotion_directed_at_a_brand_or_product, dtype: float64"
      ]
     },
     "execution_count": 37,
     "metadata": {},
     "output_type": "execute_result"
    }
   ],
   "source": [
    "pos_neg.is_there_an_emotion_directed_at_a_brand_or_product.value_counts(normalize=True)"
   ]
  },
  {
   "cell_type": "code",
   "execution_count": null,
   "id": "184221a6",
   "metadata": {},
   "outputs": [],
   "source": []
  },
  {
   "cell_type": "markdown",
   "id": "ad518bbc",
   "metadata": {},
   "source": [
    "### More Data Cleaning"
   ]
  },
  {
   "cell_type": "code",
   "execution_count": 38,
   "id": "d502b1f9",
   "metadata": {
    "ExecuteTime": {
     "end_time": "2022-02-16T20:53:15.870441Z",
     "start_time": "2022-02-16T20:53:15.858133Z"
    }
   },
   "outputs": [
    {
     "data": {
      "text/html": [
       "<div>\n",
       "<style scoped>\n",
       "    .dataframe tbody tr th:only-of-type {\n",
       "        vertical-align: middle;\n",
       "    }\n",
       "\n",
       "    .dataframe tbody tr th {\n",
       "        vertical-align: top;\n",
       "    }\n",
       "\n",
       "    .dataframe thead th {\n",
       "        text-align: right;\n",
       "    }\n",
       "</style>\n",
       "<table border=\"1\" class=\"dataframe\">\n",
       "  <thead>\n",
       "    <tr style=\"text-align: right;\">\n",
       "      <th></th>\n",
       "      <th>text</th>\n",
       "      <th>target</th>\n",
       "    </tr>\n",
       "  </thead>\n",
       "  <tbody>\n",
       "    <tr>\n",
       "      <th>0</th>\n",
       "      <td>.@wesley83 I have a 3G iPhone. After 3 hrs twe...</td>\n",
       "      <td>Negative emotion</td>\n",
       "    </tr>\n",
       "    <tr>\n",
       "      <th>1</th>\n",
       "      <td>@jessedee Know about @fludapp ? Awesome iPad/i...</td>\n",
       "      <td>Positive emotion</td>\n",
       "    </tr>\n",
       "    <tr>\n",
       "      <th>2</th>\n",
       "      <td>@swonderlin Can not wait for #iPad 2 also. The...</td>\n",
       "      <td>Positive emotion</td>\n",
       "    </tr>\n",
       "    <tr>\n",
       "      <th>3</th>\n",
       "      <td>@sxsw I hope this year's festival isn't as cra...</td>\n",
       "      <td>Negative emotion</td>\n",
       "    </tr>\n",
       "    <tr>\n",
       "      <th>4</th>\n",
       "      <td>@sxtxstate great stuff on Fri #SXSW: Marissa M...</td>\n",
       "      <td>Positive emotion</td>\n",
       "    </tr>\n",
       "  </tbody>\n",
       "</table>\n",
       "</div>"
      ],
      "text/plain": [
       "                                                text            target\n",
       "0  .@wesley83 I have a 3G iPhone. After 3 hrs twe...  Negative emotion\n",
       "1  @jessedee Know about @fludapp ? Awesome iPad/i...  Positive emotion\n",
       "2  @swonderlin Can not wait for #iPad 2 also. The...  Positive emotion\n",
       "3  @sxsw I hope this year's festival isn't as cra...  Negative emotion\n",
       "4  @sxtxstate great stuff on Fri #SXSW: Marissa M...  Positive emotion"
      ]
     },
     "execution_count": 38,
     "metadata": {},
     "output_type": "execute_result"
    }
   ],
   "source": [
    "pos_neg = pos_neg.drop('emotion_in_tweet_is_directed_at', axis=1)\n",
    "pos_neg = pos_neg.rename(columns={'tweet_text':'text', 'is_there_an_emotion_directed_at_a_brand_or_product':'target'})\n",
    "pos_neg.head()"
   ]
  },
  {
   "cell_type": "code",
   "execution_count": 39,
   "id": "251b9b32",
   "metadata": {
    "ExecuteTime": {
     "end_time": "2022-02-16T20:53:16.282732Z",
     "start_time": "2022-02-16T20:53:16.277925Z"
    }
   },
   "outputs": [],
   "source": [
    "def remove_ats_and_hashtags(text):\n",
    "    entity_prefixes = ['@','#','�']\n",
    "    for separator in  string.punctuation:\n",
    "        if separator not in entity_prefixes :\n",
    "            text = text.replace(separator,' ')\n",
    "    words = []\n",
    "    for word in text.split():\n",
    "        word = word.strip()\n",
    "        if word:\n",
    "            if word[0] not in entity_prefixes:\n",
    "                words.append(word)\n",
    "    return ' '.join(words)"
   ]
  },
  {
   "cell_type": "code",
   "execution_count": 40,
   "id": "f97bc47a",
   "metadata": {
    "ExecuteTime": {
     "end_time": "2022-02-16T20:53:16.858415Z",
     "start_time": "2022-02-16T20:53:16.797146Z"
    }
   },
   "outputs": [],
   "source": [
    "pos_neg['text'] = pos_neg['text'].map(remove_ats_and_hashtags)"
   ]
  },
  {
   "cell_type": "code",
   "execution_count": 41,
   "id": "2d986ce3",
   "metadata": {
    "ExecuteTime": {
     "end_time": "2022-02-16T20:53:17.245206Z",
     "start_time": "2022-02-16T20:53:17.239718Z"
    }
   },
   "outputs": [],
   "source": [
    "pos_neg.replace({'Negative emotion' : 0, 'Positive emotion' : 1}, inplace=True)"
   ]
  },
  {
   "cell_type": "code",
   "execution_count": 42,
   "id": "e69a704d",
   "metadata": {
    "ExecuteTime": {
     "end_time": "2022-02-16T20:53:17.701121Z",
     "start_time": "2022-02-16T20:53:17.696002Z"
    }
   },
   "outputs": [],
   "source": [
    "pos_neg['text'] = pos_neg['text'].str.lower()"
   ]
  },
  {
   "cell_type": "code",
   "execution_count": 43,
   "id": "c808ff8d",
   "metadata": {
    "ExecuteTime": {
     "end_time": "2022-02-16T20:53:18.309076Z",
     "start_time": "2022-02-16T20:53:18.298974Z"
    }
   },
   "outputs": [
    {
     "data": {
      "text/html": [
       "<div>\n",
       "<style scoped>\n",
       "    .dataframe tbody tr th:only-of-type {\n",
       "        vertical-align: middle;\n",
       "    }\n",
       "\n",
       "    .dataframe tbody tr th {\n",
       "        vertical-align: top;\n",
       "    }\n",
       "\n",
       "    .dataframe thead th {\n",
       "        text-align: right;\n",
       "    }\n",
       "</style>\n",
       "<table border=\"1\" class=\"dataframe\">\n",
       "  <thead>\n",
       "    <tr style=\"text-align: right;\">\n",
       "      <th></th>\n",
       "      <th>text</th>\n",
       "      <th>target</th>\n",
       "    </tr>\n",
       "  </thead>\n",
       "  <tbody>\n",
       "    <tr>\n",
       "      <th>0</th>\n",
       "      <td>i have a 3g iphone after 3 hrs tweeting at aus...</td>\n",
       "      <td>0</td>\n",
       "    </tr>\n",
       "    <tr>\n",
       "      <th>1</th>\n",
       "      <td>know about awesome ipad iphone app that you ll...</td>\n",
       "      <td>1</td>\n",
       "    </tr>\n",
       "    <tr>\n",
       "      <th>2</th>\n",
       "      <td>can not wait for 2 also they should sale them ...</td>\n",
       "      <td>1</td>\n",
       "    </tr>\n",
       "    <tr>\n",
       "      <th>3</th>\n",
       "      <td>i hope this year s festival isn t as crashy as...</td>\n",
       "      <td>0</td>\n",
       "    </tr>\n",
       "    <tr>\n",
       "      <th>4</th>\n",
       "      <td>great stuff on fri marissa mayer google tim o ...</td>\n",
       "      <td>1</td>\n",
       "    </tr>\n",
       "  </tbody>\n",
       "</table>\n",
       "</div>"
      ],
      "text/plain": [
       "                                                text  target\n",
       "0  i have a 3g iphone after 3 hrs tweeting at aus...       0\n",
       "1  know about awesome ipad iphone app that you ll...       1\n",
       "2  can not wait for 2 also they should sale them ...       1\n",
       "3  i hope this year s festival isn t as crashy as...       0\n",
       "4  great stuff on fri marissa mayer google tim o ...       1"
      ]
     },
     "execution_count": 43,
     "metadata": {},
     "output_type": "execute_result"
    }
   ],
   "source": [
    "pos_neg.head()"
   ]
  },
  {
   "cell_type": "code",
   "execution_count": 44,
   "id": "118516c5",
   "metadata": {
    "ExecuteTime": {
     "end_time": "2022-02-16T20:53:18.830544Z",
     "start_time": "2022-02-16T20:53:18.825551Z"
    }
   },
   "outputs": [],
   "source": [
    "X = pos_neg.drop(['target'], axis=1)\n",
    "y = pos_neg['target']"
   ]
  },
  {
   "cell_type": "code",
   "execution_count": 45,
   "id": "a09de083",
   "metadata": {
    "ExecuteTime": {
     "end_time": "2022-02-16T20:53:19.286462Z",
     "start_time": "2022-02-16T20:53:19.278464Z"
    }
   },
   "outputs": [],
   "source": [
    "X_train , X_test, y_train, y_test = train_test_split(X, y, test_size=0.2, stratify=y)"
   ]
  },
  {
   "cell_type": "code",
   "execution_count": 46,
   "id": "a0add9c6",
   "metadata": {
    "ExecuteTime": {
     "end_time": "2022-02-16T20:53:19.647778Z",
     "start_time": "2022-02-16T20:53:19.641093Z"
    }
   },
   "outputs": [
    {
     "data": {
      "text/plain": [
       "1    0.840352\n",
       "0    0.159648\n",
       "Name: target, dtype: float64"
      ]
     },
     "execution_count": 46,
     "metadata": {},
     "output_type": "execute_result"
    }
   ],
   "source": [
    "y_train.value_counts(normalize=True)"
   ]
  },
  {
   "cell_type": "markdown",
   "id": "4989dc8c",
   "metadata": {},
   "source": [
    "### Exploring our Words"
   ]
  },
  {
   "cell_type": "code",
   "execution_count": 47,
   "id": "2f07e4d8",
   "metadata": {
    "ExecuteTime": {
     "end_time": "2022-02-16T20:54:01.740430Z",
     "start_time": "2022-02-16T20:54:01.416727Z"
    }
   },
   "outputs": [],
   "source": [
    "pos_neg['text_tokenized'] = pos_neg['text'].apply(word_tokenize)"
   ]
  },
  {
   "cell_type": "code",
   "execution_count": 48,
   "id": "65bfbd20",
   "metadata": {
    "ExecuteTime": {
     "end_time": "2022-02-16T20:54:01.914345Z",
     "start_time": "2022-02-16T20:54:01.877657Z"
    }
   },
   "outputs": [],
   "source": [
    "pos_neg_freq_dist = FreqDist(pos_neg['text_tokenized'].explode())"
   ]
  },
  {
   "cell_type": "code",
   "execution_count": 49,
   "id": "ccf33a44",
   "metadata": {
    "ExecuteTime": {
     "end_time": "2022-02-16T20:54:20.203943Z",
     "start_time": "2022-02-16T20:54:20.197216Z"
    }
   },
   "outputs": [],
   "source": [
    "def visualize_top_20(freq_dist, title):\n",
    "\n",
    "    # Extract data for plotting\n",
    "    top_20 = list(zip(*freq_dist.most_common(20)))\n",
    "    tokens = top_20[0]\n",
    "    counts = top_20[1]\n",
    "\n",
    "    # Set up plot and plot data\n",
    "    fig, ax = plt.subplots(figsize=(20,10))\n",
    "    ax.bar(tokens, counts)\n",
    "\n",
    "    # Customize plot appearance\n",
    "    ax.set_title(title)\n",
    "    ax.set_ylabel(\"Count\")\n",
    "#     ax.yaxis.set_major_locator(MaxNLocator(integer=True))\n",
    "    ax.tick_params(axis=\"x\", rotation=90)"
   ]
  },
  {
   "cell_type": "code",
   "execution_count": 50,
   "id": "b6cccb33",
   "metadata": {
    "ExecuteTime": {
     "end_time": "2022-02-16T20:54:21.061722Z",
     "start_time": "2022-02-16T20:54:20.869075Z"
    }
   },
   "outputs": [
    {
     "data": {
      "image/png": "[encoded data removed]",
      "text/plain": [
       "<Figure size 1440x720 with 1 Axes>"
      ]
     },
     "metadata": {
      "needs_background": "light"
     },
     "output_type": "display_data"
    }
   ],
   "source": [
    "visualize_top_20(pos_neg_freq_dist, \"Top 20 Word Frequency\")"
   ]
  },
  {
   "cell_type": "code",
   "execution_count": null,
   "id": "05b97a5b",
   "metadata": {},
   "outputs": [],
   "source": []
  },
  {
   "cell_type": "markdown",
   "id": "8c80625b",
   "metadata": {},
   "source": [
    "### Build a baseline"
   ]
  },
  {
   "cell_type": "code",
   "execution_count": 51,
   "id": "4b460e8c",
   "metadata": {
    "ExecuteTime": {
     "end_time": "2022-02-16T20:54:37.999938Z",
     "start_time": "2022-02-16T20:54:37.908532Z"
    }
   },
   "outputs": [
    {
     "name": "stderr",
     "output_type": "stream",
     "text": [
      "/Users/patrick/opt/anaconda3/lib/python3.9/site-packages/sklearn/utils/deprecation.py:87: FutureWarning: Function get_feature_names is deprecated; get_feature_names is deprecated in 1.0 and will be removed in 1.2. Please use get_feature_names_out instead.\n",
      "  warnings.warn(msg, category=FutureWarning)\n"
     ]
    },
    {
     "data": {
      "text/html": [
       "<div>\n",
       "<style scoped>\n",
       "    .dataframe tbody tr th:only-of-type {\n",
       "        vertical-align: middle;\n",
       "    }\n",
       "\n",
       "    .dataframe tbody tr th {\n",
       "        vertical-align: top;\n",
       "    }\n",
       "\n",
       "    .dataframe thead th {\n",
       "        text-align: right;\n",
       "    }\n",
       "</style>\n",
       "<table border=\"1\" class=\"dataframe\">\n",
       "  <thead>\n",
       "    <tr style=\"text-align: right;\">\n",
       "      <th></th>\n",
       "      <th>and</th>\n",
       "      <th>app</th>\n",
       "      <th>apple</th>\n",
       "      <th>at</th>\n",
       "      <th>for</th>\n",
       "      <th>google</th>\n",
       "      <th>in</th>\n",
       "      <th>ipad</th>\n",
       "      <th>iphone</th>\n",
       "      <th>is</th>\n",
       "      <th>it</th>\n",
       "      <th>link</th>\n",
       "      <th>of</th>\n",
       "      <th>on</th>\n",
       "      <th>quot</th>\n",
       "      <th>rt</th>\n",
       "      <th>store</th>\n",
       "      <th>the</th>\n",
       "      <th>to</th>\n",
       "      <th>up</th>\n",
       "    </tr>\n",
       "  </thead>\n",
       "  <tbody>\n",
       "    <tr>\n",
       "      <th>0</th>\n",
       "      <td>0.000000</td>\n",
       "      <td>0.0</td>\n",
       "      <td>0.000000</td>\n",
       "      <td>0.000000</td>\n",
       "      <td>0.473799</td>\n",
       "      <td>0.000000</td>\n",
       "      <td>0.522109</td>\n",
       "      <td>0.000000</td>\n",
       "      <td>0.546249</td>\n",
       "      <td>0.000000</td>\n",
       "      <td>0.000000</td>\n",
       "      <td>0.000000</td>\n",
       "      <td>0.000000</td>\n",
       "      <td>0.000000</td>\n",
       "      <td>0.000000</td>\n",
       "      <td>0.452249</td>\n",
       "      <td>0.000000</td>\n",
       "      <td>0.000000</td>\n",
       "      <td>0.000000</td>\n",
       "      <td>0.000000</td>\n",
       "    </tr>\n",
       "    <tr>\n",
       "      <th>1</th>\n",
       "      <td>0.000000</td>\n",
       "      <td>0.0</td>\n",
       "      <td>0.000000</td>\n",
       "      <td>0.000000</td>\n",
       "      <td>0.000000</td>\n",
       "      <td>0.000000</td>\n",
       "      <td>0.000000</td>\n",
       "      <td>0.402497</td>\n",
       "      <td>0.000000</td>\n",
       "      <td>0.000000</td>\n",
       "      <td>0.532125</td>\n",
       "      <td>0.371240</td>\n",
       "      <td>0.000000</td>\n",
       "      <td>0.546399</td>\n",
       "      <td>0.000000</td>\n",
       "      <td>0.000000</td>\n",
       "      <td>0.000000</td>\n",
       "      <td>0.344192</td>\n",
       "      <td>0.000000</td>\n",
       "      <td>0.000000</td>\n",
       "    </tr>\n",
       "    <tr>\n",
       "      <th>2</th>\n",
       "      <td>0.311664</td>\n",
       "      <td>0.0</td>\n",
       "      <td>0.000000</td>\n",
       "      <td>0.000000</td>\n",
       "      <td>0.000000</td>\n",
       "      <td>0.288072</td>\n",
       "      <td>0.000000</td>\n",
       "      <td>0.000000</td>\n",
       "      <td>0.000000</td>\n",
       "      <td>0.000000</td>\n",
       "      <td>0.000000</td>\n",
       "      <td>0.000000</td>\n",
       "      <td>0.000000</td>\n",
       "      <td>0.000000</td>\n",
       "      <td>0.799608</td>\n",
       "      <td>0.000000</td>\n",
       "      <td>0.000000</td>\n",
       "      <td>0.424862</td>\n",
       "      <td>0.000000</td>\n",
       "      <td>0.000000</td>\n",
       "    </tr>\n",
       "    <tr>\n",
       "      <th>3</th>\n",
       "      <td>0.296155</td>\n",
       "      <td>0.0</td>\n",
       "      <td>0.000000</td>\n",
       "      <td>0.000000</td>\n",
       "      <td>0.513751</td>\n",
       "      <td>0.000000</td>\n",
       "      <td>0.283067</td>\n",
       "      <td>0.236055</td>\n",
       "      <td>0.000000</td>\n",
       "      <td>0.000000</td>\n",
       "      <td>0.000000</td>\n",
       "      <td>0.000000</td>\n",
       "      <td>0.000000</td>\n",
       "      <td>0.000000</td>\n",
       "      <td>0.000000</td>\n",
       "      <td>0.000000</td>\n",
       "      <td>0.000000</td>\n",
       "      <td>0.201860</td>\n",
       "      <td>0.686845</td>\n",
       "      <td>0.000000</td>\n",
       "    </tr>\n",
       "    <tr>\n",
       "      <th>4</th>\n",
       "      <td>0.000000</td>\n",
       "      <td>0.0</td>\n",
       "      <td>0.000000</td>\n",
       "      <td>0.604820</td>\n",
       "      <td>0.653132</td>\n",
       "      <td>0.000000</td>\n",
       "      <td>0.000000</td>\n",
       "      <td>0.000000</td>\n",
       "      <td>0.376503</td>\n",
       "      <td>0.000000</td>\n",
       "      <td>0.000000</td>\n",
       "      <td>0.000000</td>\n",
       "      <td>0.000000</td>\n",
       "      <td>0.000000</td>\n",
       "      <td>0.000000</td>\n",
       "      <td>0.000000</td>\n",
       "      <td>0.000000</td>\n",
       "      <td>0.256626</td>\n",
       "      <td>0.000000</td>\n",
       "      <td>0.000000</td>\n",
       "    </tr>\n",
       "    <tr>\n",
       "      <th>...</th>\n",
       "      <td>...</td>\n",
       "      <td>...</td>\n",
       "      <td>...</td>\n",
       "      <td>...</td>\n",
       "      <td>...</td>\n",
       "      <td>...</td>\n",
       "      <td>...</td>\n",
       "      <td>...</td>\n",
       "      <td>...</td>\n",
       "      <td>...</td>\n",
       "      <td>...</td>\n",
       "      <td>...</td>\n",
       "      <td>...</td>\n",
       "      <td>...</td>\n",
       "      <td>...</td>\n",
       "      <td>...</td>\n",
       "      <td>...</td>\n",
       "      <td>...</td>\n",
       "      <td>...</td>\n",
       "      <td>...</td>\n",
       "    </tr>\n",
       "    <tr>\n",
       "      <th>2726</th>\n",
       "      <td>0.474229</td>\n",
       "      <td>0.0</td>\n",
       "      <td>0.000000</td>\n",
       "      <td>0.000000</td>\n",
       "      <td>0.000000</td>\n",
       "      <td>0.000000</td>\n",
       "      <td>0.000000</td>\n",
       "      <td>0.377992</td>\n",
       "      <td>0.000000</td>\n",
       "      <td>0.000000</td>\n",
       "      <td>0.000000</td>\n",
       "      <td>0.000000</td>\n",
       "      <td>0.463434</td>\n",
       "      <td>0.513132</td>\n",
       "      <td>0.000000</td>\n",
       "      <td>0.392623</td>\n",
       "      <td>0.000000</td>\n",
       "      <td>0.000000</td>\n",
       "      <td>0.000000</td>\n",
       "      <td>0.000000</td>\n",
       "    </tr>\n",
       "    <tr>\n",
       "      <th>2727</th>\n",
       "      <td>0.000000</td>\n",
       "      <td>0.0</td>\n",
       "      <td>0.319787</td>\n",
       "      <td>0.000000</td>\n",
       "      <td>0.306455</td>\n",
       "      <td>0.000000</td>\n",
       "      <td>0.337702</td>\n",
       "      <td>0.281616</td>\n",
       "      <td>0.000000</td>\n",
       "      <td>0.335119</td>\n",
       "      <td>0.000000</td>\n",
       "      <td>0.259746</td>\n",
       "      <td>0.000000</td>\n",
       "      <td>0.000000</td>\n",
       "      <td>0.000000</td>\n",
       "      <td>0.292517</td>\n",
       "      <td>0.368344</td>\n",
       "      <td>0.240822</td>\n",
       "      <td>0.000000</td>\n",
       "      <td>0.389179</td>\n",
       "    </tr>\n",
       "    <tr>\n",
       "      <th>2728</th>\n",
       "      <td>0.000000</td>\n",
       "      <td>0.0</td>\n",
       "      <td>0.000000</td>\n",
       "      <td>0.360166</td>\n",
       "      <td>0.777871</td>\n",
       "      <td>0.414466</td>\n",
       "      <td>0.000000</td>\n",
       "      <td>0.000000</td>\n",
       "      <td>0.000000</td>\n",
       "      <td>0.000000</td>\n",
       "      <td>0.000000</td>\n",
       "      <td>0.000000</td>\n",
       "      <td>0.000000</td>\n",
       "      <td>0.000000</td>\n",
       "      <td>0.000000</td>\n",
       "      <td>0.000000</td>\n",
       "      <td>0.000000</td>\n",
       "      <td>0.305637</td>\n",
       "      <td>0.000000</td>\n",
       "      <td>0.000000</td>\n",
       "    </tr>\n",
       "    <tr>\n",
       "      <th>2729</th>\n",
       "      <td>0.000000</td>\n",
       "      <td>0.0</td>\n",
       "      <td>0.000000</td>\n",
       "      <td>0.000000</td>\n",
       "      <td>0.000000</td>\n",
       "      <td>0.486320</td>\n",
       "      <td>0.000000</td>\n",
       "      <td>0.000000</td>\n",
       "      <td>0.000000</td>\n",
       "      <td>0.499048</td>\n",
       "      <td>0.000000</td>\n",
       "      <td>0.000000</td>\n",
       "      <td>0.000000</td>\n",
       "      <td>0.000000</td>\n",
       "      <td>0.000000</td>\n",
       "      <td>0.000000</td>\n",
       "      <td>0.000000</td>\n",
       "      <td>0.717248</td>\n",
       "      <td>0.000000</td>\n",
       "      <td>0.000000</td>\n",
       "    </tr>\n",
       "    <tr>\n",
       "      <th>2730</th>\n",
       "      <td>0.000000</td>\n",
       "      <td>0.0</td>\n",
       "      <td>0.423418</td>\n",
       "      <td>0.375750</td>\n",
       "      <td>0.000000</td>\n",
       "      <td>0.000000</td>\n",
       "      <td>0.000000</td>\n",
       "      <td>0.000000</td>\n",
       "      <td>0.467812</td>\n",
       "      <td>0.000000</td>\n",
       "      <td>0.000000</td>\n",
       "      <td>0.000000</td>\n",
       "      <td>0.457163</td>\n",
       "      <td>0.000000</td>\n",
       "      <td>0.000000</td>\n",
       "      <td>0.387310</td>\n",
       "      <td>0.000000</td>\n",
       "      <td>0.318862</td>\n",
       "      <td>0.000000</td>\n",
       "      <td>0.000000</td>\n",
       "    </tr>\n",
       "  </tbody>\n",
       "</table>\n",
       "<p>2731 rows × 20 columns</p>\n",
       "</div>"
      ],
      "text/plain": [
       "           and  app     apple        at       for    google        in  \\\n",
       "0     0.000000  0.0  0.000000  0.000000  0.473799  0.000000  0.522109   \n",
       "1     0.000000  0.0  0.000000  0.000000  0.000000  0.000000  0.000000   \n",
       "2     0.311664  0.0  0.000000  0.000000  0.000000  0.288072  0.000000   \n",
       "3     0.296155  0.0  0.000000  0.000000  0.513751  0.000000  0.283067   \n",
       "4     0.000000  0.0  0.000000  0.604820  0.653132  0.000000  0.000000   \n",
       "...        ...  ...       ...       ...       ...       ...       ...   \n",
       "2726  0.474229  0.0  0.000000  0.000000  0.000000  0.000000  0.000000   \n",
       "2727  0.000000  0.0  0.319787  0.000000  0.306455  0.000000  0.337702   \n",
       "2728  0.000000  0.0  0.000000  0.360166  0.777871  0.414466  0.000000   \n",
       "2729  0.000000  0.0  0.000000  0.000000  0.000000  0.486320  0.000000   \n",
       "2730  0.000000  0.0  0.423418  0.375750  0.000000  0.000000  0.000000   \n",
       "\n",
       "          ipad    iphone        is        it      link        of        on  \\\n",
       "0     0.000000  0.546249  0.000000  0.000000  0.000000  0.000000  0.000000   \n",
       "1     0.402497  0.000000  0.000000  0.532125  0.371240  0.000000  0.546399   \n",
       "2     0.000000  0.000000  0.000000  0.000000  0.000000  0.000000  0.000000   \n",
       "3     0.236055  0.000000  0.000000  0.000000  0.000000  0.000000  0.000000   \n",
       "4     0.000000  0.376503  0.000000  0.000000  0.000000  0.000000  0.000000   \n",
       "...        ...       ...       ...       ...       ...       ...       ...   \n",
       "2726  0.377992  0.000000  0.000000  0.000000  0.000000  0.463434  0.513132   \n",
       "2727  0.281616  0.000000  0.335119  0.000000  0.259746  0.000000  0.000000   \n",
       "2728  0.000000  0.000000  0.000000  0.000000  0.000000  0.000000  0.000000   \n",
       "2729  0.000000  0.000000  0.499048  0.000000  0.000000  0.000000  0.000000   \n",
       "2730  0.000000  0.467812  0.000000  0.000000  0.000000  0.457163  0.000000   \n",
       "\n",
       "          quot        rt     store       the        to        up  \n",
       "0     0.000000  0.452249  0.000000  0.000000  0.000000  0.000000  \n",
       "1     0.000000  0.000000  0.000000  0.344192  0.000000  0.000000  \n",
       "2     0.799608  0.000000  0.000000  0.424862  0.000000  0.000000  \n",
       "3     0.000000  0.000000  0.000000  0.201860  0.686845  0.000000  \n",
       "4     0.000000  0.000000  0.000000  0.256626  0.000000  0.000000  \n",
       "...        ...       ...       ...       ...       ...       ...  \n",
       "2726  0.000000  0.392623  0.000000  0.000000  0.000000  0.000000  \n",
       "2727  0.000000  0.292517  0.368344  0.240822  0.000000  0.389179  \n",
       "2728  0.000000  0.000000  0.000000  0.305637  0.000000  0.000000  \n",
       "2729  0.000000  0.000000  0.000000  0.717248  0.000000  0.000000  \n",
       "2730  0.000000  0.387310  0.000000  0.318862  0.000000  0.000000  \n",
       "\n",
       "[2731 rows x 20 columns]"
      ]
     },
     "execution_count": 51,
     "metadata": {},
     "output_type": "execute_result"
    }
   ],
   "source": [
    "tfidf = TfidfVectorizer(max_features=20)\n",
    "\n",
    "X_train_vectorized = tfidf.fit_transform(X_train['text'])\n",
    "\n",
    "pd.DataFrame.sparse.from_spmatrix(X_train_vectorized, columns=tfidf.get_feature_names())"
   ]
  },
  {
   "cell_type": "code",
   "execution_count": 52,
   "id": "62626604",
   "metadata": {
    "ExecuteTime": {
     "end_time": "2022-02-16T20:54:39.038131Z",
     "start_time": "2022-02-16T20:54:39.017011Z"
    }
   },
   "outputs": [],
   "source": [
    "smote = SMOTE(k_neighbors=5)\n",
    "X_train_resampled, y_train_resampled = smote.fit_resample(X_train_vectorized, y_train)"
   ]
  },
  {
   "cell_type": "code",
   "execution_count": 53,
   "id": "f3d4f012",
   "metadata": {
    "ExecuteTime": {
     "end_time": "2022-02-16T20:54:39.880972Z",
     "start_time": "2022-02-16T20:54:39.850971Z"
    }
   },
   "outputs": [
    {
     "data": {
      "text/plain": [
       "array([0.62636166, 0.65141612, 0.61873638, 0.63071895, 0.66557734])"
      ]
     },
     "execution_count": 53,
     "metadata": {},
     "output_type": "execute_result"
    }
   ],
   "source": [
    "# Instantiate a MultinomialNB classifier\n",
    "baseline_model = MultinomialNB()\n",
    "\n",
    "baseline_model.fit(X_train_resampled, y_train_resampled)\n",
    "\n",
    "# Evaluate the classifier on X_train_vectorized and y_train\n",
    "baseline_cv = cross_val_score(baseline_model, X_train_resampled, y_train_resampled)\n",
    "baseline_cv"
   ]
  },
  {
   "cell_type": "code",
   "execution_count": 54,
   "id": "b62380a7",
   "metadata": {
    "ExecuteTime": {
     "end_time": "2022-02-16T20:54:40.637543Z",
     "start_time": "2022-02-16T20:54:40.632529Z"
    }
   },
   "outputs": [
    {
     "name": "stdout",
     "output_type": "stream",
     "text": [
      "Baseline:          0.6385620915032679\n"
     ]
    }
   ],
   "source": [
    "print(\"Baseline:         \", baseline_cv.mean())"
   ]
  },
  {
   "cell_type": "code",
   "execution_count": null,
   "id": "574e4015",
   "metadata": {},
   "outputs": [],
   "source": []
  },
  {
   "cell_type": "markdown",
   "id": "965045d2",
   "metadata": {},
   "source": [
    "### Remove Stopwords"
   ]
  },
  {
   "cell_type": "code",
   "execution_count": null,
   "id": "ac26bc18",
   "metadata": {},
   "outputs": [],
   "source": [
    "stopwords_list = stopwords.words('english')\n",
    "stopwords_list += list(string.punctuation)\n",
    "new_stops = ('quot', 'rt', 'i')\n",
    "stopwords_list += list(new_stops)"
   ]
  },
  {
   "cell_type": "code",
   "execution_count": null,
   "id": "626b79e5",
   "metadata": {},
   "outputs": [],
   "source": [
    "def remove_stopwords(token_list):\n",
    "    \"\"\"\n",
    "    Given a list of tokens, return a list where the tokens\n",
    "    that are also present in stopwords_list have been\n",
    "    removed\n",
    "    \"\"\"\n",
    "    stops_rmv_list = [token for token in token_list if token not in stopwords_list]\n",
    "    return stops_rmv_list"
   ]
  },
  {
   "cell_type": "code",
   "execution_count": null,
   "id": "d855d56e",
   "metadata": {},
   "outputs": [],
   "source": []
  },
  {
   "cell_type": "code",
   "execution_count": null,
   "id": "20d297e8",
   "metadata": {},
   "outputs": [],
   "source": [
    "pattern = \"([a-z]{2,})\"\n",
    "regex_tokenizer = RegexpTokenizer(pattern)"
   ]
  },
  {
   "cell_type": "code",
   "execution_count": null,
   "id": "4bbcc98d",
   "metadata": {},
   "outputs": [],
   "source": [
    "X_train['text'] = [regex_tokenizer.tokenize(text) for text in X_train['text']]"
   ]
  },
  {
   "cell_type": "code",
   "execution_count": null,
   "id": "17f0290c",
   "metadata": {},
   "outputs": [],
   "source": []
  },
  {
   "cell_type": "code",
   "execution_count": null,
   "id": "c3ee8020",
   "metadata": {},
   "outputs": [],
   "source": []
  },
  {
   "cell_type": "code",
   "execution_count": null,
   "id": "e251482c",
   "metadata": {},
   "outputs": [],
   "source": []
  },
  {
   "cell_type": "code",
   "execution_count": null,
   "id": "6481b95d",
   "metadata": {},
   "outputs": [],
   "source": []
  },
  {
   "cell_type": "code",
   "execution_count": null,
   "id": "be1b51c2",
   "metadata": {},
   "outputs": [],
   "source": []
  },
  {
   "cell_type": "code",
   "execution_count": null,
   "id": "d5c5d502",
   "metadata": {},
   "outputs": [],
   "source": []
  },
  {
   "cell_type": "code",
   "execution_count": null,
   "id": "2d21f6f0",
   "metadata": {},
   "outputs": [],
   "source": []
  },
  {
   "cell_type": "code",
   "execution_count": null,
   "id": "86af03f0",
   "metadata": {},
   "outputs": [],
   "source": []
  },
  {
   "cell_type": "code",
   "execution_count": null,
   "id": "e4e45f73",
   "metadata": {},
   "outputs": [],
   "source": []
  },
  {
   "cell_type": "code",
   "execution_count": null,
   "id": "5513d375",
   "metadata": {},
   "outputs": [],
   "source": []
  },
  {
   "cell_type": "code",
   "execution_count": null,
   "id": "65b1f18b",
   "metadata": {},
   "outputs": [],
   "source": []
  },
  {
   "cell_type": "code",
   "execution_count": null,
   "id": "37770ec7",
   "metadata": {},
   "outputs": [],
   "source": []
  },
  {
   "cell_type": "code",
   "execution_count": null,
   "id": "12114ca2",
   "metadata": {},
   "outputs": [],
   "source": []
  },
  {
   "cell_type": "code",
   "execution_count": null,
   "id": "2ae7c336",
   "metadata": {},
   "outputs": [],
   "source": []
  },
  {
   "cell_type": "code",
   "execution_count": null,
   "id": "c460e405",
   "metadata": {},
   "outputs": [],
   "source": []
  },
  {
   "cell_type": "code",
   "execution_count": null,
   "id": "12fe28c7",
   "metadata": {},
   "outputs": [],
   "source": []
  },
  {
   "cell_type": "code",
   "execution_count": null,
   "id": "7038780d",
   "metadata": {},
   "outputs": [],
   "source": []
  },
  {
   "cell_type": "code",
   "execution_count": null,
   "id": "afdcac86",
   "metadata": {},
   "outputs": [],
   "source": []
  },
  {
   "cell_type": "code",
   "execution_count": null,
   "id": "6d7bd6eb",
   "metadata": {},
   "outputs": [],
   "source": []
  },
  {
   "cell_type": "code",
   "execution_count": null,
   "id": "cb4b1c51",
   "metadata": {},
   "outputs": [],
   "source": []
  },
  {
   "cell_type": "code",
   "execution_count": null,
   "id": "6a61b391",
   "metadata": {},
   "outputs": [],
   "source": []
  },
  {
   "cell_type": "code",
   "execution_count": null,
   "id": "5b4fed01",
   "metadata": {},
   "outputs": [],
   "source": []
  },
  {
   "cell_type": "code",
   "execution_count": null,
   "id": "e94d622a",
   "metadata": {},
   "outputs": [],
   "source": []
  },
  {
   "cell_type": "code",
   "execution_count": null,
   "id": "520d42f0",
   "metadata": {},
   "outputs": [],
   "source": []
  },
  {
   "cell_type": "code",
   "execution_count": null,
   "id": "02dd4a6b",
   "metadata": {},
   "outputs": [],
   "source": []
  },
  {
   "cell_type": "code",
   "execution_count": null,
   "id": "6b5b2792",
   "metadata": {},
   "outputs": [],
   "source": []
  }
 ],
 "metadata": {
  "hide_input": false,
  "kernelspec": {
   "display_name": "Python 3 (ipykernel)",
   "language": "python",
   "name": "python3"
  },
  "language_info": {
   "codemirror_mode": {
    "name": "ipython",
    "version": 3
   },
   "file_extension": ".py",
   "mimetype": "text/x-python",
   "name": "python",
   "nbconvert_exporter": "python",
   "pygments_lexer": "ipython3",
   "version": "3.9.7"
  }
 },
 "nbformat": 4,
 "nbformat_minor": 5
}
