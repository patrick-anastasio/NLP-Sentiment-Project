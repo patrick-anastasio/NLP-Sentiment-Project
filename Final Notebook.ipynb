{
 "cells": [
  {
   "cell_type": "markdown",
   "id": "56e226f1",
   "metadata": {},
   "source": [
    "# Gauging Sentiment of Emerging Apple and Google Technology on Twitter"
   ]
  },
  {
   "cell_type": "markdown",
   "id": "44f9b220",
   "metadata": {},
   "source": [
    "## Business Problem\n",
    "\n",
    "Gauging sentiment of a market sector, company, or product is very helpful to investment analysis. An invetment firm is analyszing emerging technology and would like a predictive model that can analyze text data to classify the sentiment; poitive or negative. Being able to gauge overall sentiment will help in analysis of the sector and help them strategically place investments in the market."
   ]
  },
  {
   "cell_type": "markdown",
   "id": "f9e88634",
   "metadata": {},
   "source": [
    "## Data Understanding\n",
    "\n",
    "The dataset consists of thousands of tweets from the SXSW festival pertaining to Apple and Google products. The tweets are labeled as positive, negative, no opinion, or \"I can't tell.\" We will analyze the data from a binary classification standpoint and only keep the positive and negative classes.\n",
    "\n",
    "The data is heavily imbalanced with positive tweets outnumbering the negative by a 6:1 ratio."
   ]
  },
  {
   "cell_type": "markdown",
   "id": "4ee170ac",
   "metadata": {},
   "source": [
    "## Methods\n",
    "\n",
    "Using NLP methods we will pre-process the data to get it ready for modeling.\n",
    "> 1. First, we will clean the data by removing stop words, punctuation and other pieces of text that do not add value to the analysis such as numbers, and twitter slang.\n",
    "> 2. Then we will tokenize he text with regular expressions\n",
    "> 3. Next we will both stem and lemmatize the text separatley so that we can train models on both and see which is better.\n",
    "> 4. Finally we will vectorize the text with both TF-IDF and Count vectorization ao that we again can see which will provide a better model.\n",
    "\n",
    "We will split our dataset into trainign and testing data, and to handle the imbalance we with use SMOTE to provide a balanced traning set. \n",
    "\n",
    "Once the data is ready for modeling we will build a baseline and then train several models, score them with cross validation, and generate predictions from our models and compare them with our test set to attain our final results."
   ]
  },
  {
   "cell_type": "code",
   "execution_count": 1,
   "id": "8041a9f6",
   "metadata": {
    "ExecuteTime": {
     "end_time": "2022-02-18T00:41:13.729000Z",
     "start_time": "2022-02-18T00:41:10.500985Z"
    }
   },
   "outputs": [],
   "source": [
    "# Import our dependencies\n",
    "import pandas as pd\n",
    "import numpy as np\n",
    "from mpl_toolkits.mplot3d import Axes3D\n",
    "import matplotlib.pyplot as plt\n",
    "%matplotlib inline\n",
    "from sklearn.utils import class_weight\n",
    "from sklearn.model_selection import train_test_split\n",
    "from sklearn.feature_extraction.text import TfidfVectorizer\n",
    "from sklearn.naive_bayes import MultinomialNB\n",
    "from sklearn.model_selection import cross_val_score\n",
    "from sklearn.manifold import TSNE\n",
    "from nltk.tokenize import word_tokenize\n",
    "from nltk.tokenize import RegexpTokenizer\n",
    "from imblearn.over_sampling import SMOTE\n",
    "import string\n",
    "from nltk import FreqDist\n",
    "from nltk.corpus import stopwords\n",
    "from nltk.stem import SnowballStemmer\n",
    "from nltk.stem import WordNetLemmatizer\n",
    "from sklearn.metrics import classification_report\n",
    "from sklearn.metrics import plot_confusion_matrix\n",
    "import matplotlib.pyplot as plt\n",
    "from sklearn import svm\n",
    "from collections import Counter\n",
    "from imblearn.under_sampling import NearMiss\n",
    "from sklearn.neighbors import KNeighborsClassifier\n",
    "from sklearn.feature_extraction.text import CountVectorizer"
   ]
  },
  {
   "cell_type": "markdown",
   "id": "b800e6aa",
   "metadata": {},
   "source": [
    "# EDA"
   ]
  },
  {
   "cell_type": "code",
   "execution_count": 2,
   "id": "46d2857e",
   "metadata": {
    "ExecuteTime": {
     "end_time": "2022-02-18T00:41:13.776686Z",
     "start_time": "2022-02-18T00:41:13.730767Z"
    }
   },
   "outputs": [
    {
     "data": {
      "text/html": [
       "<div>\n",
       "<style scoped>\n",
       "    .dataframe tbody tr th:only-of-type {\n",
       "        vertical-align: middle;\n",
       "    }\n",
       "\n",
       "    .dataframe tbody tr th {\n",
       "        vertical-align: top;\n",
       "    }\n",
       "\n",
       "    .dataframe thead th {\n",
       "        text-align: right;\n",
       "    }\n",
       "</style>\n",
       "<table border=\"1\" class=\"dataframe\">\n",
       "  <thead>\n",
       "    <tr style=\"text-align: right;\">\n",
       "      <th></th>\n",
       "      <th>tweet_text</th>\n",
       "      <th>emotion_in_tweet_is_directed_at</th>\n",
       "      <th>is_there_an_emotion_directed_at_a_brand_or_product</th>\n",
       "    </tr>\n",
       "  </thead>\n",
       "  <tbody>\n",
       "    <tr>\n",
       "      <th>0</th>\n",
       "      <td>.@wesley83 I have a 3G iPhone. After 3 hrs twe...</td>\n",
       "      <td>iPhone</td>\n",
       "      <td>Negative emotion</td>\n",
       "    </tr>\n",
       "    <tr>\n",
       "      <th>1</th>\n",
       "      <td>@jessedee Know about @fludapp ? Awesome iPad/i...</td>\n",
       "      <td>iPad or iPhone App</td>\n",
       "      <td>Positive emotion</td>\n",
       "    </tr>\n",
       "    <tr>\n",
       "      <th>2</th>\n",
       "      <td>@swonderlin Can not wait for #iPad 2 also. The...</td>\n",
       "      <td>iPad</td>\n",
       "      <td>Positive emotion</td>\n",
       "    </tr>\n",
       "    <tr>\n",
       "      <th>3</th>\n",
       "      <td>@sxsw I hope this year's festival isn't as cra...</td>\n",
       "      <td>iPad or iPhone App</td>\n",
       "      <td>Negative emotion</td>\n",
       "    </tr>\n",
       "    <tr>\n",
       "      <th>4</th>\n",
       "      <td>@sxtxstate great stuff on Fri #SXSW: Marissa M...</td>\n",
       "      <td>Google</td>\n",
       "      <td>Positive emotion</td>\n",
       "    </tr>\n",
       "  </tbody>\n",
       "</table>\n",
       "</div>"
      ],
      "text/plain": [
       "                                          tweet_text  \\\n",
       "0  .@wesley83 I have a 3G iPhone. After 3 hrs twe...   \n",
       "1  @jessedee Know about @fludapp ? Awesome iPad/i...   \n",
       "2  @swonderlin Can not wait for #iPad 2 also. The...   \n",
       "3  @sxsw I hope this year's festival isn't as cra...   \n",
       "4  @sxtxstate great stuff on Fri #SXSW: Marissa M...   \n",
       "\n",
       "  emotion_in_tweet_is_directed_at  \\\n",
       "0                          iPhone   \n",
       "1              iPad or iPhone App   \n",
       "2                            iPad   \n",
       "3              iPad or iPhone App   \n",
       "4                          Google   \n",
       "\n",
       "  is_there_an_emotion_directed_at_a_brand_or_product  \n",
       "0                                   Negative emotion  \n",
       "1                                   Positive emotion  \n",
       "2                                   Positive emotion  \n",
       "3                                   Negative emotion  \n",
       "4                                   Positive emotion  "
      ]
     },
     "execution_count": 2,
     "metadata": {},
     "output_type": "execute_result"
    }
   ],
   "source": [
    "# Read in our dataset and view the first 5 rows\n",
    "df = pd.read_csv('data/judge_1377884607_tweet_product_company.csv')\n",
    "df.head()"
   ]
  },
  {
   "cell_type": "code",
   "execution_count": 3,
   "id": "fafd3bc7",
   "metadata": {
    "ExecuteTime": {
     "end_time": "2022-02-18T00:41:13.792130Z",
     "start_time": "2022-02-18T00:41:13.778077Z"
    }
   },
   "outputs": [
    {
     "name": "stdout",
     "output_type": "stream",
     "text": [
      "<class 'pandas.core.frame.DataFrame'>\n",
      "RangeIndex: 8721 entries, 0 to 8720\n",
      "Data columns (total 3 columns):\n",
      " #   Column                                              Non-Null Count  Dtype \n",
      "---  ------                                              --------------  ----- \n",
      " 0   tweet_text                                          8720 non-null   object\n",
      " 1   emotion_in_tweet_is_directed_at                     3169 non-null   object\n",
      " 2   is_there_an_emotion_directed_at_a_brand_or_product  8721 non-null   object\n",
      "dtypes: object(3)\n",
      "memory usage: 204.5+ KB\n"
     ]
    }
   ],
   "source": [
    "# View our columns\n",
    "df.info()"
   ]
  },
  {
   "cell_type": "code",
   "execution_count": 4,
   "id": "e4d156f9",
   "metadata": {
    "ExecuteTime": {
     "end_time": "2022-02-18T00:41:13.798934Z",
     "start_time": "2022-02-18T00:41:13.794659Z"
    }
   },
   "outputs": [
    {
     "data": {
      "text/plain": [
       "iPad                               910\n",
       "Apple                              640\n",
       "iPad or iPhone App                 451\n",
       "Google                             412\n",
       "iPhone                             288\n",
       "Other Google product or service    282\n",
       "Android App                         78\n",
       "Android                             74\n",
       "Other Apple product or service      34\n",
       "Name: emotion_in_tweet_is_directed_at, dtype: int64"
      ]
     },
     "execution_count": 4,
     "metadata": {},
     "output_type": "execute_result"
    }
   ],
   "source": [
    "# See the various products and companies the tweets are about\n",
    "df.emotion_in_tweet_is_directed_at.value_counts()"
   ]
  },
  {
   "cell_type": "code",
   "execution_count": 5,
   "id": "0aafdabf",
   "metadata": {
    "ExecuteTime": {
     "end_time": "2022-02-18T00:41:13.805294Z",
     "start_time": "2022-02-18T00:41:13.800458Z"
    }
   },
   "outputs": [
    {
     "data": {
      "text/plain": [
       "No emotion toward brand or product    5156\n",
       "Positive emotion                      2869\n",
       "Negative emotion                       545\n",
       "I can't tell                           151\n",
       "Name: is_there_an_emotion_directed_at_a_brand_or_product, dtype: int64"
      ]
     },
     "execution_count": 5,
     "metadata": {},
     "output_type": "execute_result"
    }
   ],
   "source": [
    "# Get a feel for the class labels\n",
    "df.is_there_an_emotion_directed_at_a_brand_or_product.value_counts()"
   ]
  },
  {
   "cell_type": "markdown",
   "id": "98022052",
   "metadata": {},
   "source": [
    "### Data Cleaning"
   ]
  },
  {
   "cell_type": "code",
   "execution_count": 6,
   "id": "8bab26c9",
   "metadata": {
    "ExecuteTime": {
     "end_time": "2022-02-18T00:41:13.812716Z",
     "start_time": "2022-02-18T00:41:13.806504Z"
    }
   },
   "outputs": [],
   "source": [
    "# Since we are analyzing sentiment we will drop the labels with no sentiment\n",
    "pos_neg = df[df['is_there_an_emotion_directed_at_a_brand_or_product'] != \"I can't tell\"]\n",
    "pos_neg = pos_neg[pos_neg['is_there_an_emotion_directed_at_a_brand_or_product'] != \"No emotion toward brand or product\"]"
   ]
  },
  {
   "cell_type": "markdown",
   "id": "45701b9f",
   "metadata": {},
   "source": [
    ">Extremely unbalanced dataset"
   ]
  },
  {
   "cell_type": "code",
   "execution_count": 7,
   "id": "c090d82c",
   "metadata": {
    "ExecuteTime": {
     "end_time": "2022-02-18T00:41:14.013246Z",
     "start_time": "2022-02-18T00:41:14.007743Z"
    }
   },
   "outputs": [
    {
     "data": {
      "text/plain": [
       "Positive emotion    0.840363\n",
       "Negative emotion    0.159637\n",
       "Name: is_there_an_emotion_directed_at_a_brand_or_product, dtype: float64"
      ]
     },
     "execution_count": 7,
     "metadata": {},
     "output_type": "execute_result"
    }
   ],
   "source": [
    "pos_neg.is_there_an_emotion_directed_at_a_brand_or_product.value_counts(normalize=True)"
   ]
  },
  {
   "cell_type": "code",
   "execution_count": 8,
   "id": "8988599b",
   "metadata": {
    "ExecuteTime": {
     "end_time": "2022-02-18T00:41:14.265705Z",
     "start_time": "2022-02-18T00:41:14.254690Z"
    }
   },
   "outputs": [
    {
     "data": {
      "text/html": [
       "<div>\n",
       "<style scoped>\n",
       "    .dataframe tbody tr th:only-of-type {\n",
       "        vertical-align: middle;\n",
       "    }\n",
       "\n",
       "    .dataframe tbody tr th {\n",
       "        vertical-align: top;\n",
       "    }\n",
       "\n",
       "    .dataframe thead th {\n",
       "        text-align: right;\n",
       "    }\n",
       "</style>\n",
       "<table border=\"1\" class=\"dataframe\">\n",
       "  <thead>\n",
       "    <tr style=\"text-align: right;\">\n",
       "      <th></th>\n",
       "      <th>text</th>\n",
       "      <th>target</th>\n",
       "    </tr>\n",
       "  </thead>\n",
       "  <tbody>\n",
       "    <tr>\n",
       "      <th>0</th>\n",
       "      <td>.@wesley83 I have a 3G iPhone. After 3 hrs twe...</td>\n",
       "      <td>Negative emotion</td>\n",
       "    </tr>\n",
       "    <tr>\n",
       "      <th>1</th>\n",
       "      <td>@jessedee Know about @fludapp ? Awesome iPad/i...</td>\n",
       "      <td>Positive emotion</td>\n",
       "    </tr>\n",
       "    <tr>\n",
       "      <th>2</th>\n",
       "      <td>@swonderlin Can not wait for #iPad 2 also. The...</td>\n",
       "      <td>Positive emotion</td>\n",
       "    </tr>\n",
       "    <tr>\n",
       "      <th>3</th>\n",
       "      <td>@sxsw I hope this year's festival isn't as cra...</td>\n",
       "      <td>Negative emotion</td>\n",
       "    </tr>\n",
       "    <tr>\n",
       "      <th>4</th>\n",
       "      <td>@sxtxstate great stuff on Fri #SXSW: Marissa M...</td>\n",
       "      <td>Positive emotion</td>\n",
       "    </tr>\n",
       "  </tbody>\n",
       "</table>\n",
       "</div>"
      ],
      "text/plain": [
       "                                                text            target\n",
       "0  .@wesley83 I have a 3G iPhone. After 3 hrs twe...  Negative emotion\n",
       "1  @jessedee Know about @fludapp ? Awesome iPad/i...  Positive emotion\n",
       "2  @swonderlin Can not wait for #iPad 2 also. The...  Positive emotion\n",
       "3  @sxsw I hope this year's festival isn't as cra...  Negative emotion\n",
       "4  @sxtxstate great stuff on Fri #SXSW: Marissa M...  Positive emotion"
      ]
     },
     "execution_count": 8,
     "metadata": {},
     "output_type": "execute_result"
    }
   ],
   "source": [
    "# Drop the products/companies column since we will not be using this in our text analysis\n",
    "# Change column names to something short and easier to work with\n",
    "pos_neg = pos_neg.drop('emotion_in_tweet_is_directed_at', axis=1)\n",
    "pos_neg = pos_neg.rename(columns={'tweet_text':'text', 'is_there_an_emotion_directed_at_a_brand_or_product':'target'})\n",
    "pos_neg.head()"
   ]
  },
  {
   "cell_type": "code",
   "execution_count": 9,
   "id": "9cc41c5f",
   "metadata": {
    "ExecuteTime": {
     "end_time": "2022-02-18T00:41:14.534439Z",
     "start_time": "2022-02-18T00:41:14.497874Z"
    }
   },
   "outputs": [],
   "source": [
    "# Create a function to remove Twitter lingo like @'s and #'s and map it on our text column\n",
    "def remove_ats_and_hashtags(text):\n",
    "    entity_prefixes = ['@','#','�']\n",
    "    for separator in  string.punctuation:\n",
    "        if separator not in entity_prefixes :\n",
    "            text = text.replace(separator,' ')\n",
    "    words = []\n",
    "    for word in text.split():\n",
    "        word = word.strip()\n",
    "        if word:\n",
    "            if word[0] not in entity_prefixes:\n",
    "                words.append(word)\n",
    "    return ' '.join(words)\n",
    "\n",
    "pos_neg['text'] = pos_neg['text'].map(remove_ats_and_hashtags)"
   ]
  },
  {
   "cell_type": "code",
   "execution_count": 10,
   "id": "4e2667b1",
   "metadata": {
    "ExecuteTime": {
     "end_time": "2022-02-18T00:41:14.741453Z",
     "start_time": "2022-02-18T00:41:14.736001Z"
    }
   },
   "outputs": [],
   "source": [
    "# Encode our classes/targets for modeling\n",
    "pos_neg.replace({'Negative emotion' : 0, 'Positive emotion' : 1}, inplace=True)"
   ]
  },
  {
   "cell_type": "code",
   "execution_count": 11,
   "id": "15999628",
   "metadata": {
    "ExecuteTime": {
     "end_time": "2022-02-18T00:41:14.991148Z",
     "start_time": "2022-02-18T00:41:14.981405Z"
    }
   },
   "outputs": [
    {
     "data": {
      "text/html": [
       "<div>\n",
       "<style scoped>\n",
       "    .dataframe tbody tr th:only-of-type {\n",
       "        vertical-align: middle;\n",
       "    }\n",
       "\n",
       "    .dataframe tbody tr th {\n",
       "        vertical-align: top;\n",
       "    }\n",
       "\n",
       "    .dataframe thead th {\n",
       "        text-align: right;\n",
       "    }\n",
       "</style>\n",
       "<table border=\"1\" class=\"dataframe\">\n",
       "  <thead>\n",
       "    <tr style=\"text-align: right;\">\n",
       "      <th></th>\n",
       "      <th>text</th>\n",
       "      <th>target</th>\n",
       "    </tr>\n",
       "  </thead>\n",
       "  <tbody>\n",
       "    <tr>\n",
       "      <th>0</th>\n",
       "      <td>i have a 3g iphone after 3 hrs tweeting at aus...</td>\n",
       "      <td>0</td>\n",
       "    </tr>\n",
       "    <tr>\n",
       "      <th>1</th>\n",
       "      <td>know about awesome ipad iphone app that you ll...</td>\n",
       "      <td>1</td>\n",
       "    </tr>\n",
       "    <tr>\n",
       "      <th>2</th>\n",
       "      <td>can not wait for 2 also they should sale them ...</td>\n",
       "      <td>1</td>\n",
       "    </tr>\n",
       "    <tr>\n",
       "      <th>3</th>\n",
       "      <td>i hope this year s festival isn t as crashy as...</td>\n",
       "      <td>0</td>\n",
       "    </tr>\n",
       "    <tr>\n",
       "      <th>4</th>\n",
       "      <td>great stuff on fri marissa mayer google tim o ...</td>\n",
       "      <td>1</td>\n",
       "    </tr>\n",
       "  </tbody>\n",
       "</table>\n",
       "</div>"
      ],
      "text/plain": [
       "                                                text  target\n",
       "0  i have a 3g iphone after 3 hrs tweeting at aus...       0\n",
       "1  know about awesome ipad iphone app that you ll...       1\n",
       "2  can not wait for 2 also they should sale them ...       1\n",
       "3  i hope this year s festival isn t as crashy as...       0\n",
       "4  great stuff on fri marissa mayer google tim o ...       1"
      ]
     },
     "execution_count": 11,
     "metadata": {},
     "output_type": "execute_result"
    }
   ],
   "source": [
    "# Tansform our text to all lower case letters\n",
    "pos_neg['text'] = pos_neg['text'].str.lower()\n",
    "pos_neg.head()"
   ]
  },
  {
   "cell_type": "markdown",
   "id": "e6355435",
   "metadata": {},
   "source": [
    "### Explore the words"
   ]
  },
  {
   "cell_type": "code",
   "execution_count": 18,
   "id": "d4ba19b7",
   "metadata": {
    "ExecuteTime": {
     "end_time": "2022-02-18T00:41:37.889650Z",
     "start_time": "2022-02-18T00:41:37.578269Z"
    }
   },
   "outputs": [],
   "source": [
    "# Tokenize our text to split into words\n",
    "pos_neg['text_tokenized'] = pos_neg['text'].apply(word_tokenize)"
   ]
  },
  {
   "cell_type": "code",
   "execution_count": 19,
   "id": "c9bf9edc",
   "metadata": {
    "ExecuteTime": {
     "end_time": "2022-02-18T00:41:38.063212Z",
     "start_time": "2022-02-18T00:41:38.058741Z"
    }
   },
   "outputs": [],
   "source": [
    "# Create a function that will view the 20 most frequently used words\n",
    "def visualize_top_20(freq_dist, title):\n",
    "\n",
    "    # Extract data for plotting\n",
    "    top_20 = list(zip(*freq_dist.most_common(20)))\n",
    "    tokens = top_20[0]\n",
    "    counts = top_20[1]\n",
    "\n",
    "    # Set up plot and plot data\n",
    "    fig, ax = plt.subplots(figsize=(20,10))\n",
    "    ax.bar(tokens, counts)\n",
    "\n",
    "    # Customize plot appearance\n",
    "    ax.set_title(title)\n",
    "    ax.set_ylabel(\"Count\")\n",
    "    ax.tick_params(axis=\"x\", rotation=90)"
   ]
  },
  {
   "cell_type": "code",
   "execution_count": 20,
   "id": "046e94e4",
   "metadata": {
    "ExecuteTime": {
     "end_time": "2022-02-18T00:41:38.917137Z",
     "start_time": "2022-02-18T00:41:38.717356Z"
    }
   },
   "outputs": [
    {
     "data": {
      "image/png": "[encoded data removed]",
      "text/plain": [
       "<Figure size 1440x720 with 1 Axes>"
      ]
     },
     "metadata": {
      "needs_background": "light"
     },
     "output_type": "display_data"
    }
   ],
   "source": [
    "# create a frequency distribution and view it as a histogram\n",
    "pos_neg_freq_dist = FreqDist(pos_neg['text_tokenized'].explode())\n",
    "\n",
    "visualize_top_20(pos_neg_freq_dist, \"Top 20 Word Frequency\")"
   ]
  },
  {
   "cell_type": "markdown",
   "id": "2e54ce5f",
   "metadata": {},
   "source": [
    "There are a number of stopwords, 1 character and other phrases that won't add value to our model.\n",
    "\n",
    "### Remove stopwords, punctuation and other unwanted phrases\n",
    "\n"
   ]
  },
  {
   "cell_type": "code",
   "execution_count": 21,
   "id": "0a89ab9b",
   "metadata": {
    "ExecuteTime": {
     "end_time": "2022-02-18T00:41:41.061984Z",
     "start_time": "2022-02-18T00:41:41.056212Z"
    }
   },
   "outputs": [],
   "source": [
    "# Create a stopwrods list for removal, add punctuation and other phrases to drop\n",
    "stopwords_list = stopwords.words('english')\n",
    "stopwords_list += list(string.punctuation)\n",
    "new_stops = ('quot', 'rt', 'i')\n",
    "stopwords_list += list(new_stops)"
   ]
  },
  {
   "cell_type": "code",
   "execution_count": 22,
   "id": "7f103ccd",
   "metadata": {
    "ExecuteTime": {
     "end_time": "2022-02-18T00:41:41.534830Z",
     "start_time": "2022-02-18T00:41:41.376871Z"
    }
   },
   "outputs": [],
   "source": [
    "# Create a function that will remove the stopwords list from the text and apply it to our text\n",
    "def remove_stopwords(token_list):\n",
    "    \"\"\"\n",
    "    Given a list of tokens, return a list where the tokens\n",
    "    that are in stopwords_list have been removed\n",
    "    \"\"\"\n",
    "    stops_rmv_list = [token for token in token_list if token not in stopwords_list]\n",
    "    return stops_rmv_list\n",
    "\n",
    "pos_neg['stopwords_removed'] = pos_neg['text_tokenized'].apply(remove_stopwords)"
   ]
  },
  {
   "cell_type": "code",
   "execution_count": 23,
   "id": "91fe2b9b",
   "metadata": {
    "ExecuteTime": {
     "end_time": "2022-02-18T00:41:41.665836Z",
     "start_time": "2022-02-18T00:41:41.641689Z"
    }
   },
   "outputs": [],
   "source": [
    "# Remove numbers and single letters and create a text column for modeling\n",
    "pattern = \"([a-z]{2,})\"\n",
    "regex_tokenizer = RegexpTokenizer(pattern)\n",
    "\n",
    "pos_neg['regex_text'] = [' '.join(text) for text in pos_neg.stopwords_removed]\n",
    "pos_neg['regex_text_tokenized'] = [regex_tokenizer.tokenize(text) for text in pos_neg['regex_text']]\n",
    "pos_neg['regex_text'] = [' '.join(text) for text in pos_neg.regex_text_tokenized]"
   ]
  },
  {
   "cell_type": "code",
   "execution_count": 24,
   "id": "909792db",
   "metadata": {
    "ExecuteTime": {
     "end_time": "2022-02-18T00:41:41.905036Z",
     "start_time": "2022-02-18T00:41:41.890815Z"
    }
   },
   "outputs": [
    {
     "data": {
      "text/html": [
       "<div>\n",
       "<style scoped>\n",
       "    .dataframe tbody tr th:only-of-type {\n",
       "        vertical-align: middle;\n",
       "    }\n",
       "\n",
       "    .dataframe tbody tr th {\n",
       "        vertical-align: top;\n",
       "    }\n",
       "\n",
       "    .dataframe thead th {\n",
       "        text-align: right;\n",
       "    }\n",
       "</style>\n",
       "<table border=\"1\" class=\"dataframe\">\n",
       "  <thead>\n",
       "    <tr style=\"text-align: right;\">\n",
       "      <th></th>\n",
       "      <th>text</th>\n",
       "      <th>target</th>\n",
       "      <th>text_tokenized</th>\n",
       "      <th>stopwords_removed</th>\n",
       "      <th>regex_text</th>\n",
       "      <th>regex_text_tokenized</th>\n",
       "    </tr>\n",
       "  </thead>\n",
       "  <tbody>\n",
       "    <tr>\n",
       "      <th>0</th>\n",
       "      <td>i have a 3g iphone after 3 hrs tweeting at aus...</td>\n",
       "      <td>0</td>\n",
       "      <td>[i, have, a, 3g, iphone, after, 3, hrs, tweeti...</td>\n",
       "      <td>[3g, iphone, 3, hrs, tweeting, austin, dead, n...</td>\n",
       "      <td>iphone hrs tweeting austin dead need upgrade p...</td>\n",
       "      <td>[iphone, hrs, tweeting, austin, dead, need, up...</td>\n",
       "    </tr>\n",
       "    <tr>\n",
       "      <th>1</th>\n",
       "      <td>know about awesome ipad iphone app that you ll...</td>\n",
       "      <td>1</td>\n",
       "      <td>[know, about, awesome, ipad, iphone, app, that...</td>\n",
       "      <td>[know, awesome, ipad, iphone, app, likely, app...</td>\n",
       "      <td>know awesome ipad iphone app likely appreciate...</td>\n",
       "      <td>[know, awesome, ipad, iphone, app, likely, app...</td>\n",
       "    </tr>\n",
       "    <tr>\n",
       "      <th>2</th>\n",
       "      <td>can not wait for 2 also they should sale them ...</td>\n",
       "      <td>1</td>\n",
       "      <td>[can, not, wait, for, 2, also, they, should, s...</td>\n",
       "      <td>[wait, 2, also, sale]</td>\n",
       "      <td>wait also sale</td>\n",
       "      <td>[wait, also, sale]</td>\n",
       "    </tr>\n",
       "    <tr>\n",
       "      <th>3</th>\n",
       "      <td>i hope this year s festival isn t as crashy as...</td>\n",
       "      <td>0</td>\n",
       "      <td>[i, hope, this, year, s, festival, isn, t, as,...</td>\n",
       "      <td>[hope, year, festival, crashy, year, iphone, app]</td>\n",
       "      <td>hope year festival crashy year iphone app</td>\n",
       "      <td>[hope, year, festival, crashy, year, iphone, app]</td>\n",
       "    </tr>\n",
       "    <tr>\n",
       "      <th>4</th>\n",
       "      <td>great stuff on fri marissa mayer google tim o ...</td>\n",
       "      <td>1</td>\n",
       "      <td>[great, stuff, on, fri, marissa, mayer, google...</td>\n",
       "      <td>[great, stuff, fri, marissa, mayer, google, ti...</td>\n",
       "      <td>great stuff fri marissa mayer google tim reill...</td>\n",
       "      <td>[great, stuff, fri, marissa, mayer, google, ti...</td>\n",
       "    </tr>\n",
       "  </tbody>\n",
       "</table>\n",
       "</div>"
      ],
      "text/plain": [
       "                                                text  target  \\\n",
       "0  i have a 3g iphone after 3 hrs tweeting at aus...       0   \n",
       "1  know about awesome ipad iphone app that you ll...       1   \n",
       "2  can not wait for 2 also they should sale them ...       1   \n",
       "3  i hope this year s festival isn t as crashy as...       0   \n",
       "4  great stuff on fri marissa mayer google tim o ...       1   \n",
       "\n",
       "                                      text_tokenized  \\\n",
       "0  [i, have, a, 3g, iphone, after, 3, hrs, tweeti...   \n",
       "1  [know, about, awesome, ipad, iphone, app, that...   \n",
       "2  [can, not, wait, for, 2, also, they, should, s...   \n",
       "3  [i, hope, this, year, s, festival, isn, t, as,...   \n",
       "4  [great, stuff, on, fri, marissa, mayer, google...   \n",
       "\n",
       "                                   stopwords_removed  \\\n",
       "0  [3g, iphone, 3, hrs, tweeting, austin, dead, n...   \n",
       "1  [know, awesome, ipad, iphone, app, likely, app...   \n",
       "2                              [wait, 2, also, sale]   \n",
       "3  [hope, year, festival, crashy, year, iphone, app]   \n",
       "4  [great, stuff, fri, marissa, mayer, google, ti...   \n",
       "\n",
       "                                          regex_text  \\\n",
       "0  iphone hrs tweeting austin dead need upgrade p...   \n",
       "1  know awesome ipad iphone app likely appreciate...   \n",
       "2                                     wait also sale   \n",
       "3          hope year festival crashy year iphone app   \n",
       "4  great stuff fri marissa mayer google tim reill...   \n",
       "\n",
       "                                regex_text_tokenized  \n",
       "0  [iphone, hrs, tweeting, austin, dead, need, up...  \n",
       "1  [know, awesome, ipad, iphone, app, likely, app...  \n",
       "2                                 [wait, also, sale]  \n",
       "3  [hope, year, festival, crashy, year, iphone, app]  \n",
       "4  [great, stuff, fri, marissa, mayer, google, ti...  "
      ]
     },
     "execution_count": 24,
     "metadata": {},
     "output_type": "execute_result"
    }
   ],
   "source": [
    "pos_neg.head()"
   ]
  },
  {
   "cell_type": "markdown",
   "id": "f40f301e",
   "metadata": {},
   "source": [
    "### Stem Words"
   ]
  },
  {
   "cell_type": "code",
   "execution_count": 25,
   "id": "995277f4",
   "metadata": {
    "ExecuteTime": {
     "end_time": "2022-02-18T00:41:42.469375Z",
     "start_time": "2022-02-18T00:41:42.393445Z"
    }
   },
   "outputs": [
    {
     "data": {
      "text/html": [
       "<div>\n",
       "<style scoped>\n",
       "    .dataframe tbody tr th:only-of-type {\n",
       "        vertical-align: middle;\n",
       "    }\n",
       "\n",
       "    .dataframe tbody tr th {\n",
       "        vertical-align: top;\n",
       "    }\n",
       "\n",
       "    .dataframe thead th {\n",
       "        text-align: right;\n",
       "    }\n",
       "</style>\n",
       "<table border=\"1\" class=\"dataframe\">\n",
       "  <thead>\n",
       "    <tr style=\"text-align: right;\">\n",
       "      <th></th>\n",
       "      <th>text</th>\n",
       "      <th>target</th>\n",
       "      <th>text_tokenized</th>\n",
       "      <th>stopwords_removed</th>\n",
       "      <th>regex_text</th>\n",
       "      <th>regex_text_tokenized</th>\n",
       "      <th>stemmed_text</th>\n",
       "    </tr>\n",
       "  </thead>\n",
       "  <tbody>\n",
       "    <tr>\n",
       "      <th>0</th>\n",
       "      <td>i have a 3g iphone after 3 hrs tweeting at aus...</td>\n",
       "      <td>0</td>\n",
       "      <td>[i, have, a, 3g, iphone, after, 3, hrs, tweeti...</td>\n",
       "      <td>[3g, iphone, 3, hrs, tweeting, austin, dead, n...</td>\n",
       "      <td>iphone hrs tweeting austin dead need upgrade p...</td>\n",
       "      <td>[iphone, hrs, tweeting, austin, dead, need, up...</td>\n",
       "      <td>iphone hrs tweeting austin dead need upgrade p...</td>\n",
       "    </tr>\n",
       "    <tr>\n",
       "      <th>1</th>\n",
       "      <td>know about awesome ipad iphone app that you ll...</td>\n",
       "      <td>1</td>\n",
       "      <td>[know, about, awesome, ipad, iphone, app, that...</td>\n",
       "      <td>[know, awesome, ipad, iphone, app, likely, app...</td>\n",
       "      <td>know awesome ipad iphone app likely appreciate...</td>\n",
       "      <td>[know, awesome, ipad, iphone, app, likely, app...</td>\n",
       "      <td>know awesome ipad iphone app likely appreciate...</td>\n",
       "    </tr>\n",
       "    <tr>\n",
       "      <th>2</th>\n",
       "      <td>can not wait for 2 also they should sale them ...</td>\n",
       "      <td>1</td>\n",
       "      <td>[can, not, wait, for, 2, also, they, should, s...</td>\n",
       "      <td>[wait, 2, also, sale]</td>\n",
       "      <td>wait also sale</td>\n",
       "      <td>[wait, also, sale]</td>\n",
       "      <td>wait also sal</td>\n",
       "    </tr>\n",
       "    <tr>\n",
       "      <th>3</th>\n",
       "      <td>i hope this year s festival isn t as crashy as...</td>\n",
       "      <td>0</td>\n",
       "      <td>[i, hope, this, year, s, festival, isn, t, as,...</td>\n",
       "      <td>[hope, year, festival, crashy, year, iphone, app]</td>\n",
       "      <td>hope year festival crashy year iphone app</td>\n",
       "      <td>[hope, year, festival, crashy, year, iphone, app]</td>\n",
       "      <td>hope year festival crashy year iphone app</td>\n",
       "    </tr>\n",
       "    <tr>\n",
       "      <th>4</th>\n",
       "      <td>great stuff on fri marissa mayer google tim o ...</td>\n",
       "      <td>1</td>\n",
       "      <td>[great, stuff, on, fri, marissa, mayer, google...</td>\n",
       "      <td>[great, stuff, fri, marissa, mayer, google, ti...</td>\n",
       "      <td>great stuff fri marissa mayer google tim reill...</td>\n",
       "      <td>[great, stuff, fri, marissa, mayer, google, ti...</td>\n",
       "      <td>great stuff fri marissa mayer google tim reill...</td>\n",
       "    </tr>\n",
       "  </tbody>\n",
       "</table>\n",
       "</div>"
      ],
      "text/plain": [
       "                                                text  target  \\\n",
       "0  i have a 3g iphone after 3 hrs tweeting at aus...       0   \n",
       "1  know about awesome ipad iphone app that you ll...       1   \n",
       "2  can not wait for 2 also they should sale them ...       1   \n",
       "3  i hope this year s festival isn t as crashy as...       0   \n",
       "4  great stuff on fri marissa mayer google tim o ...       1   \n",
       "\n",
       "                                      text_tokenized  \\\n",
       "0  [i, have, a, 3g, iphone, after, 3, hrs, tweeti...   \n",
       "1  [know, about, awesome, ipad, iphone, app, that...   \n",
       "2  [can, not, wait, for, 2, also, they, should, s...   \n",
       "3  [i, hope, this, year, s, festival, isn, t, as,...   \n",
       "4  [great, stuff, on, fri, marissa, mayer, google...   \n",
       "\n",
       "                                   stopwords_removed  \\\n",
       "0  [3g, iphone, 3, hrs, tweeting, austin, dead, n...   \n",
       "1  [know, awesome, ipad, iphone, app, likely, app...   \n",
       "2                              [wait, 2, also, sale]   \n",
       "3  [hope, year, festival, crashy, year, iphone, app]   \n",
       "4  [great, stuff, fri, marissa, mayer, google, ti...   \n",
       "\n",
       "                                          regex_text  \\\n",
       "0  iphone hrs tweeting austin dead need upgrade p...   \n",
       "1  know awesome ipad iphone app likely appreciate...   \n",
       "2                                     wait also sale   \n",
       "3          hope year festival crashy year iphone app   \n",
       "4  great stuff fri marissa mayer google tim reill...   \n",
       "\n",
       "                                regex_text_tokenized  \\\n",
       "0  [iphone, hrs, tweeting, austin, dead, need, up...   \n",
       "1  [know, awesome, ipad, iphone, app, likely, app...   \n",
       "2                                 [wait, also, sale]   \n",
       "3  [hope, year, festival, crashy, year, iphone, app]   \n",
       "4  [great, stuff, fri, marissa, mayer, google, ti...   \n",
       "\n",
       "                                        stemmed_text  \n",
       "0  iphone hrs tweeting austin dead need upgrade p...  \n",
       "1  know awesome ipad iphone app likely appreciate...  \n",
       "2                                      wait also sal  \n",
       "3          hope year festival crashy year iphone app  \n",
       "4  great stuff fri marissa mayer google tim reill...  "
      ]
     },
     "execution_count": 25,
     "metadata": {},
     "output_type": "execute_result"
    }
   ],
   "source": [
    "snow_stemmer = SnowballStemmer(language=\"english\")\n",
    "\n",
    "pos_neg['stemmed_text'] = [snow_stemmer.stem(text) for text in pos_neg['regex_text']]\n",
    "\n",
    "pos_neg.head()"
   ]
  },
  {
   "cell_type": "markdown",
   "id": "ec6773b5",
   "metadata": {},
   "source": [
    "### Lemmatize words"
   ]
  },
  {
   "cell_type": "code",
   "execution_count": 26,
   "id": "23651c03",
   "metadata": {
    "ExecuteTime": {
     "end_time": "2022-02-18T00:41:44.602930Z",
     "start_time": "2022-02-18T00:41:43.527739Z"
    }
   },
   "outputs": [
    {
     "data": {
      "text/html": [
       "<div>\n",
       "<style scoped>\n",
       "    .dataframe tbody tr th:only-of-type {\n",
       "        vertical-align: middle;\n",
       "    }\n",
       "\n",
       "    .dataframe tbody tr th {\n",
       "        vertical-align: top;\n",
       "    }\n",
       "\n",
       "    .dataframe thead th {\n",
       "        text-align: right;\n",
       "    }\n",
       "</style>\n",
       "<table border=\"1\" class=\"dataframe\">\n",
       "  <thead>\n",
       "    <tr style=\"text-align: right;\">\n",
       "      <th></th>\n",
       "      <th>text</th>\n",
       "      <th>target</th>\n",
       "      <th>text_tokenized</th>\n",
       "      <th>stopwords_removed</th>\n",
       "      <th>regex_text</th>\n",
       "      <th>regex_text_tokenized</th>\n",
       "      <th>stemmed_text</th>\n",
       "      <th>lemmed_text</th>\n",
       "    </tr>\n",
       "  </thead>\n",
       "  <tbody>\n",
       "    <tr>\n",
       "      <th>0</th>\n",
       "      <td>i have a 3g iphone after 3 hrs tweeting at aus...</td>\n",
       "      <td>0</td>\n",
       "      <td>[i, have, a, 3g, iphone, after, 3, hrs, tweeti...</td>\n",
       "      <td>[3g, iphone, 3, hrs, tweeting, austin, dead, n...</td>\n",
       "      <td>iphone hrs tweeting austin dead need upgrade p...</td>\n",
       "      <td>[iphone, hrs, tweeting, austin, dead, need, up...</td>\n",
       "      <td>iphone hrs tweeting austin dead need upgrade p...</td>\n",
       "      <td>iphone hrs tweeting austin dead need upgrade p...</td>\n",
       "    </tr>\n",
       "    <tr>\n",
       "      <th>1</th>\n",
       "      <td>know about awesome ipad iphone app that you ll...</td>\n",
       "      <td>1</td>\n",
       "      <td>[know, about, awesome, ipad, iphone, app, that...</td>\n",
       "      <td>[know, awesome, ipad, iphone, app, likely, app...</td>\n",
       "      <td>know awesome ipad iphone app likely appreciate...</td>\n",
       "      <td>[know, awesome, ipad, iphone, app, likely, app...</td>\n",
       "      <td>know awesome ipad iphone app likely appreciate...</td>\n",
       "      <td>know awesome ipad iphone app likely appreciate...</td>\n",
       "    </tr>\n",
       "    <tr>\n",
       "      <th>2</th>\n",
       "      <td>can not wait for 2 also they should sale them ...</td>\n",
       "      <td>1</td>\n",
       "      <td>[can, not, wait, for, 2, also, they, should, s...</td>\n",
       "      <td>[wait, 2, also, sale]</td>\n",
       "      <td>wait also sale</td>\n",
       "      <td>[wait, also, sale]</td>\n",
       "      <td>wait also sal</td>\n",
       "      <td>wait also sale</td>\n",
       "    </tr>\n",
       "    <tr>\n",
       "      <th>3</th>\n",
       "      <td>i hope this year s festival isn t as crashy as...</td>\n",
       "      <td>0</td>\n",
       "      <td>[i, hope, this, year, s, festival, isn, t, as,...</td>\n",
       "      <td>[hope, year, festival, crashy, year, iphone, app]</td>\n",
       "      <td>hope year festival crashy year iphone app</td>\n",
       "      <td>[hope, year, festival, crashy, year, iphone, app]</td>\n",
       "      <td>hope year festival crashy year iphone app</td>\n",
       "      <td>hope year festival crashy year iphone app</td>\n",
       "    </tr>\n",
       "    <tr>\n",
       "      <th>4</th>\n",
       "      <td>great stuff on fri marissa mayer google tim o ...</td>\n",
       "      <td>1</td>\n",
       "      <td>[great, stuff, on, fri, marissa, mayer, google...</td>\n",
       "      <td>[great, stuff, fri, marissa, mayer, google, ti...</td>\n",
       "      <td>great stuff fri marissa mayer google tim reill...</td>\n",
       "      <td>[great, stuff, fri, marissa, mayer, google, ti...</td>\n",
       "      <td>great stuff fri marissa mayer google tim reill...</td>\n",
       "      <td>great stuff fri marissa mayer google tim reill...</td>\n",
       "    </tr>\n",
       "  </tbody>\n",
       "</table>\n",
       "</div>"
      ],
      "text/plain": [
       "                                                text  target  \\\n",
       "0  i have a 3g iphone after 3 hrs tweeting at aus...       0   \n",
       "1  know about awesome ipad iphone app that you ll...       1   \n",
       "2  can not wait for 2 also they should sale them ...       1   \n",
       "3  i hope this year s festival isn t as crashy as...       0   \n",
       "4  great stuff on fri marissa mayer google tim o ...       1   \n",
       "\n",
       "                                      text_tokenized  \\\n",
       "0  [i, have, a, 3g, iphone, after, 3, hrs, tweeti...   \n",
       "1  [know, about, awesome, ipad, iphone, app, that...   \n",
       "2  [can, not, wait, for, 2, also, they, should, s...   \n",
       "3  [i, hope, this, year, s, festival, isn, t, as,...   \n",
       "4  [great, stuff, on, fri, marissa, mayer, google...   \n",
       "\n",
       "                                   stopwords_removed  \\\n",
       "0  [3g, iphone, 3, hrs, tweeting, austin, dead, n...   \n",
       "1  [know, awesome, ipad, iphone, app, likely, app...   \n",
       "2                              [wait, 2, also, sale]   \n",
       "3  [hope, year, festival, crashy, year, iphone, app]   \n",
       "4  [great, stuff, fri, marissa, mayer, google, ti...   \n",
       "\n",
       "                                          regex_text  \\\n",
       "0  iphone hrs tweeting austin dead need upgrade p...   \n",
       "1  know awesome ipad iphone app likely appreciate...   \n",
       "2                                     wait also sale   \n",
       "3          hope year festival crashy year iphone app   \n",
       "4  great stuff fri marissa mayer google tim reill...   \n",
       "\n",
       "                                regex_text_tokenized  \\\n",
       "0  [iphone, hrs, tweeting, austin, dead, need, up...   \n",
       "1  [know, awesome, ipad, iphone, app, likely, app...   \n",
       "2                                 [wait, also, sale]   \n",
       "3  [hope, year, festival, crashy, year, iphone, app]   \n",
       "4  [great, stuff, fri, marissa, mayer, google, ti...   \n",
       "\n",
       "                                        stemmed_text  \\\n",
       "0  iphone hrs tweeting austin dead need upgrade p...   \n",
       "1  know awesome ipad iphone app likely appreciate...   \n",
       "2                                      wait also sal   \n",
       "3          hope year festival crashy year iphone app   \n",
       "4  great stuff fri marissa mayer google tim reill...   \n",
       "\n",
       "                                         lemmed_text  \n",
       "0  iphone hrs tweeting austin dead need upgrade p...  \n",
       "1  know awesome ipad iphone app likely appreciate...  \n",
       "2                                     wait also sale  \n",
       "3          hope year festival crashy year iphone app  \n",
       "4  great stuff fri marissa mayer google tim reill...  "
      ]
     },
     "execution_count": 26,
     "metadata": {},
     "output_type": "execute_result"
    }
   ],
   "source": [
    "lemmer = WordNetLemmatizer()\n",
    "\n",
    "pos_neg['lemmed_text'] = [lemmer.lemmatize(text) for text in pos_neg['regex_text']]\n",
    "\n",
    "pos_neg.head()"
   ]
  },
  {
   "cell_type": "markdown",
   "id": "cb15682c",
   "metadata": {},
   "source": [
    "### View the new frequency distribution of words after processing"
   ]
  },
  {
   "cell_type": "code",
   "execution_count": 28,
   "id": "f083cd3a",
   "metadata": {
    "ExecuteTime": {
     "end_time": "2022-02-18T00:42:58.694218Z",
     "start_time": "2022-02-18T00:42:58.419316Z"
    }
   },
   "outputs": [],
   "source": [
    "pos_neg['lemmed_text_tokenized'] = pos_neg['lemmed_text'].apply(word_tokenize)"
   ]
  },
  {
   "cell_type": "code",
   "execution_count": 29,
   "id": "8a0f653e",
   "metadata": {
    "ExecuteTime": {
     "end_time": "2022-02-18T00:42:59.545191Z",
     "start_time": "2022-02-18T00:42:59.361594Z"
    }
   },
   "outputs": [
    {
     "data": {
      "image/png": "[encoded data removed]",
      "text/plain": [
       "<Figure size 1440x720 with 1 Axes>"
      ]
     },
     "metadata": {
      "needs_background": "light"
     },
     "output_type": "display_data"
    }
   ],
   "source": [
    "# create a frequency distribution and view it as a histogram\n",
    "lemmed_text_freq_dist = FreqDist(pos_neg['lemmed_text_tokenized'].explode())\n",
    "\n",
    "visualize_top_20(lemmed_text_freq_dist, \"Top 20 Word Frequency\")"
   ]
  },
  {
   "cell_type": "markdown",
   "id": "e47f43ad",
   "metadata": {},
   "source": [
    "### Train Test Split"
   ]
  },
  {
   "cell_type": "code",
   "execution_count": 30,
   "id": "e4187881",
   "metadata": {
    "ExecuteTime": {
     "end_time": "2022-02-18T01:00:37.239117Z",
     "start_time": "2022-02-18T01:00:37.229621Z"
    }
   },
   "outputs": [],
   "source": [
    "X = pos_neg.drop(['target'], axis=1)\n",
    "y = pos_neg['target']\n",
    "\n",
    "X_train , X_test, y_train, y_test = train_test_split(\n",
    "    X, y, test_size=0.2)"
   ]
  },
  {
   "cell_type": "code",
   "execution_count": 31,
   "id": "88fb9dd5",
   "metadata": {
    "ExecuteTime": {
     "end_time": "2022-02-18T01:00:38.197232Z",
     "start_time": "2022-02-18T01:00:38.188834Z"
    }
   },
   "outputs": [
    {
     "data": {
      "text/plain": [
       "1    0.840352\n",
       "0    0.159648\n",
       "Name: target, dtype: float64"
      ]
     },
     "execution_count": 31,
     "metadata": {},
     "output_type": "execute_result"
    }
   ],
   "source": [
    "y_train.value_counts(normalize=True)"
   ]
  },
  {
   "cell_type": "markdown",
   "id": "6b612cd6",
   "metadata": {},
   "source": [
    "### Build and score a baseline model"
   ]
  },
  {
   "cell_type": "markdown",
   "id": "6d56a1e7",
   "metadata": {},
   "source": [
    "#### Using Count Vectorization"
   ]
  },
  {
   "cell_type": "code",
   "execution_count": 78,
   "id": "74cc8adc",
   "metadata": {
    "ExecuteTime": {
     "end_time": "2022-02-18T01:12:34.995506Z",
     "start_time": "2022-02-18T01:12:34.955156Z"
    }
   },
   "outputs": [],
   "source": [
    "# Use count vectorization\n",
    "count = CountVectorizer()\n",
    "X_count_vectorized = count.fit_transform(X_train['lemmed_text'])"
   ]
  },
  {
   "cell_type": "code",
   "execution_count": 79,
   "id": "d554eecc",
   "metadata": {
    "ExecuteTime": {
     "end_time": "2022-02-18T01:12:35.190304Z",
     "start_time": "2022-02-18T01:12:35.174395Z"
    }
   },
   "outputs": [],
   "source": [
    "# With such an imbalanced dataset use SMOTE to balance training data\n",
    "smote_count = SMOTE(k_neighbors=3)\n",
    "X_train_resampled, y_train_resampled = smote_count.fit_resample(\n",
    "    X_count_vectorized, y_train)"
   ]
  },
  {
   "cell_type": "code",
   "execution_count": 80,
   "id": "734b03e8",
   "metadata": {
    "ExecuteTime": {
     "end_time": "2022-02-18T01:12:35.454836Z",
     "start_time": "2022-02-18T01:12:35.433309Z"
    }
   },
   "outputs": [
    {
     "name": "stdout",
     "output_type": "stream",
     "text": [
      "Baseline: 0.8115468409586055\n"
     ]
    }
   ],
   "source": [
    "# Instantiate a MultinomialNB classifier and fi it to training data\n",
    "baseline_model = MultinomialNB()\n",
    "\n",
    "baseline_model.fit(X_train_resampled, y_train_resampled)\n",
    "\n",
    "# Evaluate the model\n",
    "baseline_cv = cross_val_score(baseline_model, X_train_resampled, y_train_resampled)\n",
    "print(\"Baseline:\", baseline_cv.mean())"
   ]
  },
  {
   "cell_type": "code",
   "execution_count": 81,
   "id": "3144a51c",
   "metadata": {
    "ExecuteTime": {
     "end_time": "2022-02-18T01:12:37.555885Z",
     "start_time": "2022-02-18T01:12:37.547535Z"
    }
   },
   "outputs": [
    {
     "data": {
      "text/plain": [
       "0    0.5\n",
       "1    0.5\n",
       "Name: target, dtype: float64"
      ]
     },
     "execution_count": 81,
     "metadata": {},
     "output_type": "execute_result"
    }
   ],
   "source": [
    "y_train_resampled.value_counts(normalize=True)"
   ]
  },
  {
   "cell_type": "code",
   "execution_count": 91,
   "id": "c4ebabcd",
   "metadata": {
    "ExecuteTime": {
     "end_time": "2022-02-18T01:13:14.958729Z",
     "start_time": "2022-02-18T01:13:14.883819Z"
    }
   },
   "outputs": [],
   "source": [
    "# Use count vectorization with only bigrams\n",
    "count_bigram = CountVectorizer(ngram_range=(2,2))\n",
    "X_count_vectorized_bigrams = count_bigram.fit_transform(X_train['lemmed_text'])"
   ]
  },
  {
   "cell_type": "code",
   "execution_count": 92,
   "id": "a69e2d53",
   "metadata": {
    "ExecuteTime": {
     "end_time": "2022-02-18T01:13:15.302548Z",
     "start_time": "2022-02-18T01:13:15.289584Z"
    }
   },
   "outputs": [],
   "source": [
    "smote_count = SMOTE(k_neighbors=3)\n",
    "X_train_resampled_bigram, y_train_resampled_bigram = smote_count.fit_resample(\n",
    "    X_count_vectorized_bigrams, y_train)"
   ]
  },
  {
   "cell_type": "code",
   "execution_count": 94,
   "id": "f707b8b9",
   "metadata": {
    "ExecuteTime": {
     "end_time": "2022-02-18T01:15:28.220040Z",
     "start_time": "2022-02-18T01:15:28.191639Z"
    }
   },
   "outputs": [
    {
     "name": "stdout",
     "output_type": "stream",
     "text": [
      "Baseline         : 0.8115468409586055\n",
      "Baseline bigrams : 0.7387799564270152\n"
     ]
    }
   ],
   "source": [
    "baseline_model_bigram = MultinomialNB()\n",
    "\n",
    "baseline_model_bigram.fit(X_train_resampled_bigram, y_train_resampled_bigram)\n",
    "\n",
    "baseline_bigram_cv = cross_val_score(baseline_model_bigram, X_train_resampled_bigram, y_train_resampled_bigram)\n",
    "print(\"Baseline         :\", baseline_cv.mean())\n",
    "print(\"Baseline bigrams :\", baseline_bigram_cv.mean())"
   ]
  },
  {
   "cell_type": "markdown",
   "id": "b200e06b",
   "metadata": {},
   "source": [
    "#### Using TF-IDF Vectorization"
   ]
  },
  {
   "cell_type": "code",
   "execution_count": 95,
   "id": "f8dbea6c",
   "metadata": {
    "ExecuteTime": {
     "end_time": "2022-02-18T01:17:28.950394Z",
     "start_time": "2022-02-18T01:17:28.912373Z"
    }
   },
   "outputs": [],
   "source": [
    "tfidf = TfidfVectorizer(max_features=60)\n",
    "X_train_vectorized_tfidf = tfidf.fit_transform(X_train['lemmed_text'])"
   ]
  },
  {
   "cell_type": "code",
   "execution_count": 96,
   "id": "c363c059",
   "metadata": {
    "ExecuteTime": {
     "end_time": "2022-02-18T01:17:29.442085Z",
     "start_time": "2022-02-18T01:17:29.428002Z"
    }
   },
   "outputs": [],
   "source": [
    "smote_count = SMOTE(k_neighbors=3)\n",
    "X_train_resampled_tfidf, y_train_resampled_tfidf = smote_count.fit_resample(\n",
    "    X_train_vectorized_tfidf, y_train)"
   ]
  },
  {
   "cell_type": "code",
   "execution_count": 97,
   "id": "f0ead1f4",
   "metadata": {
    "ExecuteTime": {
     "end_time": "2022-02-18T01:17:30.040842Z",
     "start_time": "2022-02-18T01:17:30.015256Z"
    }
   },
   "outputs": [
    {
     "name": "stdout",
     "output_type": "stream",
     "text": [
      "Baseline         : 0.8115468409586055\n",
      "Baseline bigrams : 0.7387799564270152\n",
      "Baseline TFIDF   : 0.6858387799564271\n"
     ]
    }
   ],
   "source": [
    "baseline_model_tfidf = MultinomialNB()\n",
    "\n",
    "baseline_model_tfidf.fit(X_train_resampled_tfidf, y_train_resampled_tfidf)\n",
    "\n",
    "baseline_tfidf_cv = cross_val_score(baseline_model_tfidf, X_train_resampled_tfidf, y_train_resampled_tfidf)\n",
    "print(\"Baseline         :\", baseline_cv.mean())\n",
    "print(\"Baseline bigrams :\", baseline_bigram_cv.mean())\n",
    "print(\"Baseline TF-IDF  :\", baseline_tfidf_cv.mean())"
   ]
  },
  {
   "cell_type": "code",
   "execution_count": null,
   "id": "6f85e091",
   "metadata": {},
   "outputs": [],
   "source": []
  },
  {
   "cell_type": "code",
   "execution_count": null,
   "id": "ab4c94c8",
   "metadata": {},
   "outputs": [],
   "source": []
  },
  {
   "cell_type": "code",
   "execution_count": null,
   "id": "2f5c98b4",
   "metadata": {},
   "outputs": [],
   "source": []
  },
  {
   "cell_type": "code",
   "execution_count": null,
   "id": "d41ef565",
   "metadata": {},
   "outputs": [],
   "source": []
  },
  {
   "cell_type": "code",
   "execution_count": null,
   "id": "3474b97c",
   "metadata": {},
   "outputs": [],
   "source": []
  },
  {
   "cell_type": "code",
   "execution_count": null,
   "id": "4f5c1072",
   "metadata": {},
   "outputs": [],
   "source": []
  },
  {
   "cell_type": "code",
   "execution_count": null,
   "id": "6067e841",
   "metadata": {},
   "outputs": [],
   "source": []
  },
  {
   "cell_type": "code",
   "execution_count": null,
   "id": "bf111584",
   "metadata": {},
   "outputs": [],
   "source": []
  },
  {
   "cell_type": "code",
   "execution_count": null,
   "id": "44af8fe5",
   "metadata": {},
   "outputs": [],
   "source": []
  },
  {
   "cell_type": "code",
   "execution_count": null,
   "id": "5e491d6a",
   "metadata": {},
   "outputs": [],
   "source": []
  },
  {
   "cell_type": "code",
   "execution_count": null,
   "id": "1301b07b",
   "metadata": {},
   "outputs": [],
   "source": []
  },
  {
   "cell_type": "code",
   "execution_count": null,
   "id": "34b0356c",
   "metadata": {},
   "outputs": [],
   "source": []
  },
  {
   "cell_type": "code",
   "execution_count": null,
   "id": "4505c213",
   "metadata": {},
   "outputs": [],
   "source": []
  },
  {
   "cell_type": "code",
   "execution_count": null,
   "id": "9ed3208f",
   "metadata": {},
   "outputs": [],
   "source": []
  },
  {
   "cell_type": "code",
   "execution_count": null,
   "id": "fc98f48d",
   "metadata": {},
   "outputs": [],
   "source": []
  },
  {
   "cell_type": "code",
   "execution_count": null,
   "id": "ed8eefc5",
   "metadata": {},
   "outputs": [],
   "source": []
  },
  {
   "cell_type": "code",
   "execution_count": null,
   "id": "aea30db7",
   "metadata": {},
   "outputs": [],
   "source": []
  }
 ],
 "metadata": {
  "hide_input": false,
  "kernelspec": {
   "display_name": "Python 3 (ipykernel)",
   "language": "python",
   "name": "python3"
  },
  "language_info": {
   "codemirror_mode": {
    "name": "ipython",
    "version": 3
   },
   "file_extension": ".py",
   "mimetype": "text/x-python",
   "name": "python",
   "nbconvert_exporter": "python",
   "pygments_lexer": "ipython3",
   "version": "3.9.7"
  }
 },
 "nbformat": 4,
 "nbformat_minor": 5
}
